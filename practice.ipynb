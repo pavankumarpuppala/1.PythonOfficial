{
 "cells": [
  {
   "cell_type": "code",
   "execution_count": 14,
   "metadata": {},
   "outputs": [],
   "source": [
    "class MyClass:\n",
    "    \"\"\"documnetation string\"\"\"\n",
    "    \n",
    "    \"\"\"this function is to create a db connection\"\"\"\n",
    "    def pyodbcobject():\n",
    "    \n",
    "        pass"
   ]
  },
  {
   "cell_type": "code",
   "execution_count": 15,
   "metadata": {},
   "outputs": [
    {
     "name": "stdout",
     "output_type": "stream",
     "text": [
      "Help on class MyClass in module __main__:\n",
      "\n",
      "class MyClass(builtins.object)\n",
      " |  documnetation string\n",
      " |  \n",
      " |  Methods defined here:\n",
      " |  \n",
      " |  pyodbcobject()\n",
      " |  \n",
      " |  ----------------------------------------------------------------------\n",
      " |  Data descriptors defined here:\n",
      " |  \n",
      " |  __dict__\n",
      " |      dictionary for instance variables (if defined)\n",
      " |  \n",
      " |  __weakref__\n",
      " |      list of weak references to the object (if defined)\n",
      "\n"
     ]
    }
   ],
   "source": [
    "help(MyClass)"
   ]
  },
  {
   "cell_type": "code",
   "execution_count": 16,
   "metadata": {},
   "outputs": [
    {
     "name": "stdout",
     "output_type": "stream",
     "text": [
      "documnetation string\n"
     ]
    }
   ],
   "source": [
    "print(MyClass.__doc__)"
   ]
  },
  {
   "cell_type": "code",
   "execution_count": 29,
   "metadata": {},
   "outputs": [],
   "source": [
    "class Student:\n",
    "    \"\"\"student details in a class\"\"\"\n",
    "    def __init__(self):\n",
    "        self.name = \"pawan\"\n",
    "        self.age = 29\n",
    "        self.qual = \"btech\"\n",
    "        print(\"conctructir called\")"
   ]
  },
  {
   "cell_type": "code",
   "execution_count": 30,
   "metadata": {},
   "outputs": [
    {
     "name": "stdout",
     "output_type": "stream",
     "text": [
      "conctructir called\n",
      "conctructir called\n"
     ]
    }
   ],
   "source": [
    "s = Student()\n",
    "s1=Student()\n",
    "#print(\"Hello I'm\",s.name,\"my age is\",s.age,\"i've completed\",s.qual)"
   ]
  },
  {
   "cell_type": "code",
   "execution_count": 35,
   "metadata": {},
   "outputs": [
    {
     "name": "stdout",
     "output_type": "stream",
     "text": [
      "Hello I'mpawanmy age is 29 i've completed btech\n"
     ]
    }
   ],
   "source": [
    "print(\"Hello I'm{}my age is {} i've completed {}\".format(s.name, s.age,s.qual))"
   ]
  },
  {
   "cell_type": "code",
   "execution_count": 42,
   "metadata": {},
   "outputs": [],
   "source": [
    "class Student:\n",
    "    \"\"\"student details in a class\"\"\"\n",
    "    def __init__(self):\n",
    "        self.name = \"pawan\"\n",
    "        self.age = 29\n",
    "        self.qual = \"btech\"\n",
    "        \n",
    "    def m1(self):\n",
    "        self.college = \"BVRIT\""
   ]
  },
  {
   "cell_type": "code",
   "execution_count": 45,
   "metadata": {},
   "outputs": [
    {
     "data": {
      "text/plain": [
       "{'name': 'pawan',\n",
       " 'age': 29,\n",
       " 'qual': 'btech',\n",
       " 'phone': '8143256414',\n",
       " 'college': 'BVRIT'}"
      ]
     },
     "execution_count": 45,
     "metadata": {},
     "output_type": "execute_result"
    }
   ],
   "source": [
    "s = Student()\n",
    "s.phone = \"8143256414\"\n",
    "s.m1()\n",
    "s.__dict__"
   ]
  },
  {
   "cell_type": "code",
   "execution_count": 61,
   "metadata": {},
   "outputs": [],
   "source": [
    "class Test:\n",
    "    a = 10\n",
    "    \n",
    "    def __init__(self):\n",
    "        Test.b = 20\n",
    "        \n",
    "    def m1(self):\n",
    "        Test.c=30\n",
    "     \n",
    "    @classmethod\n",
    "    def m2(cls):\n",
    "        Test.d = 40\n",
    "    \n",
    "    @staticmethod\n",
    "    def m3():\n",
    "        Test.e = 50"
   ]
  },
  {
   "cell_type": "code",
   "execution_count": 63,
   "metadata": {},
   "outputs": [
    {
     "name": "stdout",
     "output_type": "stream",
     "text": [
      "{'__module__': '__main__', 'a': 10, '__init__': <function Test.__init__ at 0x0000022BD4F291E0>, 'm1': <function Test.m1 at 0x0000022BD4F292F0>, 'm2': <classmethod object at 0x0000022BD4F4F780>, 'm3': <staticmethod object at 0x0000022BD4F4FB70>, '__dict__': <attribute '__dict__' of 'Test' objects>, '__weakref__': <attribute '__weakref__' of 'Test' objects>, '__doc__': None, 'b': 20, 'c': 30, 'd': 40, 'e': 50}\n",
      "{'__module__': '__main__', 'a': 10, '__init__': <function Test.__init__ at 0x0000022BD4F291E0>, 'm1': <function Test.m1 at 0x0000022BD4F292F0>, 'm2': <classmethod object at 0x0000022BD4F4F780>, 'm3': <staticmethod object at 0x0000022BD4F4FB70>, '__dict__': <attribute '__dict__' of 'Test' objects>, '__weakref__': <attribute '__weakref__' of 'Test' objects>, '__doc__': None, 'b': 20, 'c': 30, 'd': 40, 'e': 50}\n",
      "{'__module__': '__main__', 'a': 10, '__init__': <function Test.__init__ at 0x0000022BD4F291E0>, 'm1': <function Test.m1 at 0x0000022BD4F292F0>, 'm2': <classmethod object at 0x0000022BD4F4F780>, 'm3': <staticmethod object at 0x0000022BD4F4FB70>, '__dict__': <attribute '__dict__' of 'Test' objects>, '__weakref__': <attribute '__weakref__' of 'Test' objects>, '__doc__': None, 'b': 20, 'c': 30, 'd': 40, 'e': 50}\n",
      "{'__module__': '__main__', 'a': 10, '__init__': <function Test.__init__ at 0x0000022BD4F291E0>, 'm1': <function Test.m1 at 0x0000022BD4F292F0>, 'm2': <classmethod object at 0x0000022BD4F4F780>, 'm3': <staticmethod object at 0x0000022BD4F4FB70>, '__dict__': <attribute '__dict__' of 'Test' objects>, '__weakref__': <attribute '__weakref__' of 'Test' objects>, '__doc__': None, 'b': 20, 'c': 30, 'd': 40, 'e': 50}\n",
      "{'__module__': '__main__', 'a': 10, '__init__': <function Test.__init__ at 0x0000022BD4F291E0>, 'm1': <function Test.m1 at 0x0000022BD4F292F0>, 'm2': <classmethod object at 0x0000022BD4F4F780>, 'm3': <staticmethod object at 0x0000022BD4F4FB70>, '__dict__': <attribute '__dict__' of 'Test' objects>, '__weakref__': <attribute '__weakref__' of 'Test' objects>, '__doc__': None, 'b': 20, 'c': 30, 'd': 40, 'e': 50}\n"
     ]
    }
   ],
   "source": [
    "print(Test.__dict__)\n",
    "t = Test()\n",
    "print(Test.__dict__)\n",
    "t.m1()\n",
    "print(Test.__dict__)\n",
    "\n",
    "Test.m2()\n",
    "print(Test.__dict__)\n",
    "\n",
    "Test.m3()\n",
    "print(Test.__dict__)\n",
    "\n",
    "t.f = 60"
   ]
  },
  {
   "cell_type": "code",
   "execution_count": 68,
   "metadata": {},
   "outputs": [],
   "source": [
    "class Test:\n",
    "    a = 10\n",
    "    \n",
    "    def __init__(self):\n",
    "        print(self.a)\n",
    "        print(Test.a)\n",
    "        \n",
    "    def m1(self):\n",
    "        print(self.a)\n",
    "        print(Test.a)\n",
    "     \n",
    "    @classmethod\n",
    "    def m2(cls):\n",
    "        print(cls.a)\n",
    "        print(Test.a)\n",
    "    \n",
    "    @staticmethod\n",
    "    def m3():\n",
    "        print(Test.a)"
   ]
  },
  {
   "cell_type": "code",
   "execution_count": 72,
   "metadata": {},
   "outputs": [
    {
     "name": "stdout",
     "output_type": "stream",
     "text": [
      "10\n",
      "10\n",
      "10\n",
      "10\n",
      "10\n",
      "10\n",
      "10\n"
     ]
    }
   ],
   "source": [
    "t = Test()\n",
    "#t.__init__()\n",
    "t.m1()\n",
    "t.m2()\n",
    "t.m3()"
   ]
  },
  {
   "cell_type": "code",
   "execution_count": null,
   "metadata": {},
   "outputs": [],
   "source": []
  }
 ],
 "metadata": {
  "kernelspec": {
   "display_name": "Python 3",
   "language": "python",
   "name": "python3"
  },
  "language_info": {
   "codemirror_mode": {
    "name": "ipython",
    "version": 3
   },
   "file_extension": ".py",
   "mimetype": "text/x-python",
   "name": "python",
   "nbconvert_exporter": "python",
   "pygments_lexer": "ipython3",
   "version": "3.6.5"
  }
 },
 "nbformat": 4,
 "nbformat_minor": 2
}
