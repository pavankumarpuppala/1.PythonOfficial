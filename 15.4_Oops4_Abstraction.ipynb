{
 "cells": [
  {
   "cell_type": "markdown",
   "metadata": {},
   "source": [
    "1. Abstract Method\n",
    "2. Abstract class \n",
    "3. Interface \n",
    "4. Public,Private and Protected Members \n",
    "5. _str__() method \n",
    "6. Difference between str() and repr() functions\n",
    "7. Small Banking Application"
   ]
  },
  {
   "cell_type": "markdown",
   "metadata": {},
   "source": [
    "# 1. Abstract Method:\n",
    "- Sometimes we don't know about implementation,still we can declare a method. Such type of methods are called abstract methods.i.e abstract method has only declaration but not implementation. \n",
    "- In python we can declare abstract method by using @abstractmethod decorator as follows."
   ]
  },
  {
   "cell_type": "code",
   "execution_count": 1,
   "metadata": {},
   "outputs": [],
   "source": [
    "from abc import *\n",
    "\n",
    "class Vehicle:\n",
    "    @abstractmethod\n",
    "    def power_wheels(self):         # without knowing the type of vehicle how can we say that it is two power wheels or 4x4\n",
    "        pass"
   ]
  },
  {
   "cell_type": "markdown",
   "metadata": {},
   "source": [
    "- @abstractmethod decorator present in abc module. Hence compulsory we should import abc module,otherwise we will get <b>NameError: name 'abstractmethod' is not defined</b>\n",
    "- abc==>abstract base class module"
   ]
  },
  {
   "cell_type": "code",
   "execution_count": 2,
   "metadata": {},
   "outputs": [],
   "source": [
    "from abc import *\n",
    "\n",
    "class Fruit:\n",
    "    @abstractmethod\n",
    "    def taste(self):\n",
    "        pass"
   ]
  },
  {
   "cell_type": "markdown",
   "metadata": {},
   "source": [
    "<b>NOTE: Child classes are responsible to provide implemention for parent class abstract methods.</b><br>"
   ]
  },
  {
   "cell_type": "markdown",
   "metadata": {},
   "source": [
    "#### what happens when we provide the implementation in parent class ?\n",
    " -  we won't get any error it is consider as dummy implementation."
   ]
  },
  {
   "cell_type": "markdown",
   "metadata": {},
   "source": [
    "# 2. Abstract class:\n",
    "- Some times implementation of a class is not complete,such type of partially implementation classes are called abstract classes. \n",
    "- Every abstract class in Python should be derived from ABC class which is present in abc module."
   ]
  },
  {
   "cell_type": "code",
   "execution_count": 3,
   "metadata": {},
   "outputs": [],
   "source": [
    "from abc import *\n",
    "class Test:\n",
    "    pass\n",
    "\n",
    "t = Test()"
   ]
  },
  {
   "cell_type": "markdown",
   "metadata": {},
   "source": [
    "- In the above code we can create object for Test class b'z it is concrete class and it does not conatin any abstract method."
   ]
  },
  {
   "cell_type": "code",
   "execution_count": 4,
   "metadata": {},
   "outputs": [],
   "source": [
    "from abc import *\n",
    "class Test(ABC):\n",
    "    pass\n",
    "\n",
    "t = Test()"
   ]
  },
  {
   "cell_type": "markdown",
   "metadata": {},
   "source": [
    "- In the above code we can create object,even it is derived from ABC class,b'z it does not contain any abstract method"
   ]
  },
  {
   "cell_type": "code",
   "execution_count": 5,
   "metadata": {},
   "outputs": [],
   "source": [
    "from abc import *\n",
    "class Test(ABC):\n",
    "    @abstractmethod\n",
    "    def m1(self):\n",
    "        pass\n",
    "\n",
    "#t = Test()           "
   ]
  },
  {
   "cell_type": "markdown",
   "metadata": {},
   "source": [
    "-  TypeError: Can't instantiate abstract class Test with abstract methods m1"
   ]
  },
  {
   "cell_type": "code",
   "execution_count": 6,
   "metadata": {},
   "outputs": [],
   "source": [
    "from abc import *\n",
    "class Test:\n",
    "    @abstractmethod\n",
    "    def m1(self):\n",
    "        pass\n",
    "\n",
    "t = Test()          "
   ]
  },
  {
   "cell_type": "markdown",
   "metadata": {},
   "source": [
    "- We can create object even class contains abstract method b'z we are not extending ABC class."
   ]
  },
  {
   "cell_type": "code",
   "execution_count": 7,
   "metadata": {},
   "outputs": [
    {
     "name": "stdout",
     "output_type": "stream",
     "text": [
      "hello\n"
     ]
    }
   ],
   "source": [
    "from abc import *\n",
    "class Test:\n",
    "    @abstractmethod\n",
    "    def m1(self):\n",
    "        print(\"hello\")\n",
    "\n",
    "t = Test() \n",
    "t.m1()"
   ]
  },
  {
   "cell_type": "markdown",
   "metadata": {},
   "source": [
    "- Conclusion: If a class contains atleast one abstract method and if we are extending ABC class then instantiation is not possible.\n",
    "- \"abstract class with abstract method instantiation is not possible\"\n",
    "- Parent class abstract methods should be implemented in the child classes. otherwise we cannot instantiate child class.If we are not creating child class object then we won't get any error."
   ]
  },
  {
   "cell_type": "markdown",
   "metadata": {},
   "source": [
    "#### Abstract class and Abstract method:\n",
    "- abstract class can contain any number of abstract methods including zero number also\n",
    "- abstract class contain normal methods also\n",
    "\n",
    "#### When object creation is not possible\n",
    "- if class is abstract and it contains atleast one abstract method then only instation is not possible`"
   ]
  },
  {
   "cell_type": "markdown",
   "metadata": {},
   "source": [
    "#### Case1: it is valid beaccuse we are not creating child class oject "
   ]
  },
  {
   "cell_type": "code",
   "execution_count": 3,
   "metadata": {},
   "outputs": [],
   "source": [
    "from abc import *\n",
    "\n",
    "class Vehicle(ABC):\n",
    "    \n",
    "    @abstractmethod\n",
    "    def noOfWheels(self):\n",
    "        pass\n",
    "    \n",
    "class Bus(Vehicle):\n",
    "    pass"
   ]
  },
  {
   "cell_type": "markdown",
   "metadata": {},
   "source": [
    "#### Case-2:TypeError: Can't instantiate abstract class Bus with abstract methods noOfWheels"
   ]
  },
  {
   "cell_type": "code",
   "execution_count": 5,
   "metadata": {},
   "outputs": [],
   "source": [
    "from abc import *\n",
    "\n",
    "class Vehicle(ABC):\n",
    "    \n",
    "    @abstractmethod\n",
    "    def noOfWheels(self):\n",
    "        pass\n",
    "    \n",
    "class Bus(Vehicle):\n",
    "    pass\n",
    "\n",
    "#b = Bus()"
   ]
  },
  {
   "cell_type": "markdown",
   "metadata": {},
   "source": [
    "#### Note: If we are extending abstract class and does not override its abstract method then child class is also abstract and instantiation is not possible."
   ]
  },
  {
   "cell_type": "code",
   "execution_count": 11,
   "metadata": {},
   "outputs": [
    {
     "name": "stdout",
     "output_type": "stream",
     "text": [
      "7\n",
      "2\n"
     ]
    }
   ],
   "source": [
    "from abc import *\n",
    "\n",
    "class Vehicle(ABC):\n",
    "    \n",
    "    @abstractmethod\n",
    "    def noOfWheels(self):\n",
    "        pass\n",
    "    \n",
    "class Bus(Vehicle):\n",
    "    def noOfWheels(self):\n",
    "        return 7\n",
    "    \n",
    "class Scooter(Vehicle):\n",
    "    def noOfWheels(self):\n",
    "        return 2\n",
    "\n",
    "b = Bus()\n",
    "print(b.noOfWheels())\n",
    "\n",
    "s = Scooter()\n",
    "print(s.noOfWheels())"
   ]
  },
  {
   "cell_type": "markdown",
   "metadata": {},
   "source": [
    "#### Note: Abstract class can contain both abstract and non-abstract methods also."
   ]
  },
  {
   "cell_type": "markdown",
   "metadata": {},
   "source": [
    "#### Q.) what is the advantage of taking abstract method in parent class?\n",
    "- complusory we should have to provide the implementation for abstract method in child class"
   ]
  },
  {
   "cell_type": "code",
   "execution_count": 14,
   "metadata": {},
   "outputs": [
    {
     "data": {
      "text/plain": [
       "8"
      ]
     },
     "execution_count": 14,
     "metadata": {},
     "output_type": "execute_result"
    }
   ],
   "source": [
    "from abc import *\n",
    "\n",
    "class Vehicle(ABC):\n",
    "    \n",
    "    @abstractmethod\n",
    "    def noOfWheels(self):\n",
    "        pass\n",
    "    \n",
    "class Bus(Vehicle):\n",
    "    pass\n",
    "    \n",
    "class Volvo(Bus):\n",
    "    def noOfWheels(self):\n",
    "        return 8\n",
    "    \n",
    "#b = Bus()      #TypeError: Can't instantiate abstract class Bus with abstract methods noOfWheels\n",
    "v = Volvo()\n",
    "v.noOfWheels()"
   ]
  },
  {
   "cell_type": "code",
   "execution_count": 16,
   "metadata": {},
   "outputs": [],
   "source": [
    "from abc import *\n",
    "\n",
    "class P(ABC):\n",
    "    \n",
    "    @abstractmethod\n",
    "    def m1(self):pass\n",
    "    \n",
    "    @abstractmethod\n",
    "    def m2(self):pass\n",
    "    \n",
    "class C(P):\n",
    "    def m1(self):\n",
    "        print(\"m1 implementation\")\n",
    "        \n",
    "#c=C()\n",
    "#c.m1()   #TypeError: Can't instantiate abstract class C with abstract methods m2"
   ]
  },
  {
   "cell_type": "code",
   "execution_count": 17,
   "metadata": {},
   "outputs": [
    {
     "name": "stdout",
     "output_type": "stream",
     "text": [
      "m1 implementation\n",
      "m2 implementation\n"
     ]
    }
   ],
   "source": [
    "from abc import *\n",
    "\n",
    "class P(ABC):\n",
    "    \n",
    "    @abstractmethod\n",
    "    def m1(self):pass\n",
    "    \n",
    "    @abstractmethod\n",
    "    def m2(self):pass\n",
    "    \n",
    "class C(P):\n",
    "    def m1(self):\n",
    "        print(\"m1 implementation\")\n",
    "\n",
    "class CC(C):\n",
    "    def m2(self):\n",
    "        print(\"m2 implementation\")\n",
    "        \n",
    "c=CC()\n",
    "c.m1()   \n",
    "c.m2()"
   ]
  },
  {
   "cell_type": "code",
   "execution_count": 18,
   "metadata": {},
   "outputs": [
    {
     "name": "stdout",
     "output_type": "stream",
     "text": [
      "M1 Implementaiton\n",
      "M2 implementation\n"
     ]
    }
   ],
   "source": [
    "from abc import *\n",
    "\n",
    "class P(ABC):\n",
    "    \n",
    "    @abstractmethod\n",
    "    def m1(self):pass\n",
    "    \n",
    "    def m2(self):\n",
    "        print(\"M2 implementation\")\n",
    "        \n",
    "class C(P):\n",
    "    def m1(self):\n",
    "        print(\"M1 Implementaiton\")\n",
    "        \n",
    "c = C()\n",
    "c.m1()\n",
    "c.m2()"
   ]
  },
  {
   "cell_type": "markdown",
   "metadata": {},
   "source": [
    "# 3. Interface\n",
    "- In general if an abstract class contains only abstract methods such type of abstract class is considered as interface."
   ]
  },
  {
   "cell_type": "markdown",
   "metadata": {},
   "source": [
    "#### Diff between abstract class and Interface\n",
    "- Abstract class contains both abstract and concrete methods\n",
    "- interface contains only abstract methods"
   ]
  },
  {
   "cell_type": "markdown",
   "metadata": {},
   "source": [
    "#### Example: we want to construct a building of 1000 floors\n",
    "- Plan                              --> Interface\n",
    "- After 1 years 200 floors completed --> Abstract class(partially completed)\n",
    "- after 3 years 1000 floors completed --> Concrete class(fully completed)"
   ]
  },
  {
   "cell_type": "code",
   "execution_count": 6,
   "metadata": {},
   "outputs": [
    {
     "name": "stdout",
     "output_type": "stream",
     "text": [
      "Enter DB name:Oracle\n",
      "Connecting to Oracle DB\n",
      "Disconnecting to Oracle DB\n"
     ]
    }
   ],
   "source": [
    "from abc import *\n",
    "\n",
    "class DBInterface(ABC):\n",
    "    \n",
    "    @abstractmethod\n",
    "    def connect(self):pass\n",
    "    \n",
    "    @abstractmethod\n",
    "    def disconnect(self):pass\n",
    "    \n",
    "class Oracle(DBInterface):\n",
    "    \n",
    "    def connect(self):\n",
    "        print(\"Connecting to Oracle DB\")\n",
    "    def disconnect(self):\n",
    "        print(\"Disconnecting to Oracle DB\")\n",
    "        \n",
    "class Mysql(DBInterface):\n",
    "    \n",
    "    def connect(self):\n",
    "        print(\"Connecting to Mysql DB\")\n",
    "    def disconnect(self):\n",
    "        print(\"Disconnecting to Mysql DB\")\n",
    "        \n",
    "#o = Oracle()\n",
    "#o.connect()\n",
    "#o.disconnect()\n",
    "\n",
    "db = input(\"Enter DB name:\")\n",
    "classname = globals()[db]\n",
    "x = classname()\n",
    "x.connect()\n",
    "x.disconnect()"
   ]
  },
  {
   "cell_type": "markdown",
   "metadata": {},
   "source": [
    "#### Note: The inbuilt function globals()[str] converts the string 'str' into a class name and returns the classname."
   ]
  },
  {
   "cell_type": "code",
   "execution_count": null,
   "metadata": {},
   "outputs": [],
   "source": []
  },
  {
   "cell_type": "markdown",
   "metadata": {},
   "source": [
    "### Inteface vs  Abstract Class vs Concreate class:\n",
    "- If we dont know anything about implementation just we have requirement specification then we should go for interface.(<b>only Abstract methods</b>) \n",
    "- If we are talking about implementation but not completely then we should go for abstract class.(partially implemented class)(<b>both abstract and concrete methods</b>)\n",
    "- If we are talking about implementation completely and ready to provide service then we should go for concrete class.(<b>only concrete methods</b>)"
   ]
  },
  {
   "cell_type": "code",
   "execution_count": 8,
   "metadata": {},
   "outputs": [
    {
     "name": "stdout",
     "output_type": "stream",
     "text": [
      "VIT\n",
      "Mechanical\n",
      "student name\n"
     ]
    }
   ],
   "source": [
    "from abc import *\n",
    "\n",
    "class University(ABC):                       # Interface\n",
    "    \n",
    "    @abstractmethod\n",
    "    def collegeName(self):pass\n",
    "    \n",
    "    @abstractmethod\n",
    "    def branch(self):pass\n",
    "    \n",
    "    @abstractmethod\n",
    "    def student(self):pass\n",
    "    \n",
    "class College(University):                  # Abstract class\n",
    "    def collegeName(self):\n",
    "        print(\"VIT\")\n",
    "        \n",
    "    def branch(self):\n",
    "        print(\"Mechanical\")\n",
    "        \n",
    "class Details(College):\n",
    "    def student(self):\n",
    "        print(\"student name\")\n",
    "        \n",
    "d = Details()\n",
    "d.collegeName()\n",
    "d.branch()\n",
    "d.student()"
   ]
  },
  {
   "cell_type": "markdown",
   "metadata": {},
   "source": [
    "### Public, Protected and Private Attributes:"
   ]
  },
  {
   "cell_type": "markdown",
   "metadata": {},
   "source": [
    "- By default every attribute is public. We can access from anywhere either within the class or from outside of the class.\n",
    "- Ex: name = \"pawan\""
   ]
  },
  {
   "cell_type": "markdown",
   "metadata": {},
   "source": [
    "- Protected attributes can be accessed within the class anywhere but from outside of the class only in child classes. We can specify an attribute as protected by prefexing with _ symbol.\n",
    "- But is is just convention and in reality does not exists protected attributes.\n",
    "- Ex: _name = \"pawan\""
   ]
  },
  {
   "cell_type": "markdown",
   "metadata": {},
   "source": [
    "- private attributes can be accessed only within the class.i.e from outside of the class we cannot access. We can declare a variable as private explicitly by prefexing with 2 underscore symbols.\n",
    "- Ex: __name = \"pawan\""
   ]
  },
  {
   "cell_type": "code",
   "execution_count": 11,
   "metadata": {},
   "outputs": [],
   "source": [
    "class Test:\n",
    "    x = 10\n",
    "    _y = 20\n",
    "    __Z = 30\n",
    "    \n",
    "    def m1(self):\n",
    "        print(Test.x)\n",
    "        print(Test._y)\n",
    "        print(Test.__z)\n",
    "        \n",
    "t = Test()\n",
    "#t.m1()"
   ]
  },
  {
   "cell_type": "markdown",
   "metadata": {},
   "source": [
    "### How to access private variables from outside of the class:\n",
    "- We cannot access private variables directly from outside of the class. But we can access indirectly as follows"
   ]
  },
  {
   "cell_type": "code",
   "execution_count": 17,
   "metadata": {},
   "outputs": [
    {
     "name": "stdout",
     "output_type": "stream",
     "text": [
      "20\n",
      "10\n",
      "10\n"
     ]
    }
   ],
   "source": [
    "class Test:\n",
    "    __x = 10\n",
    "    def __init__(self):\n",
    "        self.__y = 20\n",
    "        \n",
    "t = Test()\n",
    "print(t._Test__y)\n",
    "print(t._Test__x)\n",
    "print(Test._Test__x)"
   ]
  },
  {
   "cell_type": "markdown",
   "metadata": {},
   "source": [
    "###__str__() method:\n",
    "- Whenever we are printing any object reference internally __str__() method will be called which is returns string in the following format"
   ]
  },
  {
   "cell_type": "code",
   "execution_count": 22,
   "metadata": {},
   "outputs": [
    {
     "name": "stdout",
     "output_type": "stream",
     "text": [
      "<__main__.Student object at 0x0000023395160F28>\n",
      "<__main__.Student object at 0x0000023395160F98>\n"
     ]
    }
   ],
   "source": [
    "class Student:\n",
    "    def __init__(self,name, rollno):\n",
    "        self.name = name\n",
    "        self.rollno = rollno\n",
    "        \n",
    "    #def __str__(self):\n",
    "        #return \"the student name:{} and rollno:{}\".format(self.name,self.rollno)\n",
    "    \n",
    "s1 = Student(\"pawan\",21)\n",
    "s2 = Student(\"kumar\",22)\n",
    "\n",
    "print(s1)\n",
    "print(s2)"
   ]
  },
  {
   "cell_type": "markdown",
   "metadata": {},
   "source": [
    "### Diff between str() and repr()"
   ]
  },
  {
   "cell_type": "code",
   "execution_count": 23,
   "metadata": {},
   "outputs": [
    {
     "data": {
      "image/png": "[encoded data removed]",
      "text/plain": [
       "<IPython.core.display.Image object>"
      ]
     },
     "execution_count": 23,
     "metadata": {},
     "output_type": "execute_result"
    }
   ],
   "source": [
    "from IPython.display import Image\n",
    "Image(\"E:/code/1.PythonOfficial/img/abs1.png\")"
   ]
  },
  {
   "cell_type": "code",
   "execution_count": 27,
   "metadata": {},
   "outputs": [
    {
     "name": "stdout",
     "output_type": "stream",
     "text": [
      "2021-02-19 18:57:32.790084\n"
     ]
    }
   ],
   "source": [
    "import datetime\n",
    "\n",
    "asof = datetime.datetime.now()\n",
    "s = str(asof)           #  converting date obj to str\n",
    "print(s)\n",
    "#d = eval(s)             #  converting str obj to datetime"
   ]
  },
  {
   "cell_type": "code",
   "execution_count": 33,
   "metadata": {},
   "outputs": [
    {
     "name": "stdout",
     "output_type": "stream",
     "text": [
      "datetime.datetime(2021, 2, 19, 18, 59, 2, 851394)\n",
      "2021-02-19 18:59:02.851394\n"
     ]
    }
   ],
   "source": [
    "import datetime\n",
    "\n",
    "asof = datetime.datetime.now()\n",
    "s = repr(asof)\n",
    "print(s)\n",
    "\n",
    "d = eval(s)\n",
    "print(d)"
   ]
  },
  {
   "cell_type": "markdown",
   "metadata": {},
   "source": [
    "### Note: It is recommended to use repr() instead of str()"
   ]
  },
  {
   "cell_type": "code",
   "execution_count": null,
   "metadata": {},
   "outputs": [],
   "source": []
  }
 ],
 "metadata": {
  "kernelspec": {
   "display_name": "Python 3",
   "language": "python",
   "name": "python3"
  },
  "language_info": {
   "codemirror_mode": {
    "name": "ipython",
    "version": 3
   },
   "file_extension": ".py",
   "mimetype": "text/x-python",
   "name": "python",
   "nbconvert_exporter": "python",
   "pygments_lexer": "ipython3",
   "version": "3.6.5"
  }
 },
 "nbformat": 4,
 "nbformat_minor": 2
}
