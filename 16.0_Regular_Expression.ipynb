{
 "cells": [
  {
   "cell_type": "markdown",
   "metadata": {},
   "source": [
    "## RE:\n",
    "- If we want to represent a group of Strings according to a particular format/pattern then we should go for Regular Expressions.\n",
    "- i.e Regualr Expressions is a declarative mechanism to represent a group of Strings accroding to particular format/pattern.\n",
    "    - Eg 1: We can write a regular expression to represent all mobile numbers\n",
    "    - Eg 2: We can write a regular expression to represent all mail ids."
   ]
  },
  {
   "cell_type": "code",
   "execution_count": null,
   "metadata": {},
   "outputs": [],
   "source": [
    "### The main important application areas of Regular Expressions are\n",
    "- 1. To develop validation frameworks/validation logic(pkumar.datascience@gmail.com)\n",
    "- 2. To develop Pattern matching applications (ctrl-f in windows, grep in UNIX etc)\n",
    "- 3. To develop Translators like compilers, interpreters etc\n",
    "- 4. To develop digital circuits\n",
    "- 5. To develop communication protocols like TCP/IP, UDP etc."
   ]
  }
 ],
 "metadata": {
  "kernelspec": {
   "display_name": "Python 3",
   "language": "python",
   "name": "python3"
  },
  "language_info": {
   "codemirror_mode": {
    "name": "ipython",
    "version": 3
   },
   "file_extension": ".py",
   "mimetype": "text/x-python",
   "name": "python",
   "nbconvert_exporter": "python",
   "pygments_lexer": "ipython3",
   "version": "3.6.5"
  }
 },
 "nbformat": 4,
 "nbformat_minor": 2
}
