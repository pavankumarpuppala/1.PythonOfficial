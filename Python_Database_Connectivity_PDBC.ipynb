{
 "cells": [
  {
   "cell_type": "markdown",
   "metadata": {},
   "source": [
    "### Storage Areas\n",
    "- As the Part of our Applications, we required to store our Data like Customers Information, Billing\n",
    "Information, Calls Information etc..\n",
    "- To store this Data, we required Storage Areas. There are 2 types of Storage Areas.\n",
    "    - Temporary Storage Areas\n",
    "    - Permanent Storage Areas\n",
    "    \n",
    "#### 1.Temporary Storage Areas: These are the Memory Areas where Data will be stored temporarily.\n",
    "- Eg: Python objects like List, Tuple, Dictionary.\n",
    "- Once Python program completes its execution then these objects will be destroyed automatically and data will be lost.\n",
    "\n",
    "#### 2. Permanent Storage Areas: Also known as Persistent Storage Areas. Here we can store Data permanently.\n",
    "- Eg: File Systems, Databases, Data warehouses, Big Data Technologies etc\n",
    "\n",
    "### File Systems:\n",
    "- File Systems can be provided by Local operating System. File Systems are best suitable to store very less Amount of Information.\n",
    "\n",
    "#### Limitaitons:\n",
    "- We cannot store huge Amount of Information.\n",
    "- There is no Query Language support and hence operations will become very complex.\n",
    "- There is no Security for Data.\n",
    "- There is no Mechanism to prevent duplicate Data. Hence there may be a chance of Data Inconsistency Problems.\n",
    "\n",
    "### Databases:\n",
    "- We can store Huge Amount of Information in the Databases.\n",
    "- Query Language Support is available for every Database and hence we can perform Database Operations very easily.\n",
    "- To access Data present in the Database, compulsory username and pwd must be required.Hence Data is secured.\n",
    "- Inside Database Data will be stored in the form of Tables. While developing Database Table\n",
    "    - Schemas, Database Admin follow various Normalization Techniques and can implement various\n",
    "    - Constraints like Unique Key Constrains, Primary Key Constraints etc which prevent Data Duplication. Hence there is no chance of Data Inconsistency Problems.\n",
    "    \n",
    "#### Limitations of Databases:\n",
    "- Database cannot hold very Huge Amount of Information like Terabytes of Data.\n",
    "- Database can provide support only for Structured Data (Tabular Data OR Relational Data) and cannot provide support for Semi Structured Data (like XML Files) and Unstructured Data (like Video Files, Audio Files, Images etc)\n",
    "- To overcome these Problems we should go for more Advanced Storage Areas like Big Data Technologies, Data warehouses etc."
   ]
  },
  {
   "cell_type": "markdown",
   "metadata": {},
   "source": [
    "### Python Database Programming:\n",
    "- Sometimes as the part of Programming requirement we have to connect to the database and we have to perform several operations like creating tables, inserting data,updating data,deleting data,selecting data etc.\n",
    "- We can use SQL Language to talk to the database and we can use Python to send those SQL commands to the database.\n",
    "- Python provides inbuilt support for several databases like Oracle, MySql, SqlServer, GadFly, sqlite, etc.\n",
    "- Python has seperate module for each database.\n",
    "    - Eg: cx_Oralce module for communicating with Oracle database\n",
    "    - pymssql module for communicating with Microsoft Sql Server"
   ]
  },
  {
   "cell_type": "markdown",
   "metadata": {},
   "source": [
    "### Standard Steps for Python database Programming:\n",
    "- Import database specific module\n",
    "    - import cx_Oracle\n",
    "    \n",
    "- Establish Connection between Python Program and database. We can create this Connection object by using connect() function of the module.\n",
    "    - con = cx_Oracle.connect('scott/tiger@localhost')\n",
    "    \n",
    "- To execute our sql queries and to hold results some special object is required, which is nothing but Cursor object. We can create Cursor object by using cursor() method.\n",
    "    - cursor = con.cursor()\n",
    "    \n",
    "- Execute SQL Queries By using Cursor object. For this we can use the following methods\n",
    "    - cursor.execute(sqlquery)        --> To execute a single sql query\n",
    "    - cursor.executescript(sqlqueries)--> To execute a string of sql queries seperated by semi-colon ';'\n",
    "    - cursor.executemany()            --> To execute a Parameterized query\n",
    "    - Eg: cursor.execute(\"select * from employees\")\n",
    "        \n",
    "- commit or rollback changes based on our requirement in the case of DML Queries(insert|update|delete)\n",
    "    - commit() --> Saves the changes to the database\n",
    "    - rollback() --> rolls all temporary changes back\n",
    "    \n",
    "- Fetch the result from the Cursor object in the case of select queries\n",
    "    - cursor.fetchone() --> To fetch only one row\n",
    "    - cursor.fetchall() --> To fetch all rows and it returns a list of rows\n",
    "    - cursor.fecthmany(n) --> To fetch first n rows\n",
    "        \n",
    "        - Eg 1: data =cursor.fetchone()\n",
    "                print(data)\n",
    "        - Eg 2: data=cursor.fetchall()\n",
    "                for row in data:\n",
    "                    print(row)\n",
    "                    \n",
    "- close the resources\n",
    "    After completing our operations it is highly recommended to close the resources in the reverse\n",
    "    order of their opening by using close() methods.\n",
    "    - cursor.close()\n",
    "    - con.close()"
   ]
  },
  {
   "cell_type": "markdown",
   "metadata": {},
   "source": [
    "<b>Note: The following is the list of all important methods which can be used for python database\n",
    "programming.</b>\n",
    "These methods won't be changed from database to database and same for all databases.\n",
    "- connect()\n",
    "- cursor()\n",
    "- execute()\n",
    "- executescript()\n",
    "- executemany()\n",
    "- commit()\n",
    "- rollback()\n",
    "- fetchone()\n",
    "- fetchall()\n",
    "- fetchmany(n)\n",
    "- fetch\n",
    "- close()"
   ]
  },
  {
   "cell_type": "markdown",
   "metadata": {},
   "source": [
    "### Working with Oracle DB\n",
    "- From Python Program if we want to communicate with any database,some translator must be required to translate Python calls into Database specific calls and Database specific calls into Python calls.This translator is nothing but Driver/Connector.\n",
    "- For Oracle database the name of driver needed is cx_Oracle.\n",
    "- cx_Oracle is a Python extension module that enables access to Oracle Database.It can be used for both Python2 and Python3.\n",
    "- It can work with any version of Oracle database like 9,10,11 and 12."
   ]
  },
  {
   "cell_type": "code",
   "execution_count": 2,
   "metadata": {},
   "outputs": [],
   "source": [
    "#!pip install cx_Oracle"
   ]
  },
  {
   "cell_type": "markdown",
   "metadata": {},
   "source": [
    "#### to install software: https://www.oracle.com/in/database/technologies/oracle-database-software-downloads.html\n",
    "- https://www.youtube.com/watch?v=91GhQSOqGDE&ab_channel=AmitThinks\""
   ]
  },
  {
   "cell_type": "markdown",
   "metadata": {},
   "source": [
    "### Working with MS Sql Server DB"
   ]
  },
  {
   "cell_type": "markdown",
   "metadata": {},
   "source": [
    "#### 1. Program to connect with SQL Server database and print its version."
   ]
  },
  {
   "cell_type": "code",
   "execution_count": 1,
   "metadata": {},
   "outputs": [
    {
     "name": "stdout",
     "output_type": "stream",
     "text": [
      "<sqlalchemy.pool.base._ConnectionFairy object at 0x0000027B89A9C9E8>\n",
      "Connection Established Successfully..\n"
     ]
    }
   ],
   "source": [
    "import pyodbc\n",
    "from sqlalchemy import create_engine\n",
    "\n",
    "server = 'PAVAN'\n",
    "dbname = 'COMPANY'\n",
    "connectionString = \"mssql+pyodbc://\"+server+\"/\"+dbname+\"?driver=SQL+Server\"\n",
    "\n",
    "engine = create_engine(connectionString)\n",
    "con = engine.raw_connection()\n",
    "print(con)\n",
    "if con != None:\n",
    "    print(\"Connection Established Successfully..\")\n",
    "else:\n",
    "    print(\"Connection not Established Successfully..\")\n",
    "con.close()"
   ]
  },
  {
   "cell_type": "markdown",
   "metadata": {},
   "source": [
    "#### 2.Write a program to drop employees table from SQL Server database?"
   ]
  },
  {
   "cell_type": "code",
   "execution_count": 46,
   "metadata": {},
   "outputs": [
    {
     "name": "stdout",
     "output_type": "stream",
     "text": [
      "Table dropped Successfully...\n"
     ]
    }
   ],
   "source": [
    "import pyodbc\n",
    "from sqlalchemy import create_engine\n",
    "\n",
    "try:\n",
    "    query = \"DROP TABLE Persons\"\n",
    "    engine = create_engine(connectionString)\n",
    "    con = engine.raw_connection()\n",
    "    cursor = con.cursor()\n",
    "    cursor.execute(query)\n",
    "    con.commit()\n",
    "    print(\"Table dropped Successfully...\")\n",
    "except pyodbc.DatabaseError as msg:\n",
    "    if con!=None:\n",
    "        con.rollback()\n",
    "        print(\"There is a problem with sql\",msg)\n",
    "finally:\n",
    "    if cursor:\n",
    "        cursor.close()\n",
    "    if con:\n",
    "        con.close()"
   ]
  },
  {
   "cell_type": "markdown",
   "metadata": {},
   "source": [
    "#### 3. Write a Program to create employees table in the SQL Server database"
   ]
  },
  {
   "cell_type": "code",
   "execution_count": 47,
   "metadata": {},
   "outputs": [
    {
     "name": "stdout",
     "output_type": "stream",
     "text": [
      "Table Created Successfully...\n"
     ]
    }
   ],
   "source": [
    "import pyodbc\n",
    "from sqlalchemy import create_engine\n",
    "\n",
    "try:\n",
    "    query = \"\"\"CREATE TABLE Persons (PersonID int,LastName varchar(255),FirstName varchar(255),Salary float,Address varchar(255),\n",
    "                    City varchar(255))\"\"\"\n",
    "    engine = create_engine(connectionString)\n",
    "    con = engine.raw_connection()\n",
    "    cursor = con.cursor()\n",
    "    cursor.execute(query)\n",
    "    con.commit()\n",
    "    print(\"Table Created Successfully...\")\n",
    "except pyodbc.DatabaseError as msg:\n",
    "    if con!=None:\n",
    "        con.rollback()\n",
    "        print(\"There is a problem with sql\",msg)\n",
    "finally:\n",
    "    if cursor:\n",
    "        cursor.close()\n",
    "    if con:\n",
    "        con.close()"
   ]
  },
  {
   "cell_type": "markdown",
   "metadata": {},
   "source": [
    "#### 4.Write a program to insert a single row in the employees table."
   ]
  },
  {
   "cell_type": "code",
   "execution_count": 48,
   "metadata": {},
   "outputs": [
    {
     "name": "stdout",
     "output_type": "stream",
     "text": [
      "Data Inserted Successfully...\n"
     ]
    }
   ],
   "source": [
    "import pyodbc\n",
    "from sqlalchemy import create_engine\n",
    "\n",
    "try:\n",
    "    query = \"\"\"INSERT INTO Persons (PersonID, LastName, FirstName, Salary, Address, City) \n",
    "               VALUES (1,'Pavan Kumar', 'Puppala', 1000, 'WG Dist', 'Bhimavaram');\"\"\"\n",
    "    engine = create_engine(connectionString)\n",
    "    con = engine.raw_connection()\n",
    "    cursor = con.cursor()\n",
    "    cursor.execute(query)\n",
    "    con.commit()\n",
    "    print(\"Data Inserted Successfully...\")\n",
    "except pyodbc.DatabaseError as msg:\n",
    "    if con!=None:\n",
    "        con.rollback()\n",
    "        print(\"There is a problem with sql\",msg)\n",
    "finally:\n",
    "    if cursor:\n",
    "        cursor.close()\n",
    "    if con:\n",
    "        con.close()"
   ]
  },
  {
   "cell_type": "markdown",
   "metadata": {},
   "source": [
    "#### Note: While performing DML Operations (insert|update|delte), compulsory we have to use commit() method,then only the results will be reflected in the database.`"
   ]
  },
  {
   "cell_type": "markdown",
   "metadata": {},
   "source": [
    "#### 5.Write a program to insert multiple rows in the employees table by using executemany() method."
   ]
  },
  {
   "cell_type": "code",
   "execution_count": 52,
   "metadata": {},
   "outputs": [
    {
     "name": "stdout",
     "output_type": "stream",
     "text": [
      "Records Inserted Successfully...\n"
     ]
    }
   ],
   "source": [
    "import pyodbc\n",
    "from sqlalchemy import create_engine\n",
    "\n",
    "try:\n",
    "    engine = create_engine(connectionString)\n",
    "    con = engine.raw_connection()\n",
    "    cursor = con.cursor()\n",
    "    query = \"\"\"INSERT INTO Persons VALUES(%d, %s, %s, %f, %s, %s)\"\"\"\n",
    "    records = [(2,'Surya', 'Kumar',2000, 'madhapur', 'Hyderabad'),(3,'Virat', 'Kohli',3000, 'Kondapur', 'Hyderabad'),\n",
    "               (4,'Rahul', 'Dravid',4000, 'KPHB', 'Hyderabad')]\n",
    "    \n",
    "    cursor.executemany(\"INSERT INTO Persons VALUES(?, ?, ?, ?, ?, ?)\", records)\n",
    "    con.commit()\n",
    "    print(\"Records Inserted Successfully...\")\n",
    "except pyodbc.DatabaseError as msg:\n",
    "    if con!=None:\n",
    "        con.rollback()\n",
    "        print(\"There is a problem with sql\",msg)\n",
    "finally:\n",
    "    if cursor:\n",
    "        cursor.close()\n",
    "    if con:\n",
    "        con.close()"
   ]
  },
  {
   "cell_type": "markdown",
   "metadata": {},
   "source": [
    "##### method 2: using pandas"
   ]
  },
  {
   "cell_type": "code",
   "execution_count": 53,
   "metadata": {},
   "outputs": [],
   "source": [
    "import pyodbc\n",
    "from sqlalchemy import create_engine\n",
    "\n",
    "\n",
    "def getConnection():\n",
    "    try:\n",
    "        engine = create_engine(connectionString)\n",
    "        con = engine.raw_connection()\n",
    "    except pyodbc.DatabaseError as msg:\n",
    "        if con!=None:\n",
    "            con.rollback()\n",
    "            print(\"There is a problem with sql\",msg)\n",
    "    return con"
   ]
  },
  {
   "cell_type": "code",
   "execution_count": 55,
   "metadata": {},
   "outputs": [
    {
     "name": "stdout",
     "output_type": "stream",
     "text": [
      "Records Inserted Successfully...\n"
     ]
    }
   ],
   "source": [
    "import pandas as pd\n",
    "\n",
    "try:\n",
    "    con = getConnection()\n",
    "\n",
    "    df = pd.DataFrame(data= [(5,'Raghu', 'Ram', 7000, 'madhapur', 'Hyderabad'),(6,'Robert', 'Drowny', 8000,'madhapur', 'Hyderabad')],\n",
    "                 columns=['PersonID', 'LastName', 'FirstName', 'Salary','Address', 'City'])\n",
    "\n",
    "    df.to_sql(\"Persons\", con=engine, schema=None, if_exists='append', index=False, \n",
    "              index_label=None, chunksize=None, dtype=None, method=None)\n",
    "    \n",
    "    print(\"Records Inserted Successfully...\")\n",
    "except Exception as msg:\n",
    "    if con!=None:\n",
    "        con.rollback()\n",
    "        print(\"Exception is due to \",msg)\n",
    "finally:\n",
    "    if con:\n",
    "        con.close()"
   ]
  },
  {
   "cell_type": "markdown",
   "metadata": {},
   "source": [
    "#### 6.Write a program to insert multiple rows in the employees table with dynamic input from the keyboard?"
   ]
  },
  {
   "cell_type": "code",
   "execution_count": 57,
   "metadata": {},
   "outputs": [
    {
     "name": "stdout",
     "output_type": "stream",
     "text": [
      "Enter Person id : 7\n",
      "Enter Person Last Name : yuvaraj\n",
      "Enter Person First Name : singh\n",
      "Enter Person Salary : 6000\n",
      "Enter Person Address : punjab\n",
      "Enter Person City : adfgd\n",
      "Record Inserted Successfully\n",
      "Do you want to insert one more record[Yes|No] :No\n"
     ]
    }
   ],
   "source": [
    "import pyodbc\n",
    "from sqlalchemy import create_engine\n",
    "\n",
    "try:\n",
    "    engine = create_engine(connectionString)\n",
    "    con = engine.raw_connection()\n",
    "    cursor = con.cursor()\n",
    "    while True:\n",
    "        pid = int(input(\"Enter Person id : \"))\n",
    "        lname = input(\"Enter Person Last Name : \")\n",
    "        fname = input(\"Enter Person First Name : \")\n",
    "        sal = float(input(\"Enter Person Salary : \"))\n",
    "        address = input(\"Enter Person Address : \")\n",
    "        city = input(\"Enter Person City : \")\n",
    "        query = \"\"\"INSERT INTO Persons VALUES(%d, '%s', '%s', %f, '%s', '%s')\"\"\"\n",
    "        cursor.execute(query %(pid,lname,fname,sal,address,city))\n",
    "        print(\"Record Inserted Successfully\")\n",
    "        option=input(\"Do you want to insert one more record[Yes|No] :\")\n",
    "        if option==\"No\":\n",
    "            con.commit()\n",
    "            break\n",
    "except pyodbc.DatabaseError as msg:\n",
    "    if con!=None:\n",
    "        con.rollback()\n",
    "        print(\"There is a problem with sql\",msg)\n",
    "finally:\n",
    "    if cursor:\n",
    "        cursor.close()\n",
    "    if con:\n",
    "        con.close()  "
   ]
  },
  {
   "cell_type": "markdown",
   "metadata": {},
   "source": [
    "#### 7.Write a program to update employee salaries with increment for the certain range with dynamic input.\n",
    "- Increment all employee salaries by 500 whose salary < 5000"
   ]
  },
  {
   "cell_type": "code",
   "execution_count": 58,
   "metadata": {},
   "outputs": [
    {
     "name": "stdout",
     "output_type": "stream",
     "text": [
      "Enter Increment Salary:50\n",
      "Enter Salary Range:5000\n",
      "update Persons set Salary=Salary+%f where Salary<%f\n",
      "Records Updated Successfully\n"
     ]
    }
   ],
   "source": [
    "import pyodbc\n",
    "from sqlalchemy import create_engine\n",
    "\n",
    "try:\n",
    "    engine = create_engine(connectionString)\n",
    "    con = engine.raw_connection()\n",
    "    cursor = con.cursor()\n",
    "    increment = float(input(\"Enter Increment Salary:\"))\n",
    "    salrange = float(input(\"Enter Salary Range:\"))\n",
    "    query = \"update Persons set Salary=Salary+%f where Salary<%f\"\n",
    "    print(query)\n",
    "    cursor.execute(query %(increment,salrange))\n",
    "    print(\"Records Updated Successfully\")\n",
    "    con.commit()\n",
    "except pyodbc.DatabaseError as msg:\n",
    "    if con!=None:\n",
    "        con.rollback()\n",
    "        print(\"There is a problem with sql\",msg)\n",
    "finally:\n",
    "    if cursor:\n",
    "        cursor.close()\n",
    "    if con:\n",
    "        con.close() "
   ]
  },
  {
   "cell_type": "markdown",
   "metadata": {},
   "source": [
    "#### 8. Write a program to delete employees whose salary greater provided salary as dynamic input?\n",
    "- delete all employees whose salary > 5000"
   ]
  },
  {
   "cell_type": "code",
   "execution_count": 59,
   "metadata": {},
   "outputs": [
    {
     "name": "stdout",
     "output_type": "stream",
     "text": [
      "Enter the Cut off Salary : 5000\n",
      "Records Deleted Successfully..\n"
     ]
    }
   ],
   "source": [
    "try:\n",
    "    cutoff = float(input(\"Enter the Cut off Salary : \"))\n",
    "    query = \"\"\"delete from Persons where Salary>%f\"\"\"\n",
    "    con = getConnection()\n",
    "    cursor = con.cursor()\n",
    "    cursor.execute(query %(cutoff))\n",
    "    print(\"Records Deleted Successfully..\")\n",
    "    con.commit()\n",
    "except pyodbc.DatabaseError as msg:\n",
    "    if con!=None:\n",
    "        con.rollback()\n",
    "        print(\"There is a problem with sql\",msg)\n",
    "finally:\n",
    "    if cursor:\n",
    "        cursor.close()\n",
    "    if con:\n",
    "        con.close() "
   ]
  },
  {
   "cell_type": "markdown",
   "metadata": {},
   "source": [
    "#### 9. Write a program to select all employees info by using fetchone() method?"
   ]
  },
  {
   "cell_type": "code",
   "execution_count": 63,
   "metadata": {},
   "outputs": [
    {
     "name": "stdout",
     "output_type": "stream",
     "text": [
      "(1, 'Pavan Kumar', 'Puppala', 1050.0, 'WG Dist', 'Bhimavaram')\n",
      "(2, 'Surya', 'Kumar', 2050.0, 'madhapur', 'Hyderabad')\n",
      "(3, 'Virat', 'Kohli', 3050.0, 'Kondapur', 'Hyderabad')\n",
      "(4, 'Rahul', 'Dravid', 4050.0, 'KPHB', 'Hyderabad')\n"
     ]
    }
   ],
   "source": [
    "try:\n",
    "    con = getConnection()\n",
    "    cursor = con.cursor()\n",
    "    cursor.execute(\"Select * from Persons\")\n",
    "    row = cursor.fetchone()\n",
    "    while row is not None:\n",
    "        print(row)\n",
    "        row = cursor.fetchone()\n",
    "except pyodbc.DatabaseError as msg:\n",
    "    if con!=None:\n",
    "        con.rollback()\n",
    "        print(\"There is a problem with sql\",msg)\n",
    "finally:\n",
    "    if cursor:\n",
    "        cursor.close()\n",
    "    if con:\n",
    "        con.close() "
   ]
  },
  {
   "cell_type": "markdown",
   "metadata": {},
   "source": [
    "#### 10. Write a program to select all employees info by using fetchall() method?"
   ]
  },
  {
   "cell_type": "code",
   "execution_count": 67,
   "metadata": {},
   "outputs": [
    {
     "name": "stdout",
     "output_type": "stream",
     "text": [
      "(1, 'Pavan Kumar', 'Puppala', 1050.0, 'WG Dist', 'Bhimavaram')\n",
      "Employee Number: 1\n",
      "Employee first Name: Pavan Kumar\n",
      "Employee last Name: Puppala\n",
      "Employee Salary: 1050.0\n",
      "Employee Address: WG Dist\n",
      "Employee City: Bhimavaram\n",
      "(2, 'Surya', 'Kumar', 2050.0, 'madhapur', 'Hyderabad')\n",
      "Employee Number: 2\n",
      "Employee first Name: Surya\n",
      "Employee last Name: Kumar\n",
      "Employee Salary: 2050.0\n",
      "Employee Address: madhapur\n",
      "Employee City: Hyderabad\n",
      "(3, 'Virat', 'Kohli', 3050.0, 'Kondapur', 'Hyderabad')\n",
      "Employee Number: 3\n",
      "Employee first Name: Virat\n",
      "Employee last Name: Kohli\n",
      "Employee Salary: 3050.0\n",
      "Employee Address: Kondapur\n",
      "Employee City: Hyderabad\n",
      "(4, 'Rahul', 'Dravid', 4050.0, 'KPHB', 'Hyderabad')\n",
      "Employee Number: 4\n",
      "Employee first Name: Rahul\n",
      "Employee last Name: Dravid\n",
      "Employee Salary: 4050.0\n",
      "Employee Address: KPHB\n",
      "Employee City: Hyderabad\n"
     ]
    }
   ],
   "source": [
    "try:\n",
    "    con = getConnection()\n",
    "    cursor = con.cursor()\n",
    "    cursor.execute(\"Select * from Persons\")\n",
    "    data = cursor.fetchall()\n",
    "    for row in data:\n",
    "        print(row)\n",
    "        print(\"Employee Number:\",row[0])\n",
    "        print(\"Employee first Name:\",row[1])\n",
    "        print(\"Employee last Name:\",row[2])\n",
    "        print(\"Employee Salary:\",row[3])\n",
    "        print(\"Employee Address:\",row[4])\n",
    "        print(\"Employee City:\",row[5])\n",
    "except pyodbc.DatabaseError as msg:\n",
    "    if con!=None:\n",
    "        con.rollback()\n",
    "        print(\"There is a problem with sql\",msg)\n",
    "finally:\n",
    "    if cursor:\n",
    "        cursor.close()\n",
    "    if con:\n",
    "        con.close() "
   ]
  },
  {
   "cell_type": "markdown",
   "metadata": {},
   "source": [
    "#### 11.Write a program to select employees info by using fetchmany() method and the required number of rows will be provided as dynamic input?"
   ]
  },
  {
   "cell_type": "code",
   "execution_count": 68,
   "metadata": {},
   "outputs": [
    {
     "name": "stdout",
     "output_type": "stream",
     "text": [
      "Enter the number of required rows:2\n",
      "(1, 'Pavan Kumar', 'Puppala', 1050.0, 'WG Dist', 'Bhimavaram')\n",
      "Employee Number: 1\n",
      "Employee first Name: Pavan Kumar\n",
      "Employee last Name: Puppala\n",
      "Employee Salary: 1050.0\n",
      "Employee Address: WG Dist\n",
      "Employee City: Bhimavaram\n",
      "(2, 'Surya', 'Kumar', 2050.0, 'madhapur', 'Hyderabad')\n",
      "Employee Number: 2\n",
      "Employee first Name: Surya\n",
      "Employee last Name: Kumar\n",
      "Employee Salary: 2050.0\n",
      "Employee Address: madhapur\n",
      "Employee City: Hyderabad\n"
     ]
    }
   ],
   "source": [
    "try:\n",
    "    con = getConnection()\n",
    "    cursor = con.cursor()\n",
    "    cursor.execute(\"Select * from Persons\")\n",
    "    n=int(input(\"Enter the number of required rows:\"))\n",
    "    data = cursor.fetchmany(n)\n",
    "    for row in data:\n",
    "        print(row)\n",
    "        print(\"Employee Number:\",row[0])\n",
    "        print(\"Employee first Name:\",row[1])\n",
    "        print(\"Employee last Name:\",row[2])\n",
    "        print(\"Employee Salary:\",row[3])\n",
    "        print(\"Employee Address:\",row[4])\n",
    "        print(\"Employee City:\",row[5])\n",
    "except pyodbc.DatabaseError as msg:\n",
    "    if con!=None:\n",
    "        con.rollback()\n",
    "        print(\"There is a problem with sql\",msg)\n",
    "finally:\n",
    "    if cursor:\n",
    "        cursor.close()\n",
    "    if con:\n",
    "        con.close() "
   ]
  },
  {
   "cell_type": "markdown",
   "metadata": {},
   "source": [
    "#### Using pandas "
   ]
  },
  {
   "cell_type": "code",
   "execution_count": 69,
   "metadata": {},
   "outputs": [
    {
     "data": {
      "text/html": [
       "<div>\n",
       "<style scoped>\n",
       "    .dataframe tbody tr th:only-of-type {\n",
       "        vertical-align: middle;\n",
       "    }\n",
       "\n",
       "    .dataframe tbody tr th {\n",
       "        vertical-align: top;\n",
       "    }\n",
       "\n",
       "    .dataframe thead th {\n",
       "        text-align: right;\n",
       "    }\n",
       "</style>\n",
       "<table border=\"1\" class=\"dataframe\">\n",
       "  <thead>\n",
       "    <tr style=\"text-align: right;\">\n",
       "      <th></th>\n",
       "      <th>PersonID</th>\n",
       "      <th>LastName</th>\n",
       "      <th>FirstName</th>\n",
       "      <th>Salary</th>\n",
       "      <th>Address</th>\n",
       "      <th>City</th>\n",
       "    </tr>\n",
       "  </thead>\n",
       "  <tbody>\n",
       "    <tr>\n",
       "      <th>0</th>\n",
       "      <td>1</td>\n",
       "      <td>Pavan Kumar</td>\n",
       "      <td>Puppala</td>\n",
       "      <td>1050.0</td>\n",
       "      <td>WG Dist</td>\n",
       "      <td>Bhimavaram</td>\n",
       "    </tr>\n",
       "    <tr>\n",
       "      <th>1</th>\n",
       "      <td>2</td>\n",
       "      <td>Surya</td>\n",
       "      <td>Kumar</td>\n",
       "      <td>2050.0</td>\n",
       "      <td>madhapur</td>\n",
       "      <td>Hyderabad</td>\n",
       "    </tr>\n",
       "    <tr>\n",
       "      <th>2</th>\n",
       "      <td>3</td>\n",
       "      <td>Virat</td>\n",
       "      <td>Kohli</td>\n",
       "      <td>3050.0</td>\n",
       "      <td>Kondapur</td>\n",
       "      <td>Hyderabad</td>\n",
       "    </tr>\n",
       "    <tr>\n",
       "      <th>3</th>\n",
       "      <td>4</td>\n",
       "      <td>Rahul</td>\n",
       "      <td>Dravid</td>\n",
       "      <td>4050.0</td>\n",
       "      <td>KPHB</td>\n",
       "      <td>Hyderabad</td>\n",
       "    </tr>\n",
       "  </tbody>\n",
       "</table>\n",
       "</div>"
      ],
      "text/plain": [
       "   PersonID     LastName FirstName  Salary   Address        City\n",
       "0         1  Pavan Kumar   Puppala  1050.0   WG Dist  Bhimavaram\n",
       "1         2        Surya     Kumar  2050.0  madhapur   Hyderabad\n",
       "2         3        Virat     Kohli  3050.0  Kondapur   Hyderabad\n",
       "3         4        Rahul    Dravid  4050.0      KPHB   Hyderabad"
      ]
     },
     "execution_count": 69,
     "metadata": {},
     "output_type": "execute_result"
    }
   ],
   "source": [
    "import pandas as pd\n",
    "\n",
    "query = \"\"\"select * from Persons\"\"\"\n",
    "con = getConnection()\n",
    "df = pd.read_sql(query, con)\n",
    "df.head()"
   ]
  },
  {
   "cell_type": "markdown",
   "metadata": {},
   "source": [
    "### Working with Oracle DB"
   ]
  },
  {
   "cell_type": "markdown",
   "metadata": {},
   "source": [
    "### Working with MYSQL DB"
   ]
  },
  {
   "cell_type": "markdown",
   "metadata": {},
   "source": [
    "### Working with Postgresql DB"
   ]
  },
  {
   "cell_type": "markdown",
   "metadata": {},
   "source": [
    "### Working with Mongo DB"
   ]
  },
  {
   "cell_type": "markdown",
   "metadata": {},
   "source": [
    "MongoDB is a document-based, general purpose, distributed database with scalability and flexibility. And most of the features are free to use. "
   ]
  },
  {
   "cell_type": "markdown",
   "metadata": {},
   "source": [
    "#### A.\tFeatures of MongoDB\n",
    "- 1. Rich JSON Documents\n",
    "    - The most natural and productive way to work with data.\n",
    "    - Supports arrays and nested objects as values.\n",
    "    - Allows for flexible and dynamic schemas.\n",
    "    - The document model maps to the objects in your application code, making data easy to work with.\n",
    "    \n",
    "- 2. Powerful query language\n",
    "    - Rich and expressive query language that allows you to filter and sort by any field, no matter how nested it may be within a document.\n",
    "    - Support for aggregations and other modern use-cases such as geo-based search, graph search, and text search.\n",
    "    - Queries are themselves JSON, and thus easily composable. No more concatenating strings to dynamically generate SQL queries.\n",
    "\n",
    "- 3. All the power of a relational database, and more...\n",
    "    - Full ACID(Atomicity, Consistency, Isolation, Durability) transactions.\n",
    "    - Support for joins in queries.\n",
    "    - Two types of relationships instead of one: reference and embedded.\n",
    "\n",
    "- 4. Charts\n",
    "    - The fastest way to create visualizations of MongoDB data.\n",
    "    - Built for the document model.\n",
    "    - Visualize live data from any of your MongoDB instances. Available on MongoDB Atlas.\n",
    "\n",
    "- 5. BI Connector\n",
    "    - Allow any BI tool that can speak the MySQL protocol to work with your MongoDB data.\n",
    "    - Leverage the BI tools your organization already uses.\n",
    "    - Perform federated analytics, combining data from MongoDB and other databases.\n",
    "\n",
    "- 6. Compass"
   ]
  },
  {
   "cell_type": "markdown",
   "metadata": {},
   "source": [
    "### B. Installing MongoDB"
   ]
  },
  {
   "cell_type": "markdown",
   "metadata": {},
   "source": [
    "- 1. Go to the page: https://www.mongodb.com/download-center/community and select the MongoDB installation to download based on your operating system.\n",
    "- 2. After the installer gets downloaded, double click on the installer file to start installing the application.\n",
    "- 3. Click on the next button to move to the next step and accept the agreement.\n",
    "- 4. Select the type of installation: Complete\n",
    "- 5. Select the features to install.\n",
    "- 6. Click on next and then configure/customize the way you want the application to be installed.\n",
    "- 7. Click next and then click on install to start the MongoDB installation."
   ]
  },
  {
   "cell_type": "markdown",
   "metadata": {},
   "source": [
    "### C. Starting MongoDB:"
   ]
  },
  {
   "cell_type": "markdown",
   "metadata": {},
   "source": [
    "- 1. Go the services section and then start the MongoDB service if not already started.\n",
    "- 2. Now, to check whether the database server is up or not, go to the bin directory of the MongoDB installation and run the ‘mongo’ command as shown. If the command runs successfully, it means that the server is up and running and we can proceed."
   ]
  },
  {
   "cell_type": "markdown",
   "metadata": {},
   "source": [
    "### D. Some Commands in Mongo DB: "
   ]
  },
  {
   "cell_type": "markdown",
   "metadata": {},
   "source": [
    "Different commands can be used for different purposes:\n",
    "-  show dbs: to show all the databases\n",
    "-  use <DBName>: creates a new database with the name if not already present or starts using the database given as database name.\n",
    "-  db.createCollection(‘<collectionName>’) : to create a new collection. Collections are analogous to tables.\n",
    "-  show collections to show all the collections in a database.\n",
    "-  db.<collectionName>.insert({“key”:”value”}) : to insert new record into the table.\n",
    "-  db.<collectionName>.find(): To show all the records from a table.\n",
    "-  db.<collectionName>.update({“key”:”value”}, ({“key”:”new_value”}) : to update an existing record in the table.\n",
    "-  db.<collectionName>.remove({“key”:”value”}) : to remove record(s) from the table matching the criteria.\n"
   ]
  },
  {
   "cell_type": "markdown",
   "metadata": {},
   "source": [
    "### E. Python Code Implementation:"
   ]
  },
  {
   "cell_type": "markdown",
   "metadata": {},
   "source": [
    "####  Read Data from Mongo DB\n",
    "1.Note: If you did not install software ,please install\n",
    "    <a>https://www.mongodb.com/download-center/community</a>\n",
    "\n",
    "- 3 types of db's\n",
    "    - sql(oracle, terdata)\n",
    "    - No sql( we can communicate withSql or any other languages like mongo db, HBase)"
   ]
  },
  {
   "cell_type": "markdown",
   "metadata": {},
   "source": [
    "#### Step1 : package which enables us to connect to the MongoDB"
   ]
  },
  {
   "cell_type": "code",
   "execution_count": 228,
   "metadata": {},
   "outputs": [],
   "source": [
    "import pymongo"
   ]
  },
  {
   "cell_type": "markdown",
   "metadata": {},
   "source": [
    "#### Step2 : connecting to the locally running MongoDB Instance"
   ]
  },
  {
   "cell_type": "code",
   "execution_count": 229,
   "metadata": {},
   "outputs": [
    {
     "data": {
      "text/plain": [
       "MongoClient(host=['localhost:27017'], document_class=dict, tz_aware=False, connect=True)"
      ]
     },
     "execution_count": 229,
     "metadata": {},
     "output_type": "execute_result"
    }
   ],
   "source": [
    "mongodb_con = pymongo.MongoClient(\"mongodb://localhost:27017/\")\n",
    "mongodb_con"
   ]
  },
  {
   "cell_type": "markdown",
   "metadata": {},
   "source": [
    "#### Step3 : connecting to the database named organization present in the mongoDB"
   ]
  },
  {
   "cell_type": "code",
   "execution_count": 230,
   "metadata": {},
   "outputs": [
    {
     "data": {
      "text/plain": [
       "Database(MongoClient(host=['localhost:27017'], document_class=dict, tz_aware=False, connect=True), 'crawlerDB')"
      ]
     },
     "execution_count": 230,
     "metadata": {},
     "output_type": "execute_result"
    }
   ],
   "source": [
    "db = mongodb_con['crawlerDB']\n",
    "db"
   ]
  },
  {
   "cell_type": "markdown",
   "metadata": {},
   "source": [
    "#### Step4 : obtaining the collection name"
   ]
  },
  {
   "cell_type": "code",
   "execution_count": 231,
   "metadata": {},
   "outputs": [],
   "source": [
    "collection = db['samsung']"
   ]
  },
  {
   "cell_type": "markdown",
   "metadata": {},
   "source": [
    "#### Step 5:  creating key value pairs for inserting into the DB"
   ]
  },
  {
   "cell_type": "code",
   "execution_count": 232,
   "metadata": {},
   "outputs": [],
   "source": [
    "mydict = {\"Product\": \"samsung\", \"Name\": \"testName\", \"Rating\": '3'}"
   ]
  },
  {
   "cell_type": "markdown",
   "metadata": {},
   "source": [
    "#### Step6: inserting record into the collection"
   ]
  },
  {
   "cell_type": "code",
   "execution_count": 233,
   "metadata": {},
   "outputs": [],
   "source": [
    "x = collection.insert_one(mydict)  "
   ]
  },
  {
   "cell_type": "markdown",
   "metadata": {},
   "source": [
    "#### Finding all the records in the collection named Samsung"
   ]
  },
  {
   "cell_type": "code",
   "execution_count": 234,
   "metadata": {},
   "outputs": [
    {
     "data": {
      "text/plain": [
       "<pymongo.cursor.Cursor at 0x27b8b717ef0>"
      ]
     },
     "execution_count": 234,
     "metadata": {},
     "output_type": "execute_result"
    }
   ],
   "source": [
    "reviews = collection.find({})  \n",
    "reviews"
   ]
  },
  {
   "cell_type": "code",
   "execution_count": 235,
   "metadata": {},
   "outputs": [
    {
     "name": "stdout",
     "output_type": "stream",
     "text": [
      "product: samsung, Name: Sanjeeb  Ranasingh , Rating: 5\n",
      "product: samsung, Name: Puspanjali  Jally, Rating: 4\n",
      "product: samsung, Name: Pradeep Putta, Rating: 5\n",
      "product: samsung, Name: Gaurav Nigam, Rating: 1\n",
      "product: samsung, Name: Jitendra Kumar  Sharma, Rating: 1\n",
      "product: samsung, Name: suresh chandra Juttuka, Rating: 5\n",
      "product: samsung, Name: Flipkart Customer, Rating: 5\n",
      "product: samsung, Name: Flipkart Customer, Rating: 4\n",
      "product: samsung, Name: No Name, Rating: No Rating\n",
      "product: samsung, Name: testName, Rating: 3\n",
      "product: samsung, Name: testName, Rating: 3\n",
      "product: samsung, Name: testName, Rating: 3\n"
     ]
    }
   ],
   "source": [
    "for review in reviews:\n",
    "    #print(review)\n",
    "    print(\"product: \"+review['Product']+\", \"+\"Name: \"+review['Name']+\", \"+\"Rating: \"+review['Rating'])"
   ]
  },
  {
   "cell_type": "markdown",
   "metadata": {},
   "source": [
    "### F.\tBonus: UI for MongoDB"
   ]
  },
  {
   "cell_type": "markdown",
   "metadata": {},
   "source": [
    "- If all these black screens(Command Line Interfaces) scare you, then MongoDB has an application called MongoDB Compass which provides a user interface where the databases and corresponding collections can be viewed. It also shows the performance of the database server.\n",
    "- You just have to download the MongoDB compass installation file and proceed with the installation as we did for MongoDB server.\n",
    "    - Once the application gets installed, you can run it and connect to the already running database server as shown below:\n",
    "    - Once you click on connect, it will show the following details:\n",
    "    - Here, you can select the individual database to see the collections in that database. And similarly, a collection can be selected to see the records inside.\n",
    "    - Clicking the performance tab shows different metrics related to performance:"
   ]
  },
  {
   "cell_type": "markdown",
   "metadata": {},
   "source": [
    "##### 1.1 List Databases of Mongo DB"
   ]
  },
  {
   "cell_type": "code",
   "execution_count": 236,
   "metadata": {},
   "outputs": [
    {
     "data": {
      "text/plain": [
       "['admin', 'config', 'crawlerDB', 'local', 'mydemo', 'organization', 'pavandb']"
      ]
     },
     "execution_count": 236,
     "metadata": {},
     "output_type": "execute_result"
    }
   ],
   "source": [
    "mongodb_con = pymongo.MongoClient(\"mongodb://localhost:27017/\")\n",
    "mongodb_con.list_database_names()"
   ]
  },
  {
   "cell_type": "markdown",
   "metadata": {},
   "source": [
    "##### 1.2 DB will not created until a collection(table) is created"
   ]
  },
  {
   "cell_type": "code",
   "execution_count": 237,
   "metadata": {},
   "outputs": [],
   "source": [
    "db = mongodb_con[\"organization\"]"
   ]
  },
  {
   "cell_type": "code",
   "execution_count": 238,
   "metadata": {},
   "outputs": [
    {
     "name": "stdout",
     "output_type": "stream",
     "text": [
      "db exists\n"
     ]
    }
   ],
   "source": [
    "dblist = mongodb_con.list_database_names()\n",
    "if \"organization\" in dblist:\n",
    "    print(\"db exists\")\n",
    "else:\n",
    "    print(\"db not exists\")"
   ]
  },
  {
   "cell_type": "markdown",
   "metadata": {},
   "source": [
    "##### 1.3 List Collections of Mongo DB"
   ]
  },
  {
   "cell_type": "code",
   "execution_count": 239,
   "metadata": {},
   "outputs": [
    {
     "data": {
      "text/plain": [
       "['student', 'samsung', 'rows_coll']"
      ]
     },
     "execution_count": 239,
     "metadata": {},
     "output_type": "execute_result"
    }
   ],
   "source": [
    "list_colls = db.list_collection_names()\n",
    "list_colls"
   ]
  },
  {
   "cell_type": "markdown",
   "metadata": {},
   "source": [
    "##### 1.4 create a collection(aka table)"
   ]
  },
  {
   "cell_type": "code",
   "execution_count": 240,
   "metadata": {},
   "outputs": [
    {
     "data": {
      "text/plain": [
       "Collection(Database(MongoClient(host=['localhost:27017'], document_class=dict, tz_aware=False, connect=True), 'organization'), 'student')"
      ]
     },
     "execution_count": 240,
     "metadata": {},
     "output_type": "execute_result"
    }
   ],
   "source": [
    "collection = db['student']\n",
    "collection"
   ]
  },
  {
   "cell_type": "code",
   "execution_count": 241,
   "metadata": {},
   "outputs": [
    {
     "name": "stdout",
     "output_type": "stream",
     "text": [
      "collection exists\n"
     ]
    }
   ],
   "source": [
    "list_colls = db.list_collection_names()\n",
    "if \"student\" in list_colls:\n",
    "    print(\"collection exists\")\n",
    "else:\n",
    "    print(\"collection does not exists\")"
   ]
  },
  {
   "cell_type": "markdown",
   "metadata": {},
   "source": [
    "##### 1.5 Insert Documents(aka Rows) in Collection"
   ]
  },
  {
   "cell_type": "code",
   "execution_count": 242,
   "metadata": {},
   "outputs": [
    {
     "name": "stdout",
     "output_type": "stream",
     "text": [
      "6557397ab1ff99d5e1e6d893\n"
     ]
    }
   ],
   "source": [
    "mydict = {\"name\":\"pawan\",\"age\":\"25\",\"qual\":\"mech\",\"phone\":\"8143\"}\n",
    "x = collection.insert_one(mydict)\n",
    "print(x.inserted_id)"
   ]
  },
  {
   "cell_type": "code",
   "execution_count": 243,
   "metadata": {},
   "outputs": [],
   "source": [
    "mylist = [{\"name\":\"kiran\",\"age\":\"28\",\"qual\":\"ecce\",\"phone\":\"9700\"},\n",
    "         {\"name\":\"vijay\",\"age\":\"27\",\"qual\":\"csc\",\"phone\":\"8125\"},\n",
    "         {\"name\":\"teja\",\"age\":\"29\",\"qual\":\"csc\",\"phone\":\"9600\"},\n",
    "         {\"name\":\"sudheer\",\"age\":\"26\",\"qual\":\"mba\",\"phone\":\"9133\"},\n",
    "         {\"name\":\"swamy\",\"age\":\"26\",\"qual\":\"csc\",\"phone\":\"9123\"},\n",
    "         {\"name\":\"chandu\",\"age\":\"26\",\"qual\":\"mech\",\"phone\":\"8150\"}]"
   ]
  },
  {
   "cell_type": "code",
   "execution_count": 244,
   "metadata": {},
   "outputs": [
    {
     "name": "stdout",
     "output_type": "stream",
     "text": [
      "[ObjectId('6557397cb1ff99d5e1e6d894'), ObjectId('6557397cb1ff99d5e1e6d895'), ObjectId('6557397cb1ff99d5e1e6d896'), ObjectId('6557397cb1ff99d5e1e6d897'), ObjectId('6557397cb1ff99d5e1e6d898'), ObjectId('6557397cb1ff99d5e1e6d899')]\n"
     ]
    }
   ],
   "source": [
    "y = collection.insert_many(mylist)\n",
    "print(y.inserted_ids)"
   ]
  },
  {
   "cell_type": "code",
   "execution_count": 245,
   "metadata": {},
   "outputs": [
    {
     "name": "stdout",
     "output_type": "stream",
     "text": [
      "collection exists\n"
     ]
    }
   ],
   "source": [
    "list_coll = db.list_collection_names()\n",
    "if \"student\" in list_coll:\n",
    "    print(\"collection exists\")\n",
    "else:\n",
    "    print(\"collection does not exists\")"
   ]
  },
  {
   "cell_type": "markdown",
   "metadata": {},
   "source": [
    "##### 1.6 Read mongo collection"
   ]
  },
  {
   "cell_type": "code",
   "execution_count": 246,
   "metadata": {},
   "outputs": [
    {
     "name": "stdout",
     "output_type": "stream",
     "text": [
      "{'_id': ObjectId('5ed0e52f3312be780bdb6623'), 'name': 'pawan', 'age': '25', 'qual': 'mech', 'phone': '8143'}\n"
     ]
    }
   ],
   "source": [
    "a = collection.find_one()\n",
    "print(a)"
   ]
  },
  {
   "cell_type": "code",
   "execution_count": 247,
   "metadata": {},
   "outputs": [
    {
     "name": "stdout",
     "output_type": "stream",
     "text": [
      "{'_id': ObjectId('5ed0e52f3312be780bdb6623'), 'name': 'pawan', 'age': '25', 'qual': 'mech', 'phone': '8143'}\n",
      "{'_id': ObjectId('5ed0e5333312be780bdb6624'), 'name': 'kiran', 'age': '28', 'qual': 'ecce', 'phone': '9700'}\n",
      "{'_id': ObjectId('5ed0e5333312be780bdb6625'), 'name': 'vijay', 'age': '27', 'qual': 'csc', 'phone': '8125'}\n",
      "{'_id': ObjectId('5ed0e5333312be780bdb6626'), 'name': 'teja', 'age': '29', 'qual': 'csc', 'phone': '9600'}\n",
      "{'_id': ObjectId('5ed0e5333312be780bdb6627'), 'name': 'sudheer', 'age': '26', 'qual': 'mba', 'phone': '9133'}\n",
      "{'_id': ObjectId('5ed0e5333312be780bdb6628'), 'name': 'swamy', 'age': '26', 'qual': 'csc', 'phone': '9123'}\n",
      "{'_id': ObjectId('5ed0e5333312be780bdb6629'), 'name': 'chandu', 'age': '26', 'qual': 'mech', 'phone': '8150'}\n",
      "{'_id': ObjectId('5ed105333312be780bdb6637'), 'name': 'kiran', 'age': '28', 'qual': 'ecce', 'phone': '9700'}\n",
      "{'_id': ObjectId('5ed105333312be780bdb6638'), 'name': 'vijay', 'age': '27', 'qual': 'csc', 'phone': '8125'}\n",
      "{'_id': ObjectId('5ed105333312be780bdb6639'), 'name': 'teja', 'age': '29', 'qual': 'csc', 'phone': '9600'}\n",
      "{'_id': ObjectId('5ed105333312be780bdb663a'), 'name': 'sudheer', 'age': '26', 'qual': 'mba', 'phone': '9133'}\n",
      "{'_id': ObjectId('5ed105333312be780bdb663b'), 'name': 'swamy', 'age': '26', 'qual': 'csc', 'phone': '9123'}\n",
      "{'_id': ObjectId('5ed105333312be780bdb663c'), 'name': 'chandu', 'age': '26', 'qual': 'mech', 'phone': '8150'}\n",
      "{'_id': ObjectId('608abf1e723a32d98f3b4324'), 'name': 'asdf', 'age': '52', 'qual': 'sds', 'phone': '456'}\n",
      "{'_id': ObjectId('608abfab723a32d98f3b4325'), 'name': 'asdf', 'age': '52', 'qual': 'sds', 'phone': '456'}\n",
      "{'_id': ObjectId('65571721b1ff99d5e1e6d86a'), 'name': 'pawan', 'age': '25', 'qual': 'mech', 'phone': '8143'}\n",
      "{'_id': ObjectId('65571756b1ff99d5e1e6d86b'), 'name': 'kiran', 'age': '28', 'qual': 'ecce', 'phone': '9700'}\n",
      "{'_id': ObjectId('65571756b1ff99d5e1e6d86c'), 'name': 'vijay', 'age': '27', 'qual': 'csc', 'phone': '8125'}\n",
      "{'_id': ObjectId('65571756b1ff99d5e1e6d86d'), 'name': 'teja', 'age': '29', 'qual': 'csc', 'phone': '9600'}\n",
      "{'_id': ObjectId('65571756b1ff99d5e1e6d86e'), 'name': 'sudheer', 'age': '26', 'qual': 'mba', 'phone': '9133'}\n",
      "{'_id': ObjectId('65571756b1ff99d5e1e6d86f'), 'name': 'swamy', 'age': '26', 'qual': 'csc', 'phone': '9123'}\n",
      "{'_id': ObjectId('65571756b1ff99d5e1e6d870'), 'name': 'chandu', 'age': '26', 'qual': 'mech', 'phone': '8150'}\n",
      "{'_id': ObjectId('6557397ab1ff99d5e1e6d893'), 'name': 'pawan', 'age': '25', 'qual': 'mech', 'phone': '8143'}\n",
      "{'_id': ObjectId('6557397cb1ff99d5e1e6d894'), 'name': 'kiran', 'age': '28', 'qual': 'ecce', 'phone': '9700'}\n",
      "{'_id': ObjectId('6557397cb1ff99d5e1e6d895'), 'name': 'vijay', 'age': '27', 'qual': 'csc', 'phone': '8125'}\n",
      "{'_id': ObjectId('6557397cb1ff99d5e1e6d896'), 'name': 'teja', 'age': '29', 'qual': 'csc', 'phone': '9600'}\n",
      "{'_id': ObjectId('6557397cb1ff99d5e1e6d897'), 'name': 'sudheer', 'age': '26', 'qual': 'mba', 'phone': '9133'}\n",
      "{'_id': ObjectId('6557397cb1ff99d5e1e6d898'), 'name': 'swamy', 'age': '26', 'qual': 'csc', 'phone': '9123'}\n",
      "{'_id': ObjectId('6557397cb1ff99d5e1e6d899'), 'name': 'chandu', 'age': '26', 'qual': 'mech', 'phone': '8150'}\n"
     ]
    }
   ],
   "source": [
    "for b in collection.find():\n",
    "    print(b)"
   ]
  },
  {
   "cell_type": "code",
   "execution_count": 248,
   "metadata": {},
   "outputs": [
    {
     "name": "stdout",
     "output_type": "stream",
     "text": [
      "{'name': 'pawan', 'age': '25', 'qual': 'mech', 'phone': '8143'}\n",
      "{'name': 'kiran', 'age': '28', 'qual': 'ecce', 'phone': '9700'}\n",
      "{'name': 'vijay', 'age': '27', 'qual': 'csc', 'phone': '8125'}\n",
      "{'name': 'teja', 'age': '29', 'qual': 'csc', 'phone': '9600'}\n",
      "{'name': 'sudheer', 'age': '26', 'qual': 'mba', 'phone': '9133'}\n",
      "{'name': 'swamy', 'age': '26', 'qual': 'csc', 'phone': '9123'}\n",
      "{'name': 'chandu', 'age': '26', 'qual': 'mech', 'phone': '8150'}\n",
      "{'name': 'kiran', 'age': '28', 'qual': 'ecce', 'phone': '9700'}\n",
      "{'name': 'vijay', 'age': '27', 'qual': 'csc', 'phone': '8125'}\n",
      "{'name': 'teja', 'age': '29', 'qual': 'csc', 'phone': '9600'}\n",
      "{'name': 'sudheer', 'age': '26', 'qual': 'mba', 'phone': '9133'}\n",
      "{'name': 'swamy', 'age': '26', 'qual': 'csc', 'phone': '9123'}\n",
      "{'name': 'chandu', 'age': '26', 'qual': 'mech', 'phone': '8150'}\n",
      "{'name': 'asdf', 'age': '52', 'qual': 'sds', 'phone': '456'}\n",
      "{'name': 'asdf', 'age': '52', 'qual': 'sds', 'phone': '456'}\n",
      "{'name': 'pawan', 'age': '25', 'qual': 'mech', 'phone': '8143'}\n",
      "{'name': 'kiran', 'age': '28', 'qual': 'ecce', 'phone': '9700'}\n",
      "{'name': 'vijay', 'age': '27', 'qual': 'csc', 'phone': '8125'}\n",
      "{'name': 'teja', 'age': '29', 'qual': 'csc', 'phone': '9600'}\n",
      "{'name': 'sudheer', 'age': '26', 'qual': 'mba', 'phone': '9133'}\n",
      "{'name': 'swamy', 'age': '26', 'qual': 'csc', 'phone': '9123'}\n",
      "{'name': 'chandu', 'age': '26', 'qual': 'mech', 'phone': '8150'}\n",
      "{'name': 'pawan', 'age': '25', 'qual': 'mech', 'phone': '8143'}\n",
      "{'name': 'kiran', 'age': '28', 'qual': 'ecce', 'phone': '9700'}\n",
      "{'name': 'vijay', 'age': '27', 'qual': 'csc', 'phone': '8125'}\n",
      "{'name': 'teja', 'age': '29', 'qual': 'csc', 'phone': '9600'}\n",
      "{'name': 'sudheer', 'age': '26', 'qual': 'mba', 'phone': '9133'}\n",
      "{'name': 'swamy', 'age': '26', 'qual': 'csc', 'phone': '9123'}\n",
      "{'name': 'chandu', 'age': '26', 'qual': 'mech', 'phone': '8150'}\n"
     ]
    }
   ],
   "source": [
    "for c in collection.find({},{\"_id\":0}):\n",
    "    print(c)"
   ]
  },
  {
   "cell_type": "code",
   "execution_count": 249,
   "metadata": {},
   "outputs": [
    {
     "name": "stdout",
     "output_type": "stream",
     "text": [
      "{'name': 'pawan', 'age': '25'}\n",
      "{'name': 'kiran', 'age': '28'}\n",
      "{'name': 'vijay', 'age': '27'}\n",
      "{'name': 'teja', 'age': '29'}\n",
      "{'name': 'sudheer', 'age': '26'}\n",
      "{'name': 'swamy', 'age': '26'}\n",
      "{'name': 'chandu', 'age': '26'}\n",
      "{'name': 'kiran', 'age': '28'}\n",
      "{'name': 'vijay', 'age': '27'}\n",
      "{'name': 'teja', 'age': '29'}\n",
      "{'name': 'sudheer', 'age': '26'}\n",
      "{'name': 'swamy', 'age': '26'}\n",
      "{'name': 'chandu', 'age': '26'}\n",
      "{'name': 'asdf', 'age': '52'}\n",
      "{'name': 'asdf', 'age': '52'}\n",
      "{'name': 'pawan', 'age': '25'}\n",
      "{'name': 'kiran', 'age': '28'}\n",
      "{'name': 'vijay', 'age': '27'}\n",
      "{'name': 'teja', 'age': '29'}\n",
      "{'name': 'sudheer', 'age': '26'}\n",
      "{'name': 'swamy', 'age': '26'}\n",
      "{'name': 'chandu', 'age': '26'}\n",
      "{'name': 'pawan', 'age': '25'}\n",
      "{'name': 'kiran', 'age': '28'}\n",
      "{'name': 'vijay', 'age': '27'}\n",
      "{'name': 'teja', 'age': '29'}\n",
      "{'name': 'sudheer', 'age': '26'}\n",
      "{'name': 'swamy', 'age': '26'}\n",
      "{'name': 'chandu', 'age': '26'}\n"
     ]
    }
   ],
   "source": [
    "for d in collection.find({},{\"_id\":0,\"name\":1,\"age\":1}):\n",
    "    print(d)"
   ]
  },
  {
   "cell_type": "code",
   "execution_count": 250,
   "metadata": {},
   "outputs": [],
   "source": [
    "#You get an error if you specify both 0 and 1 values in the same object (except if one of the fields is the _id field):\n",
    "# for d in collection.find({},{\"name\":1,\"age\":0}):\n",
    "#     print(d)"
   ]
  },
  {
   "cell_type": "markdown",
   "metadata": {},
   "source": [
    "##### Read mongo collection in dict format"
   ]
  },
  {
   "cell_type": "code",
   "execution_count": 251,
   "metadata": {},
   "outputs": [
    {
     "name": "stdout",
     "output_type": "stream",
     "text": [
      "{'_id': ObjectId('5ed0e52f3312be780bdb6623'), 'name': 'pawan', 'age': '25', 'qual': 'mech', 'phone': '8143'}\n",
      "{'_id': ObjectId('5ed0e5333312be780bdb6624'), 'name': 'kiran', 'age': '28', 'qual': 'ecce', 'phone': '9700'}\n",
      "{'_id': ObjectId('5ed0e5333312be780bdb6625'), 'name': 'vijay', 'age': '27', 'qual': 'csc', 'phone': '8125'}\n",
      "{'_id': ObjectId('5ed0e5333312be780bdb6626'), 'name': 'teja', 'age': '29', 'qual': 'csc', 'phone': '9600'}\n",
      "{'_id': ObjectId('5ed0e5333312be780bdb6627'), 'name': 'sudheer', 'age': '26', 'qual': 'mba', 'phone': '9133'}\n",
      "{'_id': ObjectId('5ed0e5333312be780bdb6628'), 'name': 'swamy', 'age': '26', 'qual': 'csc', 'phone': '9123'}\n",
      "{'_id': ObjectId('5ed0e5333312be780bdb6629'), 'name': 'chandu', 'age': '26', 'qual': 'mech', 'phone': '8150'}\n",
      "{'_id': ObjectId('5ed105333312be780bdb6637'), 'name': 'kiran', 'age': '28', 'qual': 'ecce', 'phone': '9700'}\n",
      "{'_id': ObjectId('5ed105333312be780bdb6638'), 'name': 'vijay', 'age': '27', 'qual': 'csc', 'phone': '8125'}\n",
      "{'_id': ObjectId('5ed105333312be780bdb6639'), 'name': 'teja', 'age': '29', 'qual': 'csc', 'phone': '9600'}\n",
      "{'_id': ObjectId('5ed105333312be780bdb663a'), 'name': 'sudheer', 'age': '26', 'qual': 'mba', 'phone': '9133'}\n",
      "{'_id': ObjectId('5ed105333312be780bdb663b'), 'name': 'swamy', 'age': '26', 'qual': 'csc', 'phone': '9123'}\n",
      "{'_id': ObjectId('5ed105333312be780bdb663c'), 'name': 'chandu', 'age': '26', 'qual': 'mech', 'phone': '8150'}\n",
      "{'_id': ObjectId('608abf1e723a32d98f3b4324'), 'name': 'asdf', 'age': '52', 'qual': 'sds', 'phone': '456'}\n",
      "{'_id': ObjectId('608abfab723a32d98f3b4325'), 'name': 'asdf', 'age': '52', 'qual': 'sds', 'phone': '456'}\n",
      "{'_id': ObjectId('65571721b1ff99d5e1e6d86a'), 'name': 'pawan', 'age': '25', 'qual': 'mech', 'phone': '8143'}\n",
      "{'_id': ObjectId('65571756b1ff99d5e1e6d86b'), 'name': 'kiran', 'age': '28', 'qual': 'ecce', 'phone': '9700'}\n",
      "{'_id': ObjectId('65571756b1ff99d5e1e6d86c'), 'name': 'vijay', 'age': '27', 'qual': 'csc', 'phone': '8125'}\n",
      "{'_id': ObjectId('65571756b1ff99d5e1e6d86d'), 'name': 'teja', 'age': '29', 'qual': 'csc', 'phone': '9600'}\n",
      "{'_id': ObjectId('65571756b1ff99d5e1e6d86e'), 'name': 'sudheer', 'age': '26', 'qual': 'mba', 'phone': '9133'}\n",
      "{'_id': ObjectId('65571756b1ff99d5e1e6d86f'), 'name': 'swamy', 'age': '26', 'qual': 'csc', 'phone': '9123'}\n",
      "{'_id': ObjectId('65571756b1ff99d5e1e6d870'), 'name': 'chandu', 'age': '26', 'qual': 'mech', 'phone': '8150'}\n",
      "{'_id': ObjectId('6557397ab1ff99d5e1e6d893'), 'name': 'pawan', 'age': '25', 'qual': 'mech', 'phone': '8143'}\n",
      "{'_id': ObjectId('6557397cb1ff99d5e1e6d894'), 'name': 'kiran', 'age': '28', 'qual': 'ecce', 'phone': '9700'}\n",
      "{'_id': ObjectId('6557397cb1ff99d5e1e6d895'), 'name': 'vijay', 'age': '27', 'qual': 'csc', 'phone': '8125'}\n",
      "{'_id': ObjectId('6557397cb1ff99d5e1e6d896'), 'name': 'teja', 'age': '29', 'qual': 'csc', 'phone': '9600'}\n",
      "{'_id': ObjectId('6557397cb1ff99d5e1e6d897'), 'name': 'sudheer', 'age': '26', 'qual': 'mba', 'phone': '9133'}\n",
      "{'_id': ObjectId('6557397cb1ff99d5e1e6d898'), 'name': 'swamy', 'age': '26', 'qual': 'csc', 'phone': '9123'}\n",
      "{'_id': ObjectId('6557397cb1ff99d5e1e6d899'), 'name': 'chandu', 'age': '26', 'qual': 'mech', 'phone': '8150'}\n",
      "[{'name': 'pawan', 'age': '25', 'qual': 'mech', 'phone': '8143'}, {'name': 'kiran', 'age': '28', 'qual': 'ecce', 'phone': '9700'}, {'name': 'vijay', 'age': '27', 'qual': 'csc', 'phone': '8125'}, {'name': 'teja', 'age': '29', 'qual': 'csc', 'phone': '9600'}, {'name': 'sudheer', 'age': '26', 'qual': 'mba', 'phone': '9133'}, {'name': 'swamy', 'age': '26', 'qual': 'csc', 'phone': '9123'}, {'name': 'chandu', 'age': '26', 'qual': 'mech', 'phone': '8150'}, {'name': 'kiran', 'age': '28', 'qual': 'ecce', 'phone': '9700'}, {'name': 'vijay', 'age': '27', 'qual': 'csc', 'phone': '8125'}, {'name': 'teja', 'age': '29', 'qual': 'csc', 'phone': '9600'}, {'name': 'sudheer', 'age': '26', 'qual': 'mba', 'phone': '9133'}, {'name': 'swamy', 'age': '26', 'qual': 'csc', 'phone': '9123'}, {'name': 'chandu', 'age': '26', 'qual': 'mech', 'phone': '8150'}, {'name': 'asdf', 'age': '52', 'qual': 'sds', 'phone': '456'}, {'name': 'asdf', 'age': '52', 'qual': 'sds', 'phone': '456'}, {'name': 'pawan', 'age': '25', 'qual': 'mech', 'phone': '8143'}, {'name': 'kiran', 'age': '28', 'qual': 'ecce', 'phone': '9700'}, {'name': 'vijay', 'age': '27', 'qual': 'csc', 'phone': '8125'}, {'name': 'teja', 'age': '29', 'qual': 'csc', 'phone': '9600'}, {'name': 'sudheer', 'age': '26', 'qual': 'mba', 'phone': '9133'}, {'name': 'swamy', 'age': '26', 'qual': 'csc', 'phone': '9123'}, {'name': 'chandu', 'age': '26', 'qual': 'mech', 'phone': '8150'}, {'name': 'pawan', 'age': '25', 'qual': 'mech', 'phone': '8143'}, {'name': 'kiran', 'age': '28', 'qual': 'ecce', 'phone': '9700'}, {'name': 'vijay', 'age': '27', 'qual': 'csc', 'phone': '8125'}, {'name': 'teja', 'age': '29', 'qual': 'csc', 'phone': '9600'}, {'name': 'sudheer', 'age': '26', 'qual': 'mba', 'phone': '9133'}, {'name': 'swamy', 'age': '26', 'qual': 'csc', 'phone': '9123'}, {'name': 'chandu', 'age': '26', 'qual': 'mech', 'phone': '8150'}]\n"
     ]
    }
   ],
   "source": [
    "output = []\n",
    "for q in collection.find():\n",
    "    print(q)\n",
    "    output.append({'name':q['name'], 'age':q['age'], 'qual':q['qual'], 'phone':q['phone']})\n",
    "print(output)"
   ]
  },
  {
   "cell_type": "markdown",
   "metadata": {},
   "source": [
    "####  2. load data from Json file"
   ]
  },
  {
   "cell_type": "code",
   "execution_count": 252,
   "metadata": {},
   "outputs": [
    {
     "data": {
      "text/plain": [
       "{'Name': 'Test',\n",
       " 'Mobile': 12345678,\n",
       " 'Boolean': True,\n",
       " 'Pets': ['Dog', 'cat'],\n",
       " 'Address': {'Permanent address': 'USA', 'current Address': 'AU'}}"
      ]
     },
     "execution_count": 252,
     "metadata": {},
     "output_type": "execute_result"
    }
   ],
   "source": [
    "import json\n",
    "\n",
    "with open(\"E:/code/5.DataAnalysisOfficial/data/simple.json\", 'r') as f:\n",
    "    data = json.load(f)\n",
    "data"
   ]
  },
  {
   "cell_type": "code",
   "execution_count": 253,
   "metadata": {},
   "outputs": [
    {
     "name": "stderr",
     "output_type": "stream",
     "text": [
      "C:\\Users\\LENOVO\\Anaconda3\\lib\\site-packages\\ipykernel_launcher.py:6: DeprecationWarning: insert is deprecated. Use insert_one or insert_many instead.\n",
      "  \n"
     ]
    },
    {
     "data": {
      "text/plain": [
       "ObjectId('6557398bb1ff99d5e1e6d89b')"
      ]
     },
     "execution_count": 253,
     "metadata": {},
     "output_type": "execute_result"
    }
   ],
   "source": [
    "import pymongo\n",
    "\n",
    "myclient = pymongo.MongoClient(u\"mongodb://localhost:27017/\")\n",
    "mydb = myclient[\"organization\"]\n",
    "mycoll = mydb[\"rows_coll\"]\n",
    "mycoll.insert(data)"
   ]
  },
  {
   "cell_type": "code",
   "execution_count": 254,
   "metadata": {},
   "outputs": [
    {
     "name": "stdout",
     "output_type": "stream",
     "text": [
      "{'Name': 'Test', 'Mobile': 12345678, 'Boolean': True, 'Pets': ['Dog', 'cat'], 'Address': {'Permanent address': 'USA', 'current Address': 'AU'}}\n",
      "{'Name': 'Test', 'Mobile': 12345678, 'Boolean': True, 'Pets': ['Dog', 'cat'], 'Address': {'Permanent address': 'USA', 'current Address': 'AU'}}\n",
      "{'Name': 'Test', 'Mobile': 12345678, 'Boolean': True, 'Pets': ['Dog', 'cat'], 'Address': {'Permanent address': 'USA', 'current Address': 'AU'}}\n",
      "{'Name': 'Test', 'Mobile': 12345678, 'Boolean': True, 'Pets': ['Dog', 'cat'], 'Address': {'Permanent address': 'USA', 'current Address': 'AU'}}\n",
      "{'Name': 'Test', 'Mobile': 12345678, 'Boolean': True, 'Pets': ['Dog', 'cat'], 'Address': {'Permanent address': 'USA', 'current Address': 'AU'}}\n",
      "{'Name': 'Test', 'Mobile': 12345678, 'Boolean': True, 'Pets': ['Dog', 'cat'], 'Address': {'Permanent address': 'USA', 'current Address': 'AU'}}\n"
     ]
    }
   ],
   "source": [
    "for s in mycoll.find({},{\"_id\":0}):\n",
    "    print(s)"
   ]
  },
  {
   "cell_type": "markdown",
   "metadata": {},
   "source": [
    "#### list the users of database"
   ]
  },
  {
   "cell_type": "code",
   "execution_count": 255,
   "metadata": {},
   "outputs": [
    {
     "data": {
      "text/plain": [
       "{'users': [{'_id': 'organization.root',\n",
       "   'userId': UUID('a65101c4-f180-4297-8d64-7d395d4c12f1'),\n",
       "   'user': 'root',\n",
       "   'db': 'organization',\n",
       "   'roles': [{'role': 'readWrite', 'db': 'organization'}],\n",
       "   'mechanisms': ['SCRAM-SHA-1', 'SCRAM-SHA-256']}],\n",
       " 'ok': 1.0}"
      ]
     },
     "execution_count": 255,
     "metadata": {},
     "output_type": "execute_result"
    }
   ],
   "source": [
    "db.command('usersInfo')"
   ]
  },
  {
   "cell_type": "code",
   "execution_count": 256,
   "metadata": {},
   "outputs": [
    {
     "name": "stdout",
     "output_type": "stream",
     "text": [
      "root readWrite\n"
     ]
    }
   ],
   "source": [
    "listing = db.command('usersInfo')\n",
    "\n",
    "for document in listing['users']:\n",
    "    print(document['user'] +\" \"+ document['roles'][0]['role'])"
   ]
  },
  {
   "cell_type": "markdown",
   "metadata": {},
   "source": [
    "#### 3.Read mongo collection in DataFrame format"
   ]
  },
  {
   "cell_type": "code",
   "execution_count": 257,
   "metadata": {},
   "outputs": [],
   "source": [
    "import pandas as pd\n",
    "from pymongo import MongoClient\n",
    "\n",
    "def connect_mongo(host, port, username, password, db):\n",
    "    \"\"\" A util for making a connection to mongo \"\"\"\n",
    "\n",
    "    if username and password:\n",
    "        mongo_uri = 'mongodb://%s:%s@%s:%s/%s' % (username, password, host, port, db)\n",
    "        conn = MongoClient(mongo_uri)\n",
    "    else:\n",
    "        conn = MongoClient(host, port)\n",
    "\n",
    "    return conn[db]"
   ]
  },
  {
   "cell_type": "code",
   "execution_count": 258,
   "metadata": {},
   "outputs": [],
   "source": [
    "def read_mongo(db, collection, query={}, host='localhost', port=27017,\n",
    "               username=None, password=None, no_id=True):\n",
    "    \"\"\" Read from Mongo and Store into DataFrame \"\"\"\n",
    "\n",
    "    # Connect to MongoDB\n",
    "    db = connect_mongo(host=host, port=port, username=username, password=password, db=db)\n",
    "\n",
    "    # Make a query to the specific DB and Collection\n",
    "    cursor = db[collection].find(query)\n",
    "\n",
    "    # Expand the cursor and construct the DataFrame\n",
    "    df =  pd.DataFrame(list(cursor))\n",
    "\n",
    "    # Delete the _id\n",
    "    if no_id:\n",
    "        del df['_id']\n",
    "\n",
    "    return df"
   ]
  },
  {
   "cell_type": "code",
   "execution_count": 259,
   "metadata": {},
   "outputs": [
    {
     "data": {
      "text/html": [
       "<div>\n",
       "<style scoped>\n",
       "    .dataframe tbody tr th:only-of-type {\n",
       "        vertical-align: middle;\n",
       "    }\n",
       "\n",
       "    .dataframe tbody tr th {\n",
       "        vertical-align: top;\n",
       "    }\n",
       "\n",
       "    .dataframe thead th {\n",
       "        text-align: right;\n",
       "    }\n",
       "</style>\n",
       "<table border=\"1\" class=\"dataframe\">\n",
       "  <thead>\n",
       "    <tr style=\"text-align: right;\">\n",
       "      <th></th>\n",
       "      <th>name</th>\n",
       "      <th>age</th>\n",
       "      <th>qual</th>\n",
       "      <th>phone</th>\n",
       "    </tr>\n",
       "  </thead>\n",
       "  <tbody>\n",
       "    <tr>\n",
       "      <th>0</th>\n",
       "      <td>pawan</td>\n",
       "      <td>25</td>\n",
       "      <td>mech</td>\n",
       "      <td>8143</td>\n",
       "    </tr>\n",
       "    <tr>\n",
       "      <th>1</th>\n",
       "      <td>kiran</td>\n",
       "      <td>28</td>\n",
       "      <td>ecce</td>\n",
       "      <td>9700</td>\n",
       "    </tr>\n",
       "    <tr>\n",
       "      <th>2</th>\n",
       "      <td>vijay</td>\n",
       "      <td>27</td>\n",
       "      <td>csc</td>\n",
       "      <td>8125</td>\n",
       "    </tr>\n",
       "    <tr>\n",
       "      <th>3</th>\n",
       "      <td>teja</td>\n",
       "      <td>29</td>\n",
       "      <td>csc</td>\n",
       "      <td>9600</td>\n",
       "    </tr>\n",
       "    <tr>\n",
       "      <th>4</th>\n",
       "      <td>sudheer</td>\n",
       "      <td>26</td>\n",
       "      <td>mba</td>\n",
       "      <td>9133</td>\n",
       "    </tr>\n",
       "  </tbody>\n",
       "</table>\n",
       "</div>"
      ],
      "text/plain": [
       "      name age  qual phone\n",
       "0    pawan  25  mech  8143\n",
       "1    kiran  28  ecce  9700\n",
       "2    vijay  27   csc  8125\n",
       "3     teja  29   csc  9600\n",
       "4  sudheer  26   mba  9133"
      ]
     },
     "execution_count": 259,
     "metadata": {},
     "output_type": "execute_result"
    }
   ],
   "source": [
    "df = read_mongo(db=\"organization\", collection=\"student\")\n",
    "df.head()"
   ]
  },
  {
   "cell_type": "code",
   "execution_count": 260,
   "metadata": {},
   "outputs": [
    {
     "data": {
      "text/html": [
       "<div>\n",
       "<style scoped>\n",
       "    .dataframe tbody tr th:only-of-type {\n",
       "        vertical-align: middle;\n",
       "    }\n",
       "\n",
       "    .dataframe tbody tr th {\n",
       "        vertical-align: top;\n",
       "    }\n",
       "\n",
       "    .dataframe thead th {\n",
       "        text-align: right;\n",
       "    }\n",
       "</style>\n",
       "<table border=\"1\" class=\"dataframe\">\n",
       "  <thead>\n",
       "    <tr style=\"text-align: right;\">\n",
       "      <th></th>\n",
       "      <th>name</th>\n",
       "      <th>age</th>\n",
       "      <th>qual</th>\n",
       "      <th>phone</th>\n",
       "    </tr>\n",
       "  </thead>\n",
       "  <tbody>\n",
       "    <tr>\n",
       "      <th>0</th>\n",
       "      <td>pawan</td>\n",
       "      <td>25</td>\n",
       "      <td>mech</td>\n",
       "      <td>8143</td>\n",
       "    </tr>\n",
       "    <tr>\n",
       "      <th>1</th>\n",
       "      <td>kiran</td>\n",
       "      <td>28</td>\n",
       "      <td>ecce</td>\n",
       "      <td>9700</td>\n",
       "    </tr>\n",
       "    <tr>\n",
       "      <th>2</th>\n",
       "      <td>vijay</td>\n",
       "      <td>27</td>\n",
       "      <td>csc</td>\n",
       "      <td>8125</td>\n",
       "    </tr>\n",
       "    <tr>\n",
       "      <th>3</th>\n",
       "      <td>teja</td>\n",
       "      <td>29</td>\n",
       "      <td>csc</td>\n",
       "      <td>9600</td>\n",
       "    </tr>\n",
       "    <tr>\n",
       "      <th>4</th>\n",
       "      <td>sudheer</td>\n",
       "      <td>26</td>\n",
       "      <td>mba</td>\n",
       "      <td>9133</td>\n",
       "    </tr>\n",
       "  </tbody>\n",
       "</table>\n",
       "</div>"
      ],
      "text/plain": [
       "      name age  qual phone\n",
       "0    pawan  25  mech  8143\n",
       "1    kiran  28  ecce  9700\n",
       "2    vijay  27   csc  8125\n",
       "3     teja  29   csc  9600\n",
       "4  sudheer  26   mba  9133"
      ]
     },
     "execution_count": 260,
     "metadata": {},
     "output_type": "execute_result"
    }
   ],
   "source": [
    "df = read_mongo(db=\"organization\",collection='student',\n",
    "                username=\"root\", password=\"root\")\n",
    "df.head()"
   ]
  },
  {
   "cell_type": "code",
   "execution_count": 261,
   "metadata": {},
   "outputs": [
    {
     "name": "stdout",
     "output_type": "stream",
     "text": [
      "['admin', 'config', 'crawlerDB', 'local', 'mydemo', 'organization', 'pavandb']\n",
      "['student', 'samsung', 'rows_coll']\n",
      "<pymongo.cursor.Cursor object at 0x0000027B8883C160>\n"
     ]
    }
   ],
   "source": [
    "import pymongo\n",
    "import pandas as pd\n",
    "\n",
    "con = pymongo.MongoClient(\"mongodb://localhost:27017/\")\n",
    "print(con.list_database_names())\n",
    "db = con['organization']\n",
    "print(db.list_collection_names())\n",
    "coll = db['student']\n",
    "cursor = coll.find()\n",
    "print(cursor)"
   ]
  },
  {
   "cell_type": "code",
   "execution_count": 262,
   "metadata": {},
   "outputs": [
    {
     "data": {
      "text/html": [
       "<div>\n",
       "<style scoped>\n",
       "    .dataframe tbody tr th:only-of-type {\n",
       "        vertical-align: middle;\n",
       "    }\n",
       "\n",
       "    .dataframe tbody tr th {\n",
       "        vertical-align: top;\n",
       "    }\n",
       "\n",
       "    .dataframe thead th {\n",
       "        text-align: right;\n",
       "    }\n",
       "</style>\n",
       "<table border=\"1\" class=\"dataframe\">\n",
       "  <thead>\n",
       "    <tr style=\"text-align: right;\">\n",
       "      <th></th>\n",
       "      <th>_id</th>\n",
       "      <th>name</th>\n",
       "      <th>age</th>\n",
       "      <th>qual</th>\n",
       "      <th>phone</th>\n",
       "    </tr>\n",
       "  </thead>\n",
       "  <tbody>\n",
       "    <tr>\n",
       "      <th>0</th>\n",
       "      <td>5ed0e52f3312be780bdb6623</td>\n",
       "      <td>pawan</td>\n",
       "      <td>25</td>\n",
       "      <td>mech</td>\n",
       "      <td>8143</td>\n",
       "    </tr>\n",
       "    <tr>\n",
       "      <th>1</th>\n",
       "      <td>5ed0e5333312be780bdb6624</td>\n",
       "      <td>kiran</td>\n",
       "      <td>28</td>\n",
       "      <td>ecce</td>\n",
       "      <td>9700</td>\n",
       "    </tr>\n",
       "    <tr>\n",
       "      <th>2</th>\n",
       "      <td>5ed0e5333312be780bdb6625</td>\n",
       "      <td>vijay</td>\n",
       "      <td>27</td>\n",
       "      <td>csc</td>\n",
       "      <td>8125</td>\n",
       "    </tr>\n",
       "    <tr>\n",
       "      <th>3</th>\n",
       "      <td>5ed0e5333312be780bdb6626</td>\n",
       "      <td>teja</td>\n",
       "      <td>29</td>\n",
       "      <td>csc</td>\n",
       "      <td>9600</td>\n",
       "    </tr>\n",
       "    <tr>\n",
       "      <th>4</th>\n",
       "      <td>5ed0e5333312be780bdb6627</td>\n",
       "      <td>sudheer</td>\n",
       "      <td>26</td>\n",
       "      <td>mba</td>\n",
       "      <td>9133</td>\n",
       "    </tr>\n",
       "    <tr>\n",
       "      <th>5</th>\n",
       "      <td>5ed0e5333312be780bdb6628</td>\n",
       "      <td>swamy</td>\n",
       "      <td>26</td>\n",
       "      <td>csc</td>\n",
       "      <td>9123</td>\n",
       "    </tr>\n",
       "    <tr>\n",
       "      <th>6</th>\n",
       "      <td>5ed0e5333312be780bdb6629</td>\n",
       "      <td>chandu</td>\n",
       "      <td>26</td>\n",
       "      <td>mech</td>\n",
       "      <td>8150</td>\n",
       "    </tr>\n",
       "    <tr>\n",
       "      <th>7</th>\n",
       "      <td>5ed105333312be780bdb6637</td>\n",
       "      <td>kiran</td>\n",
       "      <td>28</td>\n",
       "      <td>ecce</td>\n",
       "      <td>9700</td>\n",
       "    </tr>\n",
       "    <tr>\n",
       "      <th>8</th>\n",
       "      <td>5ed105333312be780bdb6638</td>\n",
       "      <td>vijay</td>\n",
       "      <td>27</td>\n",
       "      <td>csc</td>\n",
       "      <td>8125</td>\n",
       "    </tr>\n",
       "    <tr>\n",
       "      <th>9</th>\n",
       "      <td>5ed105333312be780bdb6639</td>\n",
       "      <td>teja</td>\n",
       "      <td>29</td>\n",
       "      <td>csc</td>\n",
       "      <td>9600</td>\n",
       "    </tr>\n",
       "    <tr>\n",
       "      <th>10</th>\n",
       "      <td>5ed105333312be780bdb663a</td>\n",
       "      <td>sudheer</td>\n",
       "      <td>26</td>\n",
       "      <td>mba</td>\n",
       "      <td>9133</td>\n",
       "    </tr>\n",
       "    <tr>\n",
       "      <th>11</th>\n",
       "      <td>5ed105333312be780bdb663b</td>\n",
       "      <td>swamy</td>\n",
       "      <td>26</td>\n",
       "      <td>csc</td>\n",
       "      <td>9123</td>\n",
       "    </tr>\n",
       "    <tr>\n",
       "      <th>12</th>\n",
       "      <td>5ed105333312be780bdb663c</td>\n",
       "      <td>chandu</td>\n",
       "      <td>26</td>\n",
       "      <td>mech</td>\n",
       "      <td>8150</td>\n",
       "    </tr>\n",
       "    <tr>\n",
       "      <th>13</th>\n",
       "      <td>608abf1e723a32d98f3b4324</td>\n",
       "      <td>asdf</td>\n",
       "      <td>52</td>\n",
       "      <td>sds</td>\n",
       "      <td>456</td>\n",
       "    </tr>\n",
       "    <tr>\n",
       "      <th>14</th>\n",
       "      <td>608abfab723a32d98f3b4325</td>\n",
       "      <td>asdf</td>\n",
       "      <td>52</td>\n",
       "      <td>sds</td>\n",
       "      <td>456</td>\n",
       "    </tr>\n",
       "    <tr>\n",
       "      <th>15</th>\n",
       "      <td>65571721b1ff99d5e1e6d86a</td>\n",
       "      <td>pawan</td>\n",
       "      <td>25</td>\n",
       "      <td>mech</td>\n",
       "      <td>8143</td>\n",
       "    </tr>\n",
       "    <tr>\n",
       "      <th>16</th>\n",
       "      <td>65571756b1ff99d5e1e6d86b</td>\n",
       "      <td>kiran</td>\n",
       "      <td>28</td>\n",
       "      <td>ecce</td>\n",
       "      <td>9700</td>\n",
       "    </tr>\n",
       "    <tr>\n",
       "      <th>17</th>\n",
       "      <td>65571756b1ff99d5e1e6d86c</td>\n",
       "      <td>vijay</td>\n",
       "      <td>27</td>\n",
       "      <td>csc</td>\n",
       "      <td>8125</td>\n",
       "    </tr>\n",
       "    <tr>\n",
       "      <th>18</th>\n",
       "      <td>65571756b1ff99d5e1e6d86d</td>\n",
       "      <td>teja</td>\n",
       "      <td>29</td>\n",
       "      <td>csc</td>\n",
       "      <td>9600</td>\n",
       "    </tr>\n",
       "    <tr>\n",
       "      <th>19</th>\n",
       "      <td>65571756b1ff99d5e1e6d86e</td>\n",
       "      <td>sudheer</td>\n",
       "      <td>26</td>\n",
       "      <td>mba</td>\n",
       "      <td>9133</td>\n",
       "    </tr>\n",
       "    <tr>\n",
       "      <th>20</th>\n",
       "      <td>65571756b1ff99d5e1e6d86f</td>\n",
       "      <td>swamy</td>\n",
       "      <td>26</td>\n",
       "      <td>csc</td>\n",
       "      <td>9123</td>\n",
       "    </tr>\n",
       "    <tr>\n",
       "      <th>21</th>\n",
       "      <td>65571756b1ff99d5e1e6d870</td>\n",
       "      <td>chandu</td>\n",
       "      <td>26</td>\n",
       "      <td>mech</td>\n",
       "      <td>8150</td>\n",
       "    </tr>\n",
       "    <tr>\n",
       "      <th>22</th>\n",
       "      <td>6557397ab1ff99d5e1e6d893</td>\n",
       "      <td>pawan</td>\n",
       "      <td>25</td>\n",
       "      <td>mech</td>\n",
       "      <td>8143</td>\n",
       "    </tr>\n",
       "    <tr>\n",
       "      <th>23</th>\n",
       "      <td>6557397cb1ff99d5e1e6d894</td>\n",
       "      <td>kiran</td>\n",
       "      <td>28</td>\n",
       "      <td>ecce</td>\n",
       "      <td>9700</td>\n",
       "    </tr>\n",
       "    <tr>\n",
       "      <th>24</th>\n",
       "      <td>6557397cb1ff99d5e1e6d895</td>\n",
       "      <td>vijay</td>\n",
       "      <td>27</td>\n",
       "      <td>csc</td>\n",
       "      <td>8125</td>\n",
       "    </tr>\n",
       "    <tr>\n",
       "      <th>25</th>\n",
       "      <td>6557397cb1ff99d5e1e6d896</td>\n",
       "      <td>teja</td>\n",
       "      <td>29</td>\n",
       "      <td>csc</td>\n",
       "      <td>9600</td>\n",
       "    </tr>\n",
       "    <tr>\n",
       "      <th>26</th>\n",
       "      <td>6557397cb1ff99d5e1e6d897</td>\n",
       "      <td>sudheer</td>\n",
       "      <td>26</td>\n",
       "      <td>mba</td>\n",
       "      <td>9133</td>\n",
       "    </tr>\n",
       "    <tr>\n",
       "      <th>27</th>\n",
       "      <td>6557397cb1ff99d5e1e6d898</td>\n",
       "      <td>swamy</td>\n",
       "      <td>26</td>\n",
       "      <td>csc</td>\n",
       "      <td>9123</td>\n",
       "    </tr>\n",
       "    <tr>\n",
       "      <th>28</th>\n",
       "      <td>6557397cb1ff99d5e1e6d899</td>\n",
       "      <td>chandu</td>\n",
       "      <td>26</td>\n",
       "      <td>mech</td>\n",
       "      <td>8150</td>\n",
       "    </tr>\n",
       "  </tbody>\n",
       "</table>\n",
       "</div>"
      ],
      "text/plain": [
       "                         _id     name age  qual phone\n",
       "0   5ed0e52f3312be780bdb6623    pawan  25  mech  8143\n",
       "1   5ed0e5333312be780bdb6624    kiran  28  ecce  9700\n",
       "2   5ed0e5333312be780bdb6625    vijay  27   csc  8125\n",
       "3   5ed0e5333312be780bdb6626     teja  29   csc  9600\n",
       "4   5ed0e5333312be780bdb6627  sudheer  26   mba  9133\n",
       "5   5ed0e5333312be780bdb6628    swamy  26   csc  9123\n",
       "6   5ed0e5333312be780bdb6629   chandu  26  mech  8150\n",
       "7   5ed105333312be780bdb6637    kiran  28  ecce  9700\n",
       "8   5ed105333312be780bdb6638    vijay  27   csc  8125\n",
       "9   5ed105333312be780bdb6639     teja  29   csc  9600\n",
       "10  5ed105333312be780bdb663a  sudheer  26   mba  9133\n",
       "11  5ed105333312be780bdb663b    swamy  26   csc  9123\n",
       "12  5ed105333312be780bdb663c   chandu  26  mech  8150\n",
       "13  608abf1e723a32d98f3b4324     asdf  52   sds   456\n",
       "14  608abfab723a32d98f3b4325     asdf  52   sds   456\n",
       "15  65571721b1ff99d5e1e6d86a    pawan  25  mech  8143\n",
       "16  65571756b1ff99d5e1e6d86b    kiran  28  ecce  9700\n",
       "17  65571756b1ff99d5e1e6d86c    vijay  27   csc  8125\n",
       "18  65571756b1ff99d5e1e6d86d     teja  29   csc  9600\n",
       "19  65571756b1ff99d5e1e6d86e  sudheer  26   mba  9133\n",
       "20  65571756b1ff99d5e1e6d86f    swamy  26   csc  9123\n",
       "21  65571756b1ff99d5e1e6d870   chandu  26  mech  8150\n",
       "22  6557397ab1ff99d5e1e6d893    pawan  25  mech  8143\n",
       "23  6557397cb1ff99d5e1e6d894    kiran  28  ecce  9700\n",
       "24  6557397cb1ff99d5e1e6d895    vijay  27   csc  8125\n",
       "25  6557397cb1ff99d5e1e6d896     teja  29   csc  9600\n",
       "26  6557397cb1ff99d5e1e6d897  sudheer  26   mba  9133\n",
       "27  6557397cb1ff99d5e1e6d898    swamy  26   csc  9123\n",
       "28  6557397cb1ff99d5e1e6d899   chandu  26  mech  8150"
      ]
     },
     "execution_count": 262,
     "metadata": {},
     "output_type": "execute_result"
    }
   ],
   "source": [
    "pd.DataFrame(list(cursor))"
   ]
  },
  {
   "cell_type": "code",
   "execution_count": null,
   "metadata": {},
   "outputs": [],
   "source": []
  }
 ],
 "metadata": {
  "kernelspec": {
   "display_name": "Python 3",
   "language": "python",
   "name": "python3"
  },
  "language_info": {
   "codemirror_mode": {
    "name": "ipython",
    "version": 3
   },
   "file_extension": ".py",
   "mimetype": "text/x-python",
   "name": "python",
   "nbconvert_exporter": "python",
   "pygments_lexer": "ipython3",
   "version": "3.6.5"
  }
 },
 "nbformat": 4,
 "nbformat_minor": 2
}
