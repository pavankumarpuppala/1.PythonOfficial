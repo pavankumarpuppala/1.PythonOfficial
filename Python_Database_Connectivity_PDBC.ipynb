{
 "cells": [
  {
   "cell_type": "markdown",
   "metadata": {},
   "source": [
    "### Storage Areas\n",
    "- As the Part of our Applications, we required to store our Data like Customers Information, Billing\n",
    "Information, Calls Information etc..\n",
    "- To store this Data, we required Storage Areas. There are 2 types of Storage Areas.\n",
    "        1) Temporary Storage Areas\n",
    "        2) Permanent Storage Areas"
   ]
  },
  {
   "cell_type": "markdown",
   "metadata": {},
   "source": [
    "#### 1.Temporary Storage Areas: These are the Memory Areas where Data will be stored temporarily.\n",
    "- Eg: Python objects like List, Tuple, Dictionary.\n",
    "- Once Python program completes its execution then these objects will be destroyed automatically\n",
    "and data will be lost."
   ]
  },
  {
   "cell_type": "markdown",
   "metadata": {},
   "source": [
    "#### 2. Permanent Storage Areas: Also known as Persistent Storage Areas. Here we can store Data permanently.\n",
    "- Eg: File Systems, Databases, Data warehouses, Big Data Technologies etc"
   ]
  },
  {
   "cell_type": "markdown",
   "metadata": {},
   "source": [
    "### File Systems: File Systems can be provided by Local operating System. File Systems are best suitable to store very less Amount of Information.\n",
    "\n",
    "#### Limitaitons:\n",
    "- We cannot store huge Amount of Information.\n",
    "- There is no Query Language support and hence operations will become very complex.\n",
    "- There is no Security for Data.\n",
    "- There is no Mechanism to prevent duplicate Data. Hence there may be a chance of Data Inconsistency Problems."
   ]
  },
  {
   "cell_type": "markdown",
   "metadata": {},
   "source": [
    "### Databases:\n",
    "- We can store Huge Amount of Information in the Databases.\n",
    "- Query Language Support is available for every Database and hence we can perform Database Operations very easily.\n",
    "- To access Data present in the Database, compulsory username and pwd must be required.Hence Data is secured.\n",
    "- Inside Database Data will be stored in the form of Tables. While developing Database Table\n",
    "    - Schemas, Database Admin follow various Normalization Techniques and can implement various\n",
    "    - Constraints like Unique Key Constrains, Primary Key Constraints etc which prevent Data Duplication. Hence there is no chance of Data Inconsistency Problems."
   ]
  },
  {
   "cell_type": "markdown",
   "metadata": {},
   "source": [
    "### Limitations of Databases:\n",
    "- Database cannot hold very Huge Amount of Information like Terabytes of Data.\n",
    "- Database can provide support only for Structured Data (Tabular Data OR Relational Data) and cannot provide support for Semi Structured Data (like XML Files) and Unstructured Data (like Video Files, Audio Files, Images etc)\n",
    "- To overcome these Problems we should go for more Advanced Storage Areas like Big Data\n",
    "Technologies, Data warehouses etc."
   ]
  },
  {
   "cell_type": "markdown",
   "metadata": {},
   "source": [
    "### Python Database Programming:\n",
    "- Sometimes as the part of Programming requirement we have to connect to the database and we have to perform several operations like creating tables, inserting data,updating data,deleting data,selecting data etc.\n",
    "- We can use SQL Language to talk to the database and we can use Python to send those SQL commands to the database.\n",
    "- Python provides inbuilt support for several databases like Oracle, MySql, SqlServer, GadFly, sqlite, etc.\n",
    "- Python has seperate module for each database."
   ]
  },
  {
   "cell_type": "markdown",
   "metadata": {},
   "source": [
    "### Standard Steps for Python database Programming:\n",
    "- Import database specific module\n",
    "- Establish Connection between Python Program and database. We can create this Connection object by using connect() function of the module.\n",
    "- To execute our sql queries and to hold results some special object is required, which is nothing but Cursor object. We can create Cursor object by using cursor() method.\n",
    "- Execute SQL Queries By using Cursor object. For this we can use the following methods\n",
    "          i) execute(sqlquery) --> To execute a single sql query\n",
    "         ii) executescript(sqlqueries)--> To execute a string of sql queries seperated by semi-colon ';'\n",
    "        iii) executemany() --> To execute a Parameterized query\n",
    "        Eg: cursor.execute(\"select * from employees\")\n",
    "        \n",
    "- commit or rollback changes based on our requirement in the case of DML Queries(insert|update|delete)\n",
    "        - commit() --> Saves the changes to the database\n",
    "        - rollback() --> rolls all temporary changes back\n",
    "- Fetch the result from the Cursor object in the case of select queries\n",
    "        - fetchone() --> To fetch only one row\n",
    "        - fetchall() --> To fetch all rows and it returns a list of rows\n",
    "        - fecthmany(n) --> To fetch first n rows\n",
    "        \n",
    "        - Eg 1: data =cursor.fetchone()\n",
    "                print(data)\n",
    "        - Eg 2: data=cursor.fetchall()\n",
    "                for row in data:\n",
    "                    print(row)\n",
    "                    \n",
    "- close the resources\n",
    "    After completing our operations it is highly recommended to close the resources in the reverse\n",
    "    order of their opening by using close() methods.\n",
    "        - cursor.close()\n",
    "        - con.close()"
   ]
  },
  {
   "cell_type": "markdown",
   "metadata": {},
   "source": [
    "<b>Note: The following is the list of all important methods which can be used for python database\n",
    "programming.</b>"
   ]
  },
  {
   "cell_type": "markdown",
   "metadata": {},
   "source": [
    "- connect()\n",
    "- cursor()\n",
    "- execute()\n",
    "- executescript()\n",
    "- executemany()\n",
    "- commit()\n",
    "- rollback()\n",
    "- fetchone()\n",
    "- fetchall()\n",
    "- fetchmany(n)\n",
    "- fetch\n",
    "- close()"
   ]
  },
  {
   "cell_type": "markdown",
   "metadata": {},
   "source": [
    "## MySql DB"
   ]
  },
  {
   "cell_type": "code",
   "execution_count": null,
   "metadata": {},
   "outputs": [],
   "source": []
  }
 ],
 "metadata": {
  "kernelspec": {
   "display_name": "Python 3",
   "language": "python",
   "name": "python3"
  },
  "language_info": {
   "codemirror_mode": {
    "name": "ipython",
    "version": 3
   },
   "file_extension": ".py",
   "mimetype": "text/x-python",
   "name": "python",
   "nbconvert_exporter": "python",
   "pygments_lexer": "ipython3",
   "version": "3.6.5"
  }
 },
 "nbformat": 4,
 "nbformat_minor": 2
}
