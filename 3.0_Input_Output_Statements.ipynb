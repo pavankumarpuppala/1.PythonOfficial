{
 "cells": [
  {
   "cell_type": "markdown",
   "metadata": {},
   "source": [
    "#### In Python3 we have input() method to Read dynamic input from the keyboard:\n",
    "- input() always return str type. we have to convert into our required form"
   ]
  },
  {
   "cell_type": "code",
   "execution_count": 2,
   "metadata": {},
   "outputs": [
    {
     "name": "stdout",
     "output_type": "stream",
     "text": [
      "Enter the value:10\n",
      "<class 'str'>\n"
     ]
    }
   ],
   "source": [
    "x = input(\"Enter the value:\")\n",
    "print(type(x))"
   ]
  },
  {
   "cell_type": "code",
   "execution_count": 3,
   "metadata": {},
   "outputs": [
    {
     "name": "stdout",
     "output_type": "stream",
     "text": [
      "Enter the value:10+2j\n",
      "<class 'str'>\n"
     ]
    }
   ],
   "source": [
    "x = input(\"Enter the value:\")\n",
    "print(type(x))"
   ]
  },
  {
   "cell_type": "markdown",
   "metadata": {},
   "source": [
    "#### Q. Write a program to read 2 numbers from the keyboard and print sum."
   ]
  },
  {
   "cell_type": "code",
   "execution_count": 4,
   "metadata": {},
   "outputs": [
    {
     "name": "stdout",
     "output_type": "stream",
     "text": [
      "Enter first value:10\n",
      "Enter second value:20\n",
      "The Sum: 30\n"
     ]
    }
   ],
   "source": [
    "x = input(\"Enter first value:\")\n",
    "y = input(\"Enter second value:\")\n",
    "\n",
    "i = int(x)\n",
    "j = int(y)\n",
    "\n",
    "print(\"The Sum:\",i+j)"
   ]
  },
  {
   "cell_type": "markdown",
   "metadata": {},
   "source": [
    "#### Q. Write a program to read Employee data from the keyboard and print that data."
   ]
  },
  {
   "cell_type": "code",
   "execution_count": 5,
   "metadata": {},
   "outputs": [
    {
     "name": "stdout",
     "output_type": "stream",
     "text": [
      "enter employee no.:1\n",
      "enter employee name:pawan\n",
      "enter employee sal:2000\n",
      "employee working or not?:True\n",
      "Employee No.: 1\n",
      "Employee Name: pawan\n",
      "Employee salary: 2000.0\n",
      "Employee status: True\n"
     ]
    }
   ],
   "source": [
    "eno = int(input(\"enter employee no.:\"))\n",
    "ename = input(\"enter employee name:\")\n",
    "esal = float(input(\"enter employee sal:\"))\n",
    "estatus = bool(input(\"employee working or not?:\"))\n",
    "\n",
    "print(\"Employee No.:\",eno)\n",
    "print(\"Employee Name:\",ename)\n",
    "print(\"Employee salary:\",esal)\n",
    "print(\"Employee status:\",estatus)"
   ]
  },
  {
   "cell_type": "markdown",
   "metadata": {},
   "source": [
    "#### How to read multiple values from the keyboard in a single line:"
   ]
  },
  {
   "cell_type": "code",
   "execution_count": 3,
   "metadata": {},
   "outputs": [
    {
     "name": "stdout",
     "output_type": "stream",
     "text": [
      "Enter 2 numbers:10 20\n",
      "The Product of two numbers: 200\n"
     ]
    }
   ],
   "source": [
    "a,b = [int(x) for x in input(\"Enter 2 numbers:\").split()]\n",
    "print(\"The Product of two numbers:\",a*b)"
   ]
  },
  {
   "cell_type": "markdown",
   "metadata": {},
   "source": [
    "<b>**Note: split() function can take space as seperator by default .But we can pass anything as seperator.</b>"
   ]
  },
  {
   "cell_type": "markdown",
   "metadata": {},
   "source": [
    "#### Q. Write a program to read 3 float numbers from the keyboard with , seperator and print their sum."
   ]
  },
  {
   "cell_type": "code",
   "execution_count": 16,
   "metadata": {},
   "outputs": [
    {
     "name": "stdout",
     "output_type": "stream",
     "text": [
      "Enter 3 numbers:10,20,30\n",
      "Addition of given 3 numbers: 60\n"
     ]
    }
   ],
   "source": [
    "a,b,c = [int(x) for x in input(\"Enter 3 numbers:\").split(',')]\n",
    "print(\"Addition of given 3 numbers:\",a+b+c)"
   ]
  },
  {
   "cell_type": "markdown",
   "metadata": {},
   "source": [
    "### eval()\n",
    "- eval Function take a expression(String) and evaluate the Result."
   ]
  },
  {
   "cell_type": "code",
   "execution_count": 4,
   "metadata": {},
   "outputs": [
    {
     "name": "stdout",
     "output_type": "stream",
     "text": [
      "60\n"
     ]
    }
   ],
   "source": [
    "x = eval(\"10+20+30\")\n",
    "print(x)"
   ]
  },
  {
   "cell_type": "code",
   "execution_count": 8,
   "metadata": {},
   "outputs": [
    {
     "name": "stdout",
     "output_type": "stream",
     "text": [
      "11.5\n"
     ]
    }
   ],
   "source": [
    "x = eval(\"10+2*3/4\")\n",
    "print(x)     #bodmas rule: Brackets, Orders, Division/Multiplication, Addition/Subtraction."
   ]
  },
  {
   "cell_type": "markdown",
   "metadata": {},
   "source": [
    "- eval() can evaluate the Input to list, tuple, set, etc based the provided Input."
   ]
  },
  {
   "cell_type": "code",
   "execution_count": 3,
   "metadata": {},
   "outputs": [
    {
     "name": "stdout",
     "output_type": "stream",
     "text": [
      "Enter the list of values:[10,20,30,40]\n",
      "<class 'list'>\n"
     ]
    }
   ],
   "source": [
    "list = eval(input(\"Enter the list of values:\"))\n",
    "print(type(list))"
   ]
  },
  {
   "cell_type": "code",
   "execution_count": 3,
   "metadata": {},
   "outputs": [
    {
     "name": "stdout",
     "output_type": "stream",
     "text": [
      "enter the function:x*(x+1)*(x+2)\n",
      "enter the value of x:2\n",
      "y value is: 24\n"
     ]
    }
   ],
   "source": [
    "def fun_creator():\n",
    "    expr = input(\"enter the function:\")\n",
    "    x = int(input(\"enter the value of x:\"))\n",
    "    y = eval(expr)\n",
    "    print(\"y value is:\",y)\n",
    "    \n",
    "fun_creator()"
   ]
  },
  {
   "cell_type": "markdown",
   "metadata": {},
   "source": [
    "## Command Line Arguments\n",
    "- the argument values which are passing at the time of execution\n",
    "- Within the Python Program this Command Line Arguments are available in argv. Which is present in SYS Module."
   ]
  },
  {
   "cell_type": "code",
   "execution_count": 6,
   "metadata": {},
   "outputs": [
    {
     "data": {
      "image/png": "[encoded data removed]",
      "text/plain": [
       "<IPython.core.display.Image object>"
      ]
     },
     "execution_count": 6,
     "metadata": {},
     "output_type": "execute_result"
    }
   ],
   "source": [
    "from IPython.display import Image\n",
    "Image(\"E:/code/1.pythonofficial/python/cmd1.png\")"
   ]
  },
  {
   "cell_type": "markdown",
   "metadata": {},
   "source": [
    "<b>**Note: argv[0] represents Name of Program. But not first Command Line Argument. argv[1] represent First Command Line Argument.</b>"
   ]
  },
  {
   "cell_type": "markdown",
   "metadata": {},
   "source": [
    "#### Ex: Write a Program to display Command Line Arguments"
   ]
  },
  {
   "cell_type": "code",
   "execution_count": 7,
   "metadata": {},
   "outputs": [
    {
     "data": {
      "image/png": "[encoded data removed]",
      "text/plain": [
       "<IPython.core.display.Image object>"
      ]
     },
     "execution_count": 7,
     "metadata": {},
     "output_type": "execute_result"
    }
   ],
   "source": [
    "from IPython.display import Image\n",
    "Image(\"E:/code/1.pythonofficial/python/cmd2.png\")"
   ]
  },
  {
   "cell_type": "markdown",
   "metadata": {},
   "source": [
    "#### Ex: Write a Program to display sum of Command Line Arguments"
   ]
  },
  {
   "cell_type": "code",
   "execution_count": 9,
   "metadata": {},
   "outputs": [
    {
     "data": {
      "image/png": "[encoded data removed]",
      "text/plain": [
       "<IPython.core.display.Image object>"
      ]
     },
     "execution_count": 9,
     "metadata": {},
     "output_type": "execute_result"
    }
   ],
   "source": [
    "from IPython.display import Image\n",
    "Image(\"E:/code/1.pythonofficial/python/cmd3.png\")"
   ]
  },
  {
   "cell_type": "markdown",
   "metadata": {},
   "source": [
    "<b>**Note1: usually space is seperator between command line arguments. If our command line argument itself contains space then we should enclose within double quotes(but not single quotes)</b>"
   ]
  },
  {
   "cell_type": "code",
   "execution_count": 10,
   "metadata": {},
   "outputs": [
    {
     "data": {
      "image/png": "[encoded data removed]",
      "text/plain": [
       "<IPython.core.display.Image object>"
      ]
     },
     "execution_count": 10,
     "metadata": {},
     "output_type": "execute_result"
    }
   ],
   "source": [
    "from IPython.display import Image\n",
    "Image(\"E:/code/1.pythonofficial/python/cmd4.png\")"
   ]
  },
  {
   "cell_type": "markdown",
   "metadata": {},
   "source": [
    "<b>**Note2: Within the Python program command line arguments are available in the String form. Based on our requirement,we can convert into corresponding type by using type casting methods.</b>"
   ]
  },
  {
   "cell_type": "code",
   "execution_count": 12,
   "metadata": {},
   "outputs": [
    {
     "data": {
      "image/png": "[encoded data removed]",
      "text/plain": [
       "<IPython.core.display.Image object>"
      ]
     },
     "execution_count": 12,
     "metadata": {},
     "output_type": "execute_result"
    }
   ],
   "source": [
    "from IPython.display import Image\n",
    "Image(\"E:/code/1.pythonofficial/python/cmd5.png\")"
   ]
  },
  {
   "cell_type": "markdown",
   "metadata": {},
   "source": [
    "<b>**Note3: If we are trying to access command line arguments with out of range index then we will get Error.</b>"
   ]
  },
  {
   "cell_type": "code",
   "execution_count": 13,
   "metadata": {},
   "outputs": [
    {
     "data": {
      "image/png": "[encoded data removed]",
      "text/plain": [
       "<IPython.core.display.Image object>"
      ]
     },
     "execution_count": 13,
     "metadata": {},
     "output_type": "execute_result"
    }
   ],
   "source": [
    "from IPython.display import Image\n",
    "Image(\"E:/code/1.pythonofficial/python/cmd6.png\")"
   ]
  },
  {
   "cell_type": "markdown",
   "metadata": {},
   "source": [
    "## Output statements: print() function to display output."
   ]
  },
  {
   "cell_type": "markdown",
   "metadata": {},
   "source": [
    "### Form 1: print() without any argument. just it prints new line character"
   ]
  },
  {
   "cell_type": "markdown",
   "metadata": {},
   "source": [
    "### Form 2:"
   ]
  },
  {
   "cell_type": "code",
   "execution_count": 19,
   "metadata": {},
   "outputs": [
    {
     "name": "stdout",
     "output_type": "stream",
     "text": [
      "pavan puppala\n",
      "HI\n",
      "pavan\tpuppala\n",
      "pavanpavan\n",
      "pavankumar\n"
     ]
    }
   ],
   "source": [
    "print(\"pavan puppala\")\n",
    "\n",
    "# we can use escape characters\n",
    "print(\"HI\\npavan\\tpuppala\")\n",
    "\n",
    "# we can use repetition operator\n",
    "print(\"pavan\"*2)\n",
    "\n",
    "# we can use concatenate operator\n",
    "print(\"pavan\"+\"kumar\")"
   ]
  },
  {
   "cell_type": "markdown",
   "metadata": {},
   "source": [
    "<b>Note: If both arguments are String type then + operator acts as concatenation operator.\n",
    "- If one argument is string type and second is any other type like int then we will get Error\n",
    "- If both arguments are number type then + operator acts as arithmetic addition operator.</b>"
   ]
  },
  {
   "cell_type": "markdown",
   "metadata": {},
   "source": [
    "### Form 3:"
   ]
  },
  {
   "cell_type": "code",
   "execution_count": 20,
   "metadata": {},
   "outputs": [
    {
     "name": "stdout",
     "output_type": "stream",
     "text": [
      "The values are: 10 20 30\n"
     ]
    }
   ],
   "source": [
    "a,b,c = 10,20,30\n",
    "print(\"The values are:\",a,b,c)"
   ]
  },
  {
   "cell_type": "markdown",
   "metadata": {},
   "source": [
    "<b>By default output values are seperated by space.If we want we can specify seperator by using \"sep\" attribute</b>"
   ]
  },
  {
   "cell_type": "code",
   "execution_count": 22,
   "metadata": {},
   "outputs": [
    {
     "name": "stdout",
     "output_type": "stream",
     "text": [
      "The values are:,10,20,30\n",
      "The values are::10:20:30\n"
     ]
    }
   ],
   "source": [
    "a,b,c = 10,20,30\n",
    "print(\"The values are:\",a,b,c,sep=',')\n",
    "print(\"The values are:\",a,b,c,sep=':')"
   ]
  },
  {
   "cell_type": "markdown",
   "metadata": {},
   "source": [
    "### Form 4: print() with end attribute:"
   ]
  },
  {
   "cell_type": "code",
   "execution_count": 24,
   "metadata": {},
   "outputs": [
    {
     "name": "stdout",
     "output_type": "stream",
     "text": [
      "pawan kumar puppala\n"
     ]
    }
   ],
   "source": [
    "print(\"pawan\",end=' ')\n",
    "print(\"kumar\",end=' ')\n",
    "print(\"puppala\")"
   ]
  },
  {
   "cell_type": "markdown",
   "metadata": {},
   "source": [
    "<b>Note: The default value for end attribute is \\n,which is nothing but new line character.</b>"
   ]
  },
  {
   "cell_type": "markdown",
   "metadata": {},
   "source": [
    "### Form 5: print(object) statement\n",
    "- We can pass any object (like list,tuple,set etc)as argument to the print() statement."
   ]
  },
  {
   "cell_type": "code",
   "execution_count": 26,
   "metadata": {},
   "outputs": [
    {
     "name": "stdout",
     "output_type": "stream",
     "text": [
      "[10, 20, 30, 40]\n",
      "(11, 22, 33, 44)\n"
     ]
    }
   ],
   "source": [
    "l = [10,20,30,40]\n",
    "t = (11,22,33,44)\n",
    "print(l)\n",
    "print(t)"
   ]
  },
  {
   "cell_type": "markdown",
   "metadata": {},
   "source": [
    "### Form 6: print(String,variable list): We can use print() statement with String and any number of arguments"
   ]
  },
  {
   "cell_type": "code",
   "execution_count": 27,
   "metadata": {},
   "outputs": [
    {
     "name": "stdout",
     "output_type": "stream",
     "text": [
      "HI I am pavan i am from Bheemavaram\n"
     ]
    }
   ],
   "source": [
    "p = \"pavan\"\n",
    "b = \"Bheemavaram\"\n",
    "print(\"HI I am\",p,\"i am from\",b)"
   ]
  },
  {
   "cell_type": "markdown",
   "metadata": {},
   "source": [
    "### Form 7: print(formatted string):\n",
    "- %i ---> int\n",
    "- %d ---> int\n",
    "- %f ---> float\n",
    "- %s ---> String type"
   ]
  },
  {
   "cell_type": "markdown",
   "metadata": {},
   "source": [
    "<b> Syntax: print(\"formatted string\" %(variable list))</b>"
   ]
  },
  {
   "cell_type": "code",
   "execution_count": 35,
   "metadata": {},
   "outputs": [
    {
     "name": "stdout",
     "output_type": "stream",
     "text": [
      "a value is 10\n",
      "b value is 20 and c value is 30\n"
     ]
    }
   ],
   "source": [
    "a,b,c = 10,20,30\n",
    "print(\"a value is %i\" %a)\n",
    "print(\"b value is %i and c value is %i\" %(b,c))"
   ]
  },
  {
   "cell_type": "code",
   "execution_count": 36,
   "metadata": {},
   "outputs": [
    {
     "name": "stdout",
     "output_type": "stream",
     "text": [
      "Hi i am pawan and i am from Bheemavaram\n"
     ]
    }
   ],
   "source": [
    "p = \"pawan\"\n",
    "b = \"Bheemavaram\"\n",
    "print(\"Hi i am %s and i am from %s\" %(p,b))"
   ]
  },
  {
   "cell_type": "markdown",
   "metadata": {},
   "source": [
    "### Form 8: print() with replacement operator {}"
   ]
  },
  {
   "cell_type": "code",
   "execution_count": 37,
   "metadata": {},
   "outputs": [
    {
     "name": "stdout",
     "output_type": "stream",
     "text": [
      "enter name: pawan\n",
      "enter your age: 24\n",
      "enter you salary: 10000\n",
      "Employee deatils are:\n"
     ]
    }
   ],
   "source": [
    "name=input(\"enter name: \")\n",
    "age=int(input(\"enter your age: \"))\n",
    "salary=float(input(\"enter you salary: \"))\n",
    "\n",
    "print(\"Employee deatils are:\")"
   ]
  },
  {
   "cell_type": "code",
   "execution_count": 38,
   "metadata": {},
   "outputs": [
    {
     "name": "stdout",
     "output_type": "stream",
     "text": [
      "Employee name is pawan age is 24 his salary is: 10000.0\n"
     ]
    }
   ],
   "source": [
    "print(\"Employee name is\",name,\"age is\",age,\"his salary is:\",salary)"
   ]
  },
  {
   "cell_type": "code",
   "execution_count": 41,
   "metadata": {},
   "outputs": [
    {
     "name": "stdout",
     "output_type": "stream",
     "text": [
      "Employee name pawan is age 24 and his salary is 10000.0\n"
     ]
    }
   ],
   "source": [
    "print(\"Employee name {0} is age {1} and his salary is {2}\".format(name,age,salary))"
   ]
  },
  {
   "cell_type": "code",
   "execution_count": 40,
   "metadata": {},
   "outputs": [
    {
     "name": "stdout",
     "output_type": "stream",
     "text": [
      "Employee name pawan is age 24 and his salary is 10000.0\n"
     ]
    }
   ],
   "source": [
    "print(\"Employee name {a} is age {b} and his salary is {c}\".format(a=name,b=age,c=salary))"
   ]
  },
  {
   "cell_type": "code",
   "execution_count": null,
   "metadata": {},
   "outputs": [],
   "source": []
  }
 ],
 "metadata": {
  "kernelspec": {
   "display_name": "Python 3",
   "language": "python",
   "name": "python3"
  },
  "language_info": {
   "codemirror_mode": {
    "name": "ipython",
    "version": 3
   },
   "file_extension": ".py",
   "mimetype": "text/x-python",
   "name": "python",
   "nbconvert_exporter": "python",
   "pygments_lexer": "ipython3",
   "version": "3.6.5"
  }
 },
 "nbformat": 4,
 "nbformat_minor": 2
}
