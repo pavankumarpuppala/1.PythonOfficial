{
 "cells": [
  {
   "cell_type": "markdown",
   "metadata": {},
   "source": [
    "## Content\n",
    "    1. Inheritance\n",
    "    2. Has-A Relationship\n",
    "    3. Is-A  Relationship\n",
    "    4. Is-A Vs Has-A Relationship\n",
    "    5. Composition vs Aggregation\n",
    "    6. Types of Inheritance\n",
    "        - Single Inheritance\n",
    "        - Multi Level Inheritance \n",
    "        - Hierarchical Inheritance\n",
    "        - Multiple Inheritance \n",
    "        - Hybrid Inheritance\n",
    "        - Cyclic Inheritance\n",
    "    7. Method Resolution Order(MRO)\n",
    "    8. Super()"
   ]
  },
  {
   "cell_type": "markdown",
   "metadata": {},
   "source": [
    "## 1. Inheritance\n",
    "1. it is the mechanism of deriving new classes from existing ones(It means child class can acquires all the properties and methods from parent class)\n",
    "2. we can use members of one class inside another class by using\n",
    "    - Composition(Has-a Relation)\n",
    "    - Inheritance(Is-a Relation)"
   ]
  },
  {
   "cell_type": "markdown",
   "metadata": {},
   "source": [
    "## 2. Composition(Has-a Relation)\n",
    "- By using Class Name or by creating object we can access members of one class inside another class is nothing but composition (Has-A Relationship).\n",
    "- The main advantage of Has-A Relationship is Code Reusability."
   ]
  },
  {
   "cell_type": "code",
   "execution_count": 2,
   "metadata": {},
   "outputs": [
    {
     "data": {
      "image/png": "[encoded data removed]",
      "text/plain": [
       "<IPython.core.display.Image object>"
      ]
     },
     "execution_count": 2,
     "metadata": {},
     "output_type": "execute_result"
    }
   ],
   "source": [
    "from IPython.display import Image\n",
    "Image(\"E:/code/1.pythonofficial/img/inher1.png\")"
   ]
  },
  {
   "cell_type": "code",
   "execution_count": 3,
   "metadata": {},
   "outputs": [
    {
     "name": "stdout",
     "output_type": "stream",
     "text": [
      "parent class m1() method\n",
      "parent class m2() method\n",
      "parent class m3() method\n"
     ]
    }
   ],
   "source": [
    "class X:\n",
    "    def m1(self):\n",
    "        print(\"parent class m1() method\")\n",
    "    def m2(self):\n",
    "        print(\"parent class m2() method\")\n",
    "    def m3(self):\n",
    "        print(\"parent class m3() method\")\n",
    "        \n",
    "#here Y class HAS-A X reference\n",
    "class Y:\n",
    "    x=X()\n",
    "    x.m1()\n",
    "    x.m2()\n",
    "    x.m3()"
   ]
  },
  {
   "cell_type": "markdown",
   "metadata": {},
   "source": [
    "#### Example1"
   ]
  },
  {
   "cell_type": "code",
   "execution_count": 4,
   "metadata": {},
   "outputs": [
    {
     "name": "stdout",
     "output_type": "stream",
     "text": [
      "car class using Engine class functionality\n",
      "10\n",
      "20\n",
      "Engine specific Functionality...\n"
     ]
    }
   ],
   "source": [
    "class Engine:\n",
    "    a=10                     # static variable\n",
    "    \n",
    "    def __init__(self):\n",
    "        self.b=20            # instance variable\n",
    "        \n",
    "    def m1(self):\n",
    "        print(\"Engine specific Functionality...\")\n",
    "        \n",
    "class Car:                   # Every car HAS-A Engine\n",
    "    \n",
    "    def __init__(self):\n",
    "        self.engine=Engine() # whenever we are creating car object automatically engine object also created \n",
    "        \n",
    "    def m2(self):\n",
    "        print(\"car class using Engine class functionality\")\n",
    "        print(self.engine.a) # we access static variable by using class name or object ref.\n",
    "        print(self.engine.b)\n",
    "        self.engine.m1()\n",
    "        \n",
    "c=Car()\n",
    "c.m2()"
   ]
  },
  {
   "cell_type": "markdown",
   "metadata": {},
   "source": [
    "#### Example2"
   ]
  },
  {
   "cell_type": "code",
   "execution_count": 5,
   "metadata": {},
   "outputs": [
    {
     "name": "stdout",
     "output_type": "stream",
     "text": [
      "Employee name: pawan\n",
      "Employee salary: 10000\n",
      "Emp car Info:\n",
      "Car Name:Benz 4matic, color is:Navy Blue,model is:350d\n"
     ]
    }
   ],
   "source": [
    "class Car:\n",
    "    def __init__(self,name,color,model):\n",
    "        self.name=name\n",
    "        self.color=color\n",
    "        self.model=model\n",
    "        \n",
    "    def getInfo(self):\n",
    "        print(\"Car Name:{}, color is:{},model is:{}\".format(self.name,self.color,self.model))\n",
    "\n",
    "class Employee:\n",
    "    def __init__(self,name,sal,car):\n",
    "        self.name=name\n",
    "        self.sal=sal\n",
    "        self.car=car\n",
    "        \n",
    "    def empInfo(self):\n",
    "        print(\"Employee name:\",self.name)\n",
    "        print(\"Employee salary:\",self.sal)\n",
    "        print(\"Emp car Info:\")\n",
    "        self.car.getInfo()\n",
    "\n",
    "c=Car(\"Benz 4matic\",\"Navy Blue\",\"350d\") # first we have to create car obj later pass the car obj to employee\n",
    "e=Employee(\"pawan\",10000,c)\n",
    "e.empInfo()"
   ]
  },
  {
   "cell_type": "code",
   "execution_count": 6,
   "metadata": {},
   "outputs": [
    {
     "name": "stdout",
     "output_type": "stream",
     "text": [
      "10\n",
      "20\n",
      "m1 method of x class\n",
      "30\n",
      "40\n",
      "m2 method of y class\n",
      "m3 method of y class\n"
     ]
    }
   ],
   "source": [
    "class X:\n",
    "    a=10\n",
    "    def __init__(self):\n",
    "        self.b=20\n",
    "    def m1(self):\n",
    "        print(\"m1 method of x class\")\n",
    "        \n",
    "class Y:\n",
    "    c=30\n",
    "    def __init__(self):\n",
    "        self.d=40\n",
    "    def m2(self):\n",
    "        print(\"m2 method of y class\")\n",
    "    def m3(self):\n",
    "        x1=X()\n",
    "        print(x1.a)\n",
    "        print(x1.b)\n",
    "        x1.m1()\n",
    "        \n",
    "        print(Y.c)\n",
    "        print(self.d)\n",
    "        self.m2()\n",
    "        print(\"m3 method of y class\")\n",
    "        \n",
    "y1=Y()\n",
    "y1.m3()"
   ]
  },
  {
   "cell_type": "markdown",
   "metadata": {},
   "source": [
    "## 3. Inheritance(Is-a Relation)\n",
    "- What ever variables, methods and constructors available in the parent class by default available to the child classes and we are not required to rewrite. \n",
    "- Hence the main advantage of inheritance is Code Reusability \n",
    "- we can extend existing functionality with some more extra functionality."
   ]
  },
  {
   "cell_type": "code",
   "execution_count": 7,
   "metadata": {},
   "outputs": [
    {
     "data": {
      "image/png": "[encoded data removed]",
      "text/plain": [
       "<IPython.core.display.Image object>"
      ]
     },
     "execution_count": 7,
     "metadata": {},
     "output_type": "execute_result"
    }
   ],
   "source": [
    "from IPython.display import Image\n",
    "Image(\"E:/code/1.pythonofficial/img/inher2.png\")"
   ]
  },
  {
   "cell_type": "markdown",
   "metadata": {},
   "source": [
    "#### Example3"
   ]
  },
  {
   "cell_type": "code",
   "execution_count": 8,
   "metadata": {},
   "outputs": [
    {
     "name": "stdout",
     "output_type": "stream",
     "text": [
      "10\n",
      "20\n",
      "parent class Instance method\n",
      "parent class class method\n",
      "parent class static method\n"
     ]
    }
   ],
   "source": [
    "class Parent():\n",
    "    a=10\n",
    "    def __init__(self):\n",
    "        self.b=20\n",
    "        \n",
    "    def m1(self):\n",
    "        print(\"parent class Instance method\")\n",
    "    \n",
    "    @classmethod\n",
    "    def m2(cls):\n",
    "        print(\"parent class class method\")\n",
    "        \n",
    "    @staticmethod\n",
    "    def m3():\n",
    "        print(\"parent class static method\")\n",
    "        \n",
    "    #def __del__(self):\n",
    "        #print(\"parent class destructor\")\n",
    "        \n",
    "class Child(Parent):\n",
    "    pass\n",
    "\n",
    "c=Child()\n",
    "print(c.a)\n",
    "print(c.b)\n",
    "c.m1()\n",
    "c.m2()\n",
    "c.m3()"
   ]
  },
  {
   "cell_type": "code",
   "execution_count": 9,
   "metadata": {},
   "outputs": [
    {
     "data": {
      "image/png": "[encoded data removed]",
      "text/plain": [
       "<IPython.core.display.Image object>"
      ]
     },
     "execution_count": 9,
     "metadata": {},
     "output_type": "execute_result"
    }
   ],
   "source": [
    "from IPython.display import Image\n",
    "Image(\"E:/code/1.pythonofficial/img/inher6.png\")"
   ]
  },
  {
   "cell_type": "markdown",
   "metadata": {},
   "source": [
    "<b>What ever members present in Parent class are by default available to the child class through inheritance.</b>"
   ]
  },
  {
   "cell_type": "code",
   "execution_count": 10,
   "metadata": {},
   "outputs": [
    {
     "name": "stdout",
     "output_type": "stream",
     "text": [
      "parent class method..\n",
      "child class method..\n"
     ]
    }
   ],
   "source": [
    "class P:\n",
    "     def m1(self):\n",
    "            print(\"parent class method..\")\n",
    "\n",
    "class C(P):\n",
    "    def m2(self):\n",
    "        print(\"child class method..\")\n",
    "        \n",
    "c = C()\n",
    "c.m1()\n",
    "c.m2()"
   ]
  },
  {
   "cell_type": "markdown",
   "metadata": {},
   "source": [
    "<b>What ever methods present in Parent class are automatically available to the child class and hence on the child class reference we can call both parent class methods and child class methods.</b>"
   ]
  },
  {
   "cell_type": "code",
   "execution_count": 11,
   "metadata": {},
   "outputs": [
    {
     "name": "stdout",
     "output_type": "stream",
     "text": [
      "parent class m1() method\n",
      "parent class m2() method\n",
      "parent class m3() method\n"
     ]
    }
   ],
   "source": [
    "class X:\n",
    "    def m1(self):\n",
    "        print(\"parent class m1() method\")\n",
    "    def m2(self):\n",
    "        print(\"parent class m2() method\")\n",
    "    def m3(self):\n",
    "        print(\"parent class m3() method\")\n",
    "        \n",
    "class Y(X):\n",
    "    pass\n",
    "\n",
    "y=Y()\n",
    "y.m1()\n",
    "y.m2()\n",
    "y.m3()"
   ]
  },
  {
   "cell_type": "markdown",
   "metadata": {},
   "source": [
    "#### Example4: similarly variables also"
   ]
  },
  {
   "cell_type": "code",
   "execution_count": 12,
   "metadata": {},
   "outputs": [
    {
     "name": "stdout",
     "output_type": "stream",
     "text": [
      "111 222 333 444\n"
     ]
    }
   ],
   "source": [
    "class P:\n",
    "    a = 111\n",
    "    def __init__(self):\n",
    "        self.b = 222\n",
    "        \n",
    "class C(P):\n",
    "    c = 333\n",
    "    def __init__(self):\n",
    "        super().__init__()  #this will invoke parent class constructor method if we comment this line then AttributeError: 'C' object has no attribute 'b'\n",
    "        self.d = 444\n",
    "        \n",
    "child = C()\n",
    "print(child.a, child.b, child.c, child.d)"
   ]
  },
  {
   "cell_type": "markdown",
   "metadata": {},
   "source": [
    "#### Example5"
   ]
  },
  {
   "cell_type": "code",
   "execution_count": 13,
   "metadata": {},
   "outputs": [
    {
     "name": "stdout",
     "output_type": "stream",
     "text": [
      "1.Eating and Sleeping..\n",
      "2.Gym and Yoga..\n",
      "Student name: pawan\n",
      "Student age: 24\n",
      "Student qual: mechanical\n",
      "Student phone: 8143\n"
     ]
    }
   ],
   "source": [
    "class Person:\n",
    "    def __init__(self, name, age):\n",
    "        self.name = name\n",
    "        self.age = age\n",
    "        \n",
    "    def doWork(self):\n",
    "        print(\"1.Eating and Sleeping..\")\n",
    "        \n",
    "class Student(Person):\n",
    "    def __init__(self, name, age, qual, phone):\n",
    "        super().__init__(name,age)\n",
    "        self.qual = qual\n",
    "        self.phone = phone\n",
    "        \n",
    "    def hobbies(self):\n",
    "        print(\"2.Gym and Yoga..\")\n",
    "        \n",
    "    def studInfo(self):\n",
    "        print(\"Student name:\",self.name)\n",
    "        print(\"Student age:\",self.age)\n",
    "        print(\"Student qual:\",self.qual)\n",
    "        print(\"Student phone:\",self.phone)\n",
    "        \n",
    "s = Student(\"pawan\",24,\"mechanical\",8143)\n",
    "s.doWork()\n",
    "s.hobbies()\n",
    "s.studInfo()"
   ]
  },
  {
   "cell_type": "code",
   "execution_count": 14,
   "metadata": {},
   "outputs": [
    {
     "name": "stdout",
     "output_type": "stream",
     "text": [
      "9177\n",
      "2565\n",
      "child class Instance method\n",
      "child class class method\n",
      "child class static method\n"
     ]
    }
   ],
   "source": [
    "class Parent():\n",
    "    a=10\n",
    "    def __init__(self):\n",
    "        self.b=20\n",
    "        \n",
    "    def m1(self):\n",
    "        print(\"parent class Instance method\")\n",
    "    \n",
    "    @classmethod\n",
    "    def m2(cls):\n",
    "        print(\"parent class class method\")\n",
    "        \n",
    "    @staticmethod\n",
    "    def m3():\n",
    "        print(\"parent class static method\")\n",
    "        \n",
    "    def __del__(self):\n",
    "        print(\"parent class destructor\")\n",
    "        \n",
    "class Child(Parent):\n",
    "    a=9177\n",
    "    def __init__(self):\n",
    "        self.b=2565\n",
    "    \n",
    "    def m1(self):\n",
    "        print(\"child class Instance method\")\n",
    "        \n",
    "    @classmethod\n",
    "    def m2(cls):\n",
    "        print(\"child class class method\")\n",
    "        \n",
    "    @staticmethod\n",
    "    def m3():\n",
    "        print(\"child class static method\")\n",
    "        \n",
    "c=Child()\n",
    "print(c.a)\n",
    "print(c.b)\n",
    "c.m1()\n",
    "c.m2()\n",
    "c.m3()"
   ]
  },
  {
   "cell_type": "markdown",
   "metadata": {},
   "source": [
    "## 4. Has-A Vs Is-A Relationship\n",
    "- Has-A: if we don't want to extend the existing and just want to use that\n",
    "- Is-A:  if we want to extend the existing functionality with some more extra functionality.."
   ]
  },
  {
   "cell_type": "code",
   "execution_count": 15,
   "metadata": {},
   "outputs": [
    {
     "data": {
      "image/png": "[encoded data removed]",
      "text/plain": [
       "<IPython.core.display.Image object>"
      ]
     },
     "execution_count": 15,
     "metadata": {},
     "output_type": "execute_result"
    }
   ],
   "source": [
    "from IPython.display import Image\n",
    "Image(\"E:/code/1.pythonofficial/img/inher3.png\")"
   ]
  },
  {
   "cell_type": "code",
   "execution_count": 16,
   "metadata": {},
   "outputs": [
    {
     "name": "stdout",
     "output_type": "stream",
     "text": [
      "parent class destructor\n",
      "3. developing an application...\n",
      "4. Name of the Employee: pawan age is: 26 salary is: 10000 working on: python\n",
      "5. Employee car Info:\n",
      "1. Car Name:benz 4matic, color is:navy blue,model is:350d\n",
      "2. dress code according to age\n"
     ]
    }
   ],
   "source": [
    "class Car:\n",
    "    def __init__(self,name,color,model):\n",
    "        self.name=name\n",
    "        self.color=color\n",
    "        self.model=model\n",
    "        \n",
    "    def getInfo(self):\n",
    "        print(\"1. Car Name:{}, color is:{},model is:{}\".format(self.name,self.color,self.model))\n",
    "        \n",
    "class Person:\n",
    "    def __init__(self,name,age):\n",
    "        self.name=name\n",
    "        self.age=age\n",
    "        \n",
    "    def uniform(self):\n",
    "        print(\"2. dress code according to age\")\n",
    "        \n",
    "class Employee(Person):\n",
    "    def __init__(self,name,age,sal,tech,car):\n",
    "        super().__init__(name,age)\n",
    "        self.sal=sal\n",
    "        self.tech=tech\n",
    "        self.car=car\n",
    "        \n",
    "    def work(self):\n",
    "        print(\"3. developing an application...\")\n",
    "        \n",
    "    def displayInfo(self):\n",
    "        print(\"4. Name of the Employee:\",self.name,\"age is:\",self.age,\"salary is:\",self.sal,\"working on:\",self.tech)\n",
    "        print(\"5. Employee car Info:\")\n",
    "        self.car.getInfo()\n",
    "        \n",
    "c=Car(\"benz 4matic\",\"navy blue\",\"350d\")\n",
    "e=Employee(\"pawan\",26,10000,\"python\",c) \n",
    "e.work()\n",
    "e.displayInfo()\n",
    "e.uniform()"
   ]
  },
  {
   "cell_type": "markdown",
   "metadata": {},
   "source": [
    "## 5.Composition(Strongly associated) Vs Aggregation(weakly associated)"
   ]
  },
  {
   "cell_type": "code",
   "execution_count": 17,
   "metadata": {},
   "outputs": [
    {
     "data": {
      "image/png": "[encoded data removed]",
      "text/plain": [
       "<IPython.core.display.Image object>"
      ]
     },
     "execution_count": 17,
     "metadata": {},
     "output_type": "execute_result"
    }
   ],
   "source": [
    "from IPython.display import Image\n",
    "Image(\"E:/code/1.pythonofficial/img/inher4.png\") "
   ]
  },
  {
   "cell_type": "code",
   "execution_count": 18,
   "metadata": {},
   "outputs": [
    {
     "data": {
      "image/png": "[encoded data removed]",
      "text/plain": [
       "<IPython.core.display.Image object>"
      ]
     },
     "execution_count": 18,
     "metadata": {},
     "output_type": "execute_result"
    }
   ],
   "source": [
    "from IPython.display import Image\n",
    "Image(\"E:/code/1.pythonofficial/img/inher5.png\")"
   ]
  },
  {
   "cell_type": "markdown",
   "metadata": {},
   "source": [
    "#### Example 6"
   ]
  },
  {
   "cell_type": "code",
   "execution_count": 19,
   "metadata": {},
   "outputs": [
    {
     "name": "stdout",
     "output_type": "stream",
     "text": [
      "Vishnu Institute of Technology\n",
      "pawan\n"
     ]
    }
   ],
   "source": [
    "class Student:\n",
    "    college_name = \"Vishnu Institute of Technology\"\n",
    "    def __init__(self,name):\n",
    "        self.name = name\n",
    "        \n",
    "print(Student.college_name)\n",
    "\n",
    "s = Student(\"pawan\")\n",
    "print(s.name)"
   ]
  },
  {
   "cell_type": "markdown",
   "metadata": {},
   "source": [
    "- In the above example without existing Student object there is no chance of existing his name. Hence Student Object and his name are strongly associated which is nothing but Composition.\n",
    "- But without existing Student object there may be a chance of existing collegeName. Hence Student object and collegeName are weakly associated which is nothing but Aggregation.\n",
    "- Conclusion: The relation between object and its instance variables is always Composition where as the relation between object and static variables is Aggregation."
   ]
  },
  {
   "cell_type": "markdown",
   "metadata": {},
   "source": [
    "<b>Note: Whenever we are creating child class object then child class constructor will be executed. If the child class does not contain constructor then parent class constructor will be executed, but parent object won't be created.</b>"
   ]
  },
  {
   "cell_type": "code",
   "execution_count": 20,
   "metadata": {},
   "outputs": [
    {
     "name": "stdout",
     "output_type": "stream",
     "text": [
      "2400305799520\n",
      "2400305799520\n"
     ]
    }
   ],
   "source": [
    "class P:\n",
    "    def __init__(self):\n",
    "        print(id(self))\n",
    "        \n",
    "class C(P):\n",
    "    pass\n",
    "\n",
    "c=C()\n",
    "print(id(c))"
   ]
  },
  {
   "cell_type": "code",
   "execution_count": 21,
   "metadata": {},
   "outputs": [
    {
     "name": "stdout",
     "output_type": "stream",
     "text": [
      "Name=Pawan\n",
      "Age=24\n",
      "Rollno=46\n",
      "Marks=94\n"
     ]
    }
   ],
   "source": [
    "class Person:\n",
    "    def __init__(self,name,age):\n",
    "        self.name=name\n",
    "        self.age=age\n",
    "\n",
    "class Student(Person):\n",
    "    def __init__(self,name,age,rollno,marks): \n",
    "        super().__init__(name,age)\n",
    "        self.rollno=rollno\n",
    "        self.marks=marks\n",
    "    def __str__(self):\n",
    "        return 'Name={}\\nAge={}\\nRollno={}\\nMarks={}'.format(self.name,self.age,self.rollno,self.marks)\n",
    "\n",
    "s = Student('Pawan',24,46,94)\n",
    "print(s)"
   ]
  },
  {
   "cell_type": "markdown",
   "metadata": {},
   "source": [
    "<b>Note: In the above example when ever we are creating child class object both parent and child class constructors got executed to perform initialization of child object</b>"
   ]
  },
  {
   "cell_type": "markdown",
   "metadata": {},
   "source": [
    "## 6. Types of Inheritance"
   ]
  },
  {
   "cell_type": "code",
   "execution_count": 22,
   "metadata": {},
   "outputs": [
    {
     "data": {
      "image/png": "[encoded data removed]",
      "text/plain": [
       "<IPython.core.display.Image object>"
      ]
     },
     "execution_count": 22,
     "metadata": {},
     "output_type": "execute_result"
    }
   ],
   "source": [
    "from IPython.display import Image\n",
    "Image(\"E:/code/1.pythonofficial/img/inher7.png\")"
   ]
  },
  {
   "cell_type": "code",
   "execution_count": 23,
   "metadata": {},
   "outputs": [
    {
     "name": "stdout",
     "output_type": "stream",
     "text": [
      "parent class m1 method\n",
      "child class  m2 method\n"
     ]
    }
   ],
   "source": [
    "#single Inheritance\n",
    "class Parent:\n",
    "    def m1(self):\n",
    "        print(\"parent class m1 method\")\n",
    "        \n",
    "class Child(Parent):\n",
    "    def m2(self):\n",
    "        print(\"child class  m2 method\")\n",
    "        \n",
    "c=Child()\n",
    "c.m1()\n",
    "c.m2()"
   ]
  },
  {
   "cell_type": "code",
   "execution_count": 24,
   "metadata": {},
   "outputs": [
    {
     "name": "stdout",
     "output_type": "stream",
     "text": [
      "parent m1\n",
      "child m2\n",
      "children m3\n"
     ]
    }
   ],
   "source": [
    "#multi-level inheritance\n",
    "class A:\n",
    "    def m1(self):\n",
    "        print(\"parent m1\")\n",
    "        \n",
    "class B(A):\n",
    "    def m2(self):\n",
    "        print(\"child m2\")\n",
    "        \n",
    "class C(B):\n",
    "    def m3(self):\n",
    "        print(\"children m3\")\n",
    "        \n",
    "c=C()\n",
    "c.m1()\n",
    "c.m2()\n",
    "c.m3()"
   ]
  },
  {
   "cell_type": "code",
   "execution_count": 25,
   "metadata": {},
   "outputs": [
    {
     "name": "stdout",
     "output_type": "stream",
     "text": [
      "A class m1\n",
      "C class m3\n",
      "**********\n",
      "A class m1\n",
      "B class m2\n"
     ]
    }
   ],
   "source": [
    "#hierarchial inheritance\n",
    "class A:\n",
    "    def m1(self):\n",
    "        print(\"A class m1\")\n",
    "        \n",
    "class B(A):\n",
    "    def m2(self):\n",
    "        print(\"B class m2\")\n",
    "        \n",
    "class C(A):\n",
    "    def m3(self):\n",
    "        print(\"C class m3\")\n",
    "        \n",
    "c=C()\n",
    "c.m1()\n",
    "c.m3()\n",
    "print(\"**********\")\n",
    "b=B()\n",
    "b.m1()\n",
    "b.m2()"
   ]
  },
  {
   "cell_type": "code",
   "execution_count": 26,
   "metadata": {},
   "outputs": [
    {
     "name": "stdout",
     "output_type": "stream",
     "text": [
      "Parent1 class m1\n",
      "Parent2 class m2\n",
      "Child class m3\n"
     ]
    }
   ],
   "source": [
    "#multiple inheritance\n",
    "class Parent1:\n",
    "    def m1(self):\n",
    "        print(\"Parent1 class m1\")\n",
    "        \n",
    "class Parent2:\n",
    "    def m2(self):\n",
    "        print(\"Parent2 class m2\")\n",
    "        \n",
    "class C(Parent1,Parent2):\n",
    "    def m3(self):\n",
    "        print(\"Child class m3\")\n",
    "        \n",
    "c=C()\n",
    "c.m1()\n",
    "c.m2()\n",
    "c.m3()"
   ]
  },
  {
   "cell_type": "markdown",
   "metadata": {},
   "source": [
    "<b>if parent class contains both same methods then according to order it calls the method</b>"
   ]
  },
  {
   "cell_type": "code",
   "execution_count": 27,
   "metadata": {},
   "outputs": [
    {
     "name": "stdout",
     "output_type": "stream",
     "text": [
      "Parent2 class m1\n",
      "Child class m3\n"
     ]
    }
   ],
   "source": [
    "class Parent1:\n",
    "    def m1(self):\n",
    "        print(\"Parent1 class m1\")\n",
    "        \n",
    "class Parent2:\n",
    "    def m1(self):\n",
    "        print(\"Parent2 class m1\")\n",
    "        \n",
    "class Child(Parent2,Parent1):\n",
    "    def m3(self):\n",
    "        print(\"Child class m3\")\n",
    "        \n",
    "c=Child()\n",
    "c.m1()\n",
    "c.m3()        "
   ]
  },
  {
   "cell_type": "markdown",
   "metadata": {},
   "source": [
    "#### 5. Hybrid Inheritance:\n",
    "- Combination of Single, Multi level, multiple and Hierarchical inheritance is known as Hybrid Inheritance.\n",
    "#### 6. Cyclic Inheritance:\n",
    "- The concept of inheriting properties from one class to another class in cyclic way, is called Cyclic inheritance.Python won't support for Cyclic Inheritance of course it is really not required."
   ]
  },
  {
   "cell_type": "code",
   "execution_count": 28,
   "metadata": {},
   "outputs": [],
   "source": [
    "class A(A):\n",
    "    pass    #o/p: - NameError: name 'A' is not defined"
   ]
  },
  {
   "cell_type": "code",
   "execution_count": 29,
   "metadata": {},
   "outputs": [],
   "source": [
    "class A(B):\n",
    "    pass\n",
    "class B(A):\n",
    "    pass     #o/p:-  NameError: name 'B' is not defined"
   ]
  },
  {
   "cell_type": "markdown",
   "metadata": {},
   "source": [
    "## 7. Method Resolution Order (MRO):\n",
    "- In Hybrid Inheritance the method resolution order is decided based on MRO algorithm. \n",
    "- This algorithm is also known as C3 algorithm. Samuele Pedroni proposed this algorithm. \n",
    "- It follows DLR (Depth First Left to Right) \n",
    "- i.e Child will get more priority than Parent. Left Parent will get more priority than Right Parent"
   ]
  },
  {
   "cell_type": "markdown",
   "metadata": {},
   "source": [
    "<b>Note: We can find MRO of any class by using mro() function. print(ClassName.mro())</b>"
   ]
  },
  {
   "cell_type": "markdown",
   "metadata": {},
   "source": [
    "#### Demo 1"
   ]
  },
  {
   "cell_type": "code",
   "execution_count": 30,
   "metadata": {},
   "outputs": [
    {
     "name": "stdout",
     "output_type": "stream",
     "text": [
      "[<class '__main__.A'>, <class 'object'>]\n",
      "[<class '__main__.B'>, <class '__main__.A'>, <class 'object'>]\n",
      "[<class '__main__.C'>, <class '__main__.A'>, <class 'object'>]\n",
      "[<class '__main__.D'>, <class '__main__.B'>, <class '__main__.C'>, <class '__main__.A'>, <class 'object'>]\n"
     ]
    }
   ],
   "source": [
    "class A:\n",
    "    pass\n",
    "class B(A):\n",
    "    pass\n",
    "class C(A):\n",
    "    pass\n",
    "class D(B,C):\n",
    "    pass\n",
    "\n",
    "print(A.mro())\n",
    "print(B.mro())\n",
    "print(C.mro())\n",
    "print(D.mro())"
   ]
  },
  {
   "cell_type": "code",
   "execution_count": 31,
   "metadata": {},
   "outputs": [
    {
     "name": "stdout",
     "output_type": "stream",
     "text": [
      "A class m1 method\n"
     ]
    }
   ],
   "source": [
    "class A:\n",
    "    def m1(self):\n",
    "        print(\"A class m1 method\")\n",
    "class B(A):pass\n",
    "    #def m1(self):\n",
    "        #print(\"B class m1 method\")\n",
    "class C(A):pass\n",
    "    #def m1(self):\n",
    "        #print(\"C class m1 method\")\n",
    "class D(B,C):pass\n",
    "    #def m1(self):\n",
    "        #print(\"D class m1 method\")\n",
    "\n",
    "d = D()\n",
    "d.m1()"
   ]
  },
  {
   "cell_type": "markdown",
   "metadata": {},
   "source": [
    "#### Demo 2"
   ]
  },
  {
   "cell_type": "code",
   "execution_count": 32,
   "metadata": {},
   "outputs": [
    {
     "name": "stdout",
     "output_type": "stream",
     "text": [
      "[<class '__main__.A'>, <class 'object'>]\n",
      "[<class '__main__.B'>, <class 'object'>]\n",
      "[<class '__main__.C'>, <class 'object'>]\n",
      "[<class '__main__.X'>, <class '__main__.A'>, <class '__main__.B'>, <class 'object'>]\n",
      "[<class '__main__.Y'>, <class '__main__.B'>, <class '__main__.C'>, <class 'object'>]\n",
      "[<class '__main__.P'>, <class '__main__.X'>, <class '__main__.A'>, <class '__main__.Y'>, <class '__main__.B'>, <class '__main__.C'>, <class 'object'>]\n"
     ]
    }
   ],
   "source": [
    "class A:\n",
    "    pass\n",
    "class B:\n",
    "    pass\n",
    "class C:\n",
    "    pass\n",
    "class X(A,B):\n",
    "    pass\n",
    "class Y(B,C):\n",
    "    pass\n",
    "class P(X,Y,C):\n",
    "    pass\n",
    "\n",
    "print(A.mro())\n",
    "print(B.mro())\n",
    "print(C.mro())\n",
    "print(X.mro())\n",
    "print(Y.mro())\n",
    "print(P.mro())"
   ]
  },
  {
   "cell_type": "code",
   "execution_count": 33,
   "metadata": {},
   "outputs": [
    {
     "data": {
      "image/png": "[encoded data removed]",
      "text/plain": [
       "<IPython.core.display.Image object>"
      ]
     },
     "execution_count": 33,
     "metadata": {},
     "output_type": "execute_result"
    }
   ],
   "source": [
    "from IPython.display import Image\n",
    "Image(\"E:/code/1.pythonofficial/img/inher8.png\")"
   ]
  },
  {
   "cell_type": "code",
   "execution_count": 34,
   "metadata": {},
   "outputs": [
    {
     "data": {
      "image/png": "[encoded data removed]",
      "text/plain": [
       "<IPython.core.display.Image object>"
      ]
     },
     "execution_count": 34,
     "metadata": {},
     "output_type": "execute_result"
    }
   ],
   "source": [
    "from IPython.display import Image\n",
    "Image(\"E:/code/1.pythonofficial/img/inher9.png\")"
   ]
  },
  {
   "cell_type": "code",
   "execution_count": 35,
   "metadata": {},
   "outputs": [
    {
     "name": "stdout",
     "output_type": "stream",
     "text": [
      "P class m1 method\n"
     ]
    }
   ],
   "source": [
    "class A:\n",
    "    def m1(self):\n",
    "        print(\"A class m1 method\")\n",
    "class B:\n",
    "    def m1(self):\n",
    "        print(\"B class m1 method\")\n",
    "class C:\n",
    "    def m1(self):\n",
    "        print(\"C class m1 method\")\n",
    "class X(A,B):\n",
    "    def m1(self):\n",
    "        print(\"X class m1 method\")\n",
    "class Y(B,C):\n",
    "    def m1(self):\n",
    "        print(\"Y class m1 method\")\n",
    "class P(X,Y,C):\n",
    "    def m1(self):\n",
    "        print(\"P class m1 method\")\n",
    "\n",
    "p = P()\n",
    "p.m1()"
   ]
  },
  {
   "cell_type": "markdown",
   "metadata": {},
   "source": [
    "#### Demo 3"
   ]
  },
  {
   "cell_type": "code",
   "execution_count": 36,
   "metadata": {},
   "outputs": [
    {
     "name": "stdout",
     "output_type": "stream",
     "text": [
      "[<class '__main__.D'>, <class 'object'>]\n",
      "[<class '__main__.E'>, <class 'object'>]\n",
      "[<class '__main__.F'>, <class 'object'>]\n",
      "[<class '__main__.B'>, <class '__main__.D'>, <class '__main__.E'>, <class 'object'>]\n",
      "[<class '__main__.C'>, <class '__main__.D'>, <class '__main__.F'>, <class 'object'>]\n",
      "[<class '__main__.A'>, <class '__main__.B'>, <class '__main__.C'>, <class '__main__.D'>, <class '__main__.E'>, <class '__main__.F'>, <class 'object'>]\n"
     ]
    }
   ],
   "source": [
    "class D:\n",
    "    pass\n",
    "class E:\n",
    "    pass\n",
    "class F:\n",
    "    pass\n",
    "class B(D,E):\n",
    "    pass\n",
    "class C(D,F):\n",
    "    pass\n",
    "class A(B,C):\n",
    "    pass\n",
    "\n",
    "print(D.mro())\n",
    "print(E.mro())\n",
    "print(F.mro())\n",
    "print(B.mro())\n",
    "print(C.mro())\n",
    "print(A.mro())"
   ]
  },
  {
   "cell_type": "code",
   "execution_count": 38,
   "metadata": {},
   "outputs": [
    {
     "data": {
      "image/png": "[encoded data removed]",
      "text/plain": [
       "<IPython.core.display.Image object>"
      ]
     },
     "execution_count": 38,
     "metadata": {},
     "output_type": "execute_result"
    }
   ],
   "source": [
    "from IPython.display import Image\n",
    "Image(\"E:/code/1.pythonofficial/img/inher10.png\")"
   ]
  },
  {
   "cell_type": "markdown",
   "metadata": {},
   "source": [
    "## super(): it is a built-in method which is useful to call the super class constructors,variables and methods from the child class."
   ]
  },
  {
   "cell_type": "code",
   "execution_count": 14,
   "metadata": {},
   "outputs": [
    {
     "name": "stdout",
     "output_type": "stream",
     "text": [
      "Name: pawan\n",
      "Age: 25\n",
      "sal: 50\n",
      "phone: 81\n"
     ]
    }
   ],
   "source": [
    "class Person:\n",
    "    def __init__(self,name,age):\n",
    "        self.name=name\n",
    "        self.age=age\n",
    "        \n",
    "    def personInfo(self):\n",
    "        print(\"Name:\",self.name)\n",
    "        print(\"Age:\",self.age)\n",
    "        \n",
    "class Employee(Person):\n",
    "    def __init__(self,name,age,sal,phone):\n",
    "        super().__init__(name,age)\n",
    "        self.sal = sal\n",
    "        self.phone = phone\n",
    "        \n",
    "    def personInfo(self):\n",
    "        super().personInfo()\n",
    "        print(\"sal:\",self.sal)\n",
    "        print(\"phone:\",self.phone)\n",
    "\n",
    "\n",
    "\n",
    "e = Employee('pawan',25,50,81)\n",
    "e.personInfo()"
   ]
  },
  {
   "cell_type": "markdown",
   "metadata": {},
   "source": [
    "### Note:In the above program we are using super() method to call parent class constructor and display() method"
   ]
  },
  {
   "cell_type": "code",
   "execution_count": 24,
   "metadata": {},
   "outputs": [
    {
     "name": "stdout",
     "output_type": "stream",
     "text": [
      "parent construtor..\n",
      "10\n",
      "parent class Instance method\n",
      "parent class class method\n",
      "parent class static method\n"
     ]
    }
   ],
   "source": [
    "class P:\n",
    "    a = 10\n",
    "    \n",
    "    def __init__(self):\n",
    "        self.b=20\n",
    "        print(\"parent construtor..\")\n",
    "    \n",
    "    def m1(self):\n",
    "        print(\"parent class Instance method\")\n",
    "    \n",
    "    @classmethod\n",
    "    def m2(cls):\n",
    "        print(\"parent class class method\")\n",
    "        \n",
    "    @staticmethod\n",
    "    def m3():\n",
    "        print(\"parent class static method\")\n",
    "        \n",
    "class C(P):\n",
    "    a = 888\n",
    "    \n",
    "    def __init__(self):\n",
    "        self.b = 999\n",
    "        \n",
    "        super().__init__()    #to call parent class constructor\n",
    "        print(super().a)      # to call parent class instance variable\n",
    "        super().m1()\n",
    "        super().m2()\n",
    "        super().m3()\n",
    "        \n",
    "c = C()"
   ]
  },
  {
   "cell_type": "markdown",
   "metadata": {},
   "source": [
    "### Note:In the above example we are using super() to call various members of Parent class."
   ]
  },
  {
   "cell_type": "markdown",
   "metadata": {},
   "source": [
    "## How to call method of a particular Super class:"
   ]
  },
  {
   "cell_type": "code",
   "execution_count": 32,
   "metadata": {},
   "outputs": [
    {
     "name": "stdout",
     "output_type": "stream",
     "text": [
      "A class method\n"
     ]
    }
   ],
   "source": [
    "class A:\n",
    "    def m1(self):\n",
    "        print(\"A class method\")\n",
    "        \n",
    "class B(A):\n",
    "    def m1(self):\n",
    "        print(\"B class method\")\n",
    "        \n",
    "class C(B):\n",
    "    def m1(self):\n",
    "        print(\"C class method\")\n",
    "        \n",
    "class D(C):\n",
    "    def m1(self):\n",
    "        print(\"D class method\")\n",
    "        \n",
    "class E(D):\n",
    "    def m1(self):\n",
    "        #super().m1()      #it calls D class m1()\n",
    "        super(B,self).m1() #method1: by using super(B,self) it means B class parent is A \n",
    "        #A.m1(self)        #method2: we can call A class m1()\n",
    "        \n",
    "e = E()\n",
    "e.m1()"
   ]
  },
  {
   "cell_type": "markdown",
   "metadata": {},
   "source": [
    "#### Instance variable always access through self in child class"
   ]
  },
  {
   "cell_type": "code",
   "execution_count": 10,
   "metadata": {},
   "outputs": [
    {
     "name": "stdout",
     "output_type": "stream",
     "text": [
      "10\n",
      "20\n"
     ]
    }
   ],
   "source": [
    "class P:\n",
    "    a = 10                # static variable\n",
    "    def __init__(self):\n",
    "        self.b = 20            # instance variable\n",
    "        \n",
    "class C(P):\n",
    "    a = 777\n",
    "    def m1(self):\n",
    "        print(super().a)\n",
    "        #print(super().b)     # AttributeError: 'super' object has no attribute 'b'\n",
    "        print(self.b)\n",
    "        \n",
    "c = C()\n",
    "c.m1()"
   ]
  },
  {
   "cell_type": "code",
   "execution_count": 11,
   "metadata": {},
   "outputs": [
    {
     "name": "stdout",
     "output_type": "stream",
     "text": [
      "10\n",
      "777\n"
     ]
    }
   ],
   "source": [
    "class P:\n",
    "    a = 10                # static variable\n",
    "    def __init__(self):\n",
    "        self.b = 20            # instance variable\n",
    "        \n",
    "class C(P):\n",
    "    a = 777\n",
    "    def m1(self):\n",
    "        print(super().a)\n",
    "        print(self.a)\n",
    "        \n",
    "c = C()\n",
    "c.m1()"
   ]
  },
  {
   "cell_type": "code",
   "execution_count": 13,
   "metadata": {},
   "outputs": [
    {
     "name": "stdout",
     "output_type": "stream",
     "text": [
      "20\n",
      "888\n",
      "20\n"
     ]
    }
   ],
   "source": [
    "class P:\n",
    "    a = 10                # static variable\n",
    "    def __init__(self):\n",
    "        self.b = 20            # instance variable\n",
    "        \n",
    "class C(P):\n",
    "    a = 777\n",
    "    def m1(self):\n",
    "        print(self.b)\n",
    "        \n",
    "        self.b = 888\n",
    "        print(self.b)\n",
    "        \n",
    "        super().__init__()\n",
    "        print(self.b)\n",
    "        \n",
    "c = C()\n",
    "c.m1()"
   ]
  },
  {
   "cell_type": "markdown",
   "metadata": {},
   "source": [
    "### Various Important Points about super():\n",
    "<b>case1: From child class we are not allowed to access parent class instance variables by using super(),Compulsory we should use self only. </b><br>\n",
    "<b>case2: From child class constructor and Instance method we can access the all parent class members(methods).. </b><br>\n",
    "<b>case3: from child class class method we cannot access the parent class constructor and instance method</b><br>\n",
    "<b>case4: we cannot access parent class members from child class static method</b>"
   ]
  },
  {
   "cell_type": "markdown",
   "metadata": {},
   "source": [
    "#### Case-1: From child class we are not allowed to access parent class instance variables by using super(),Compulsory we should use self only. \n",
    "- But we can access parent class static variables by using super()."
   ]
  },
  {
   "cell_type": "code",
   "execution_count": 15,
   "metadata": {},
   "outputs": [
    {
     "name": "stdout",
     "output_type": "stream",
     "text": [
      "parent construtor..\n",
      "parent class Instance method\n",
      "parent class class method\n",
      "parent class static method\n",
      "10\n",
      "10\n",
      "10\n",
      "20\n"
     ]
    }
   ],
   "source": [
    "class A:\n",
    "    a=10\n",
    "    \n",
    "    def __init__(self):\n",
    "        self.b=20\n",
    "        print(\"parent construtor..\")\n",
    "    \n",
    "    def m1(self):\n",
    "        print(\"parent class Instance method\")\n",
    "    \n",
    "    @classmethod\n",
    "    def m2(cls):\n",
    "        print(\"parent class class method\")\n",
    "        \n",
    "    @staticmethod\n",
    "    def m3():\n",
    "        print(\"parent class static method\")\n",
    "        \n",
    "class B(A):\n",
    "    def __init__(self):\n",
    "        super().__init__()\n",
    "        super().m1()\n",
    "        super().m2()\n",
    "        super().m3()\n",
    "        \n",
    "        print(super().a)\n",
    "        print(self.a)\n",
    "        print(A.a)\n",
    "        \n",
    "        #print(super().b)   \n",
    "        print(self.b)\n",
    "        \n",
    "b=B()"
   ]
  },
  {
   "cell_type": "markdown",
   "metadata": {},
   "source": [
    "<b>case2:From child class constructor and Instance method we can access the all parent class members(methods).. </b>"
   ]
  },
  {
   "cell_type": "code",
   "execution_count": 19,
   "metadata": {},
   "outputs": [
    {
     "name": "stdout",
     "output_type": "stream",
     "text": [
      "parent construtor..\n",
      "parent class Instance method\n",
      "parent class class method\n",
      "parent class static method\n"
     ]
    }
   ],
   "source": [
    "class A:\n",
    "    def __init__(self):\n",
    "        print(\"parent construtor..\")\n",
    "    \n",
    "    def m1(self):\n",
    "        print(\"parent class Instance method\")\n",
    "    \n",
    "    @classmethod\n",
    "    def m2(cls):\n",
    "        print(\"parent class class method\")\n",
    "        \n",
    "    @staticmethod\n",
    "    def m3():\n",
    "        print(\"parent class static method\")\n",
    "        \n",
    "class B(A):\n",
    "    def __init__(self):\n",
    "        super().__init__()\n",
    "        super().m1()\n",
    "        super().m2()\n",
    "        super().m3()\n",
    "        \n",
    "b=B()       "
   ]
  },
  {
   "cell_type": "code",
   "execution_count": 20,
   "metadata": {},
   "outputs": [
    {
     "name": "stdout",
     "output_type": "stream",
     "text": [
      "parent construtor..\n",
      "parent construtor..\n",
      "parent class Instance method\n",
      "parent class class method\n",
      "parent class static method\n"
     ]
    }
   ],
   "source": [
    "class A:\n",
    "    def __init__(self):\n",
    "        print(\"parent construtor..\")\n",
    "    \n",
    "    def m1(self):\n",
    "        print(\"parent class Instance method\")\n",
    "    \n",
    "    @classmethod\n",
    "    def m2(cls):\n",
    "        print(\"parent class class method\")\n",
    "        \n",
    "    @staticmethod\n",
    "    def m3():\n",
    "        print(\"parent class static method\")\n",
    "        \n",
    "class B(A):\n",
    "    def m1(self):\n",
    "        super().__init__()\n",
    "        super().m1()\n",
    "        super().m2()\n",
    "        super().m3()\n",
    "        \n",
    "b=B()       #Here in class B there is no constructor so PVM calls default constructor\n",
    "b.m1()      #Here m1() calls parent class constructor"
   ]
  },
  {
   "cell_type": "markdown",
   "metadata": {},
   "source": [
    "<b>case3: From child class, class method we cannot access parent class instance methods and constructors by using super() directly(but indirectly possible). But we can access parent class static and class methods.</b>"
   ]
  },
  {
   "cell_type": "code",
   "execution_count": 21,
   "metadata": {},
   "outputs": [
    {
     "name": "stdout",
     "output_type": "stream",
     "text": [
      "parent class class method\n",
      "parent class static method\n"
     ]
    }
   ],
   "source": [
    "class A:\n",
    "    a=10\n",
    "    \n",
    "    def __init__(self):\n",
    "        print(\"parent construtor..\")\n",
    "    \n",
    "    def m1(self):\n",
    "        print(\"parent class Instance method\")\n",
    "    \n",
    "    @classmethod\n",
    "    def m2(cls):\n",
    "        print(\"parent class class method\")\n",
    "        \n",
    "    @staticmethod\n",
    "    def m3():\n",
    "        print(\"parent class static method\")\n",
    "        \n",
    "class B(A):\n",
    "    @classmethod\n",
    "    def m1(cls):\n",
    "        #super().__init__()\n",
    "        #super().m1()\n",
    "        super().m2()\n",
    "        super().m3()\n",
    "        \n",
    "B.m1()"
   ]
  },
  {
   "cell_type": "markdown",
   "metadata": {},
   "source": [
    "### Note: From Class Method of Child class,how to call parent class instance methods and constructors:"
   ]
  },
  {
   "cell_type": "code",
   "execution_count": 23,
   "metadata": {},
   "outputs": [
    {
     "name": "stdout",
     "output_type": "stream",
     "text": [
      "parent construtor..\n",
      "parent class Instance method\n"
     ]
    }
   ],
   "source": [
    "class A:\n",
    "    def __init__(self):\n",
    "        print(\"parent construtor..\")\n",
    "    \n",
    "    def m1(self):\n",
    "        print(\"parent class Instance method\")\n",
    "        \n",
    "class B(A):\n",
    "    @classmethod\n",
    "    def m2(cls):\n",
    "        super(B,cls).__init__(cls)\n",
    "        super(B,cls).m1(cls)\n",
    "        \n",
    "B.m2()"
   ]
  },
  {
   "cell_type": "markdown",
   "metadata": {},
   "source": [
    "<b>case4: In child class static method we are not allowed to use super() generally (But in special way we can use)</b>"
   ]
  },
  {
   "cell_type": "code",
   "execution_count": 24,
   "metadata": {},
   "outputs": [],
   "source": [
    "class A:\n",
    "    a=10\n",
    "    \n",
    "    def __init__(self):\n",
    "        print(\"parent construtor..\")\n",
    "    \n",
    "    def m1(self):\n",
    "        print(\"parent class Instance method\")\n",
    "    \n",
    "    @classmethod\n",
    "    def m2(cls):\n",
    "        print(\"parent class class method\")\n",
    "        \n",
    "    @staticmethod\n",
    "    def m3():\n",
    "        print(\"parent class static method\")\n",
    "\n",
    "class B(A):\n",
    "    @staticmethod\n",
    "    def m1():\n",
    "        pass\n",
    "        #super().__init__()\n",
    "        #super().m1()\n",
    "        #super().m2()\n",
    "        #super().m3()\n",
    "        \n",
    "B.m1()"
   ]
  },
  {
   "cell_type": "markdown",
   "metadata": {},
   "source": [
    "### How to call parent class static method from child class static method by using super():"
   ]
  },
  {
   "cell_type": "code",
   "execution_count": 26,
   "metadata": {},
   "outputs": [
    {
     "name": "stdout",
     "output_type": "stream",
     "text": [
      "parent class static method\n"
     ]
    }
   ],
   "source": [
    "class A:\n",
    "    @staticmethod\n",
    "    def m1():\n",
    "        print(\"parent class static method\")\n",
    "        \n",
    "class B(A):\n",
    "    @staticmethod\n",
    "    def m2():\n",
    "        super(B,B).m1()\n",
    "        \n",
    "B.m2()"
   ]
  },
  {
   "cell_type": "markdown",
   "metadata": {},
   "source": [
    "# Points to remember inside child class\n",
    "- constructor      --> no restrictions to use super()\n",
    "- instance method  --> no restrictions to use super()\n",
    "- class method     --> we cannot access parent class instance methods and constructors\n",
    "- static method    --> cannot use"
   ]
  },
  {
   "cell_type": "code",
   "execution_count": null,
   "metadata": {},
   "outputs": [],
   "source": []
  },
  {
   "cell_type": "code",
   "execution_count": null,
   "metadata": {},
   "outputs": [],
   "source": []
  },
  {
   "cell_type": "code",
   "execution_count": null,
   "metadata": {},
   "outputs": [],
   "source": []
  },
  {
   "cell_type": "code",
   "execution_count": null,
   "metadata": {},
   "outputs": [],
   "source": []
  },
  {
   "cell_type": "markdown",
   "metadata": {},
   "source": [
    "### Example"
   ]
  },
  {
   "cell_type": "code",
   "execution_count": null,
   "metadata": {},
   "outputs": [],
   "source": [
    "class Person:\n",
    "    def __init__(self,name,age):\n",
    "        self.name=name\n",
    "        self.age=age\n",
    "        \n",
    "    def uniform(self,pant):\n",
    "        self.pant=pant\n",
    "        print(\"dress code according to age\",self.pant)"
   ]
  },
  {
   "cell_type": "code",
   "execution_count": null,
   "metadata": {},
   "outputs": [],
   "source": [
    "class Employee(Person):\n",
    "    def __init__(self,name,age,sal,tech):\n",
    "        super().__init__(name,age)\n",
    "        self.sal=sal\n",
    "        self.tech=tech\n",
    "        \n",
    "    def work(self):\n",
    "        print(\"developing an application...\")\n",
    "        \n",
    "    def displayInfo(self):\n",
    "        print(\"Name of the Employee:\",self.name,\"age is:\",self.age,\"salary is:\",self.sal,\"working on:\",self.tech)\n",
    "        "
   ]
  },
  {
   "cell_type": "code",
   "execution_count": null,
   "metadata": {},
   "outputs": [],
   "source": [
    "e=Employee(\"pawan\",24,10000,\"python\")\n",
    "e.uniform(\"jeans\")\n",
    "e.work()\n",
    "e.displayInfo()"
   ]
  },
  {
   "cell_type": "code",
   "execution_count": null,
   "metadata": {},
   "outputs": [],
   "source": [
    "class Student(Person):\n",
    "    def __init__(self,name,age,qual,year):\n",
    "        super().__init__(name,age)\n",
    "        self.qual=qual\n",
    "        self.year=year\n",
    "        \n",
    "        \n",
    "    def work(self):\n",
    "        print(\"Readding books...\")\n",
    "        \n",
    "    def displayInfo(self):\n",
    "        print(\"Name of the Student:\",self.name,\"age is:\",self.age,\"Qualificaation is:\",self.qual,\"year on:\",self.year)\n",
    "        print(\"pant:\",self.pant)"
   ]
  },
  {
   "cell_type": "code",
   "execution_count": null,
   "metadata": {},
   "outputs": [],
   "source": [
    "s=Student(\"pawan\",24,\"mech\",2015)\n",
    "s.uniform(\"formal\")\n",
    "s.work()\n",
    "s.displayInfo()"
   ]
  },
  {
   "cell_type": "code",
   "execution_count": null,
   "metadata": {},
   "outputs": [],
   "source": [
    "class P:\n",
    "    a=10\n",
    "    def __init__(self):\n",
    "        pass\n",
    "        \n",
    "class C(P):\n",
    "    pass\n",
    "\n",
    "c=C()\n",
    "c.a"
   ]
  },
  {
   "cell_type": "markdown",
   "metadata": {},
   "source": [
    "#### NOte:- if we want to  access the parent class instance variable to child class by using self only"
   ]
  },
  {
   "cell_type": "code",
   "execution_count": null,
   "metadata": {},
   "outputs": [],
   "source": [
    "class P:\n",
    "    a=888\n",
    "    def m1(self):\n",
    "        self.a=20\n",
    "        \n",
    "class C(P):\n",
    "    def __init__(self):\n",
    "        print(super().a)\n",
    "        super().m1()\n",
    "        print(self.a)\n",
    "    \n",
    "c=C()\n"
   ]
  },
  {
   "cell_type": "code",
   "execution_count": null,
   "metadata": {},
   "outputs": [],
   "source": [
    "class A:\n",
    "    pass\n",
    "    \n",
    "        \n",
    "class B:\n",
    "    def m1(self):\n",
    "        print(\"B class m1 method\")\n",
    "        \n",
    "class C(A,B):\n",
    "    pass\n",
    "\n",
    "c=C()\n",
    "c.m1()"
   ]
  },
  {
   "cell_type": "code",
   "execution_count": null,
   "metadata": {},
   "outputs": [],
   "source": [
    "class A:\n",
    "    def m1(self):\n",
    "        print(\"A class m1 method\")\n",
    "        \n",
    "class B:\n",
    "    pass\n",
    "        \n",
    "class C(A,B):\n",
    "    def m1(self):\n",
    "        print(\"C class m1 method\")\n",
    "\n",
    "c=C()\n",
    "c.m1()"
   ]
  },
  {
   "cell_type": "code",
   "execution_count": null,
   "metadata": {},
   "outputs": [],
   "source": [
    "class D:\n",
    "    pass\n",
    "        \n",
    "class E:\n",
    "    pass\n",
    "        \n",
    "class F:\n",
    "    def m1(self):\n",
    "        print(\"F method\")\n",
    "        \n",
    "class B(D,E):\n",
    "    pass\n",
    "    \n",
    "class C(D,F):\n",
    "    pass\n",
    "        \n",
    "class A(B,C):\n",
    "    pass\n",
    "#ABCDEF"
   ]
  },
  {
   "cell_type": "code",
   "execution_count": null,
   "metadata": {},
   "outputs": [],
   "source": [
    "a=A()\n",
    "a.m1()"
   ]
  },
  {
   "cell_type": "code",
   "execution_count": null,
   "metadata": {},
   "outputs": [],
   "source": [
    "class A:\n",
    "    def m1(self):\n",
    "        print('A class Method')\n",
    "class B:\n",
    "    def m1(self):\n",
    "        print('B class Method') \n",
    "class C:\n",
    "    def m1(self):\n",
    "        print('C class Method')\n",
    "class X(A,B):\n",
    "    def m1(self):\n",
    "        print('X class Method')\n",
    "class Y(B,C):\n",
    "    def m1(self):\n",
    "        print('Y class Method') \n",
    "class P(X,Y,C):\n",
    "    def m1(self):\n",
    "        print('P class Method')\n",
    "p=P()\n",
    "p.m1()"
   ]
  },
  {
   "cell_type": "code",
   "execution_count": null,
   "metadata": {},
   "outputs": [],
   "source": [
    "class A:\n",
    "    def m1(self):\n",
    "        print('A class Method')\n",
    "class B:\n",
    "    def m1(self):\n",
    "        print('B class Method') \n",
    "class C:\n",
    "    def m1(self):\n",
    "        print('C class Method')\n",
    "class X(A,B):\n",
    "    pass\n",
    "class Y(B,C):\n",
    "    def m1(self):\n",
    "        print('Y class Method') \n",
    "class P(X,Y,C):\n",
    "    pass\n",
    "p=P()\n",
    "p.m1()"
   ]
  },
  {
   "cell_type": "code",
   "execution_count": null,
   "metadata": {},
   "outputs": [],
   "source": [
    "class A:\n",
    "    def m1(self):\n",
    "        print(\"A class m1\")\n",
    "        \n",
    "class B(A):\n",
    "    pass\n",
    "        \n",
    "class C(A):\n",
    "    def m1(self):\n",
    "        print(\"C class m1\")\n",
    "        \n",
    "class D(B,C):\n",
    "    pass"
   ]
  },
  {
   "cell_type": "code",
   "execution_count": null,
   "metadata": {},
   "outputs": [],
   "source": [
    "d=D()\n",
    "d.m1()"
   ]
  },
  {
   "cell_type": "code",
   "execution_count": null,
   "metadata": {},
   "outputs": [],
   "source": []
  },
  {
   "cell_type": "code",
   "execution_count": null,
   "metadata": {},
   "outputs": [],
   "source": []
  },
  {
   "cell_type": "code",
   "execution_count": null,
   "metadata": {},
   "outputs": [],
   "source": []
  },
  {
   "cell_type": "code",
   "execution_count": null,
   "metadata": {},
   "outputs": [],
   "source": []
  },
  {
   "cell_type": "code",
   "execution_count": null,
   "metadata": {},
   "outputs": [],
   "source": []
  }
 ],
 "metadata": {
  "kernelspec": {
   "display_name": "Python 3",
   "language": "python",
   "name": "python3"
  },
  "language_info": {
   "codemirror_mode": {
    "name": "ipython",
    "version": 3
   },
   "file_extension": ".py",
   "mimetype": "text/x-python",
   "name": "python",
   "nbconvert_exporter": "python",
   "pygments_lexer": "ipython3",
   "version": "3.6.5"
  }
 },
 "nbformat": 4,
 "nbformat_minor": 2
}
