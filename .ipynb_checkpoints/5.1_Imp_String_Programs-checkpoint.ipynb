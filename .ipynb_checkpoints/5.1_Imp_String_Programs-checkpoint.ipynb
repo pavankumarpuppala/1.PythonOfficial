{
 "cells": [
  {
   "cell_type": "markdown",
   "metadata": {},
   "source": [
    "#### Q1. Write a program to reverse the given String"
   ]
  },
  {
   "cell_type": "code",
   "execution_count": 2,
   "metadata": {},
   "outputs": [
    {
     "data": {
      "text/plain": [
       "'navap'"
      ]
     },
     "execution_count": 2,
     "metadata": {},
     "output_type": "execute_result"
    }
   ],
   "source": [
    "s=\"pavan\"\n",
    "s[::-1]"
   ]
  },
  {
   "cell_type": "code",
   "execution_count": 3,
   "metadata": {},
   "outputs": [
    {
     "data": {
      "text/plain": [
       "'nawap'"
      ]
     },
     "execution_count": 3,
     "metadata": {},
     "output_type": "execute_result"
    }
   ],
   "source": [
    "#s = input(\"Enter the String:\")\n",
    "s = \"pawan\"\n",
    "''.join(reversed(s))"
   ]
  },
  {
   "cell_type": "code",
   "execution_count": 4,
   "metadata": {},
   "outputs": [
    {
     "name": "stdout",
     "output_type": "stream",
     "text": [
      "nawap"
     ]
    }
   ],
   "source": [
    "#s = input(\"Enter the String:\")\n",
    "s = \"pawan\"\n",
    "for x in reversed(s):\n",
    "    print(x,end='')"
   ]
  },
  {
   "cell_type": "code",
   "execution_count": 6,
   "metadata": {},
   "outputs": [
    {
     "name": "stdout",
     "output_type": "stream",
     "text": [
      "nawap\n"
     ]
    }
   ],
   "source": [
    "#s = input(\"Enter the String:\")\n",
    "s = \"pawan\"\n",
    "i = len(s)-1\n",
    "output = ''\n",
    "while i>=0:\n",
    "    output = output+s[i]\n",
    "    i = i-1\n",
    "print(output)"
   ]
  },
  {
   "cell_type": "markdown",
   "metadata": {},
   "source": [
    "#### Q2. Program to reverse order of words."
   ]
  },
  {
   "cell_type": "code",
   "execution_count": 7,
   "metadata": {},
   "outputs": [
    {
     "name": "stdout",
     "output_type": "stream",
     "text": [
      "puppala kumar pawan\n"
     ]
    }
   ],
   "source": [
    "s = \"pawan kumar puppala\"\n",
    "l = s.split()            #  [\"pawan\",\"kumar\",\"puppala\"]\n",
    "l1 = []\n",
    "i = len(l)-1             #  i = 3-1\n",
    "\n",
    "while i>=0:              # while 2>=0:\n",
    "    l1.append(l[i])\n",
    "    i = i-1\n",
    "#print(l1)\n",
    "output = ' '.join(l1)\n",
    "print(output)"
   ]
  },
  {
   "cell_type": "markdown",
   "metadata": {},
   "source": [
    "#### Q3. Program to reverse internal content of each word."
   ]
  },
  {
   "cell_type": "code",
   "execution_count": 8,
   "metadata": {},
   "outputs": [
    {
     "name": "stdout",
     "output_type": "stream",
     "text": [
      "nawap ramuk alappup\n"
     ]
    }
   ],
   "source": [
    "s = \"pawan kumar puppala\"\n",
    "l = s.split()               #  [\"pawan\",\"kumar\",\"puppala\"]\n",
    "l1 = []\n",
    "i = 0\n",
    "\n",
    "while i<len(l):            # while 0<3\n",
    "    l1.append(l[i][::-1])\n",
    "    i = i+1\n",
    "#print(l1)\n",
    "output = ' '.join(l1)\n",
    "print(output)"
   ]
  },
  {
   "cell_type": "code",
   "execution_count": 9,
   "metadata": {},
   "outputs": [
    {
     "name": "stdout",
     "output_type": "stream",
     "text": [
      "nawap ramuk alappup\n"
     ]
    }
   ],
   "source": [
    "s = \"pawan kumar puppala\"\n",
    "l = s.split()\n",
    "l1 = []\n",
    "\n",
    "for x in l:\n",
    "    l1.append(x[::-1])\n",
    "output = ' '.join(l1)\n",
    "print(output)"
   ]
  },
  {
   "cell_type": "markdown",
   "metadata": {},
   "source": [
    "#### Q4. Write a program to print characters at odd position and even position for the given String?"
   ]
  },
  {
   "cell_type": "code",
   "execution_count": 10,
   "metadata": {},
   "outputs": [
    {
     "name": "stdout",
     "output_type": "stream",
     "text": [
      "characters at even position: pwnkmrppaa\n",
      "characters at odd position: aa ua upl\n"
     ]
    }
   ],
   "source": [
    "s = \"pawan kumar puppala\"\n",
    "print(\"characters at even position:\",s[0::2])\n",
    "print(\"characters at odd position:\",s[1::2])"
   ]
  },
  {
   "cell_type": "code",
   "execution_count": 11,
   "metadata": {},
   "outputs": [
    {
     "name": "stdout",
     "output_type": "stream",
     "text": [
      "characters at even position:\n",
      "p,w,n,k,m,r,p,p,a,a,\n",
      "characters at odd position:\n",
      "a,a, ,u,a, ,u,p,l,"
     ]
    }
   ],
   "source": [
    "s = \"pawan kumar puppala\"\n",
    "\n",
    "print(\"characters at even position:\")\n",
    "i = 0\n",
    "while i<len(s):\n",
    "    print(s[i],end=',')\n",
    "    i = i+2\n",
    "print()\n",
    "\n",
    "print(\"characters at odd position:\")\n",
    "i = 1\n",
    "while i<len(s):\n",
    "    print(s[i],end=',')\n",
    "    i = i+2"
   ]
  },
  {
   "cell_type": "markdown",
   "metadata": {},
   "source": [
    "#### Q5. Program to merge characters of 2 strings into a single string by taking characters alternatively."
   ]
  },
  {
   "cell_type": "code",
   "execution_count": 12,
   "metadata": {},
   "outputs": [
    {
     "name": "stdout",
     "output_type": "stream",
     "text": [
      "RTAEVJIA\n"
     ]
    }
   ],
   "source": [
    "s1 = \"RAVI\"\n",
    "s2 = \"TEJA\"\n",
    "op = ''\n",
    "i,j = 0,0\n",
    "\n",
    "while i<len(s1) or j<len(s2):\n",
    "    if i<len(s1):\n",
    "        op = op+s1[i]\n",
    "        i = i+1\n",
    "    \n",
    "    if j<len(s2):\n",
    "        op = op+s2[j]\n",
    "        j = j+1\n",
    "print(op)"
   ]
  },
  {
   "cell_type": "markdown",
   "metadata": {},
   "source": [
    "#### Q6. Write a program to sort the characters of the string and first alphabet symbols followed by numeric values"
   ]
  },
  {
   "cell_type": "code",
   "execution_count": 15,
   "metadata": {},
   "outputs": [
    {
     "name": "stdout",
     "output_type": "stream",
     "text": [
      "ABD134\n"
     ]
    }
   ],
   "source": [
    "s = \"B4A1D3\"\n",
    "s1 = s2 = output = ''\n",
    "for x in s:\n",
    "    if x.isalpha():\n",
    "        s1 = s1+x\n",
    "    else:\n",
    "        s2 = s2+x\n",
    "        \n",
    "for x in sorted(s1):\n",
    "    output=output+x\n",
    "    \n",
    "for x in sorted(s2):\n",
    "    output=output+x\n",
    "    \n",
    "print(output)"
   ]
  },
  {
   "cell_type": "markdown",
   "metadata": {},
   "source": [
    "#### Q7. Write a program for the following requirement a4b3c2 to aaaabbbcc"
   ]
  },
  {
   "cell_type": "code",
   "execution_count": 17,
   "metadata": {},
   "outputs": [
    {
     "name": "stdout",
     "output_type": "stream",
     "text": [
      "aaaabbbcc\n"
     ]
    }
   ],
   "source": [
    "s = \"a4b3c2\"\n",
    "output = ''\n",
    "for x in s:\n",
    "    if x.isalpha():\n",
    "        output = output+x\n",
    "        previous = x\n",
    "    else:\n",
    "        output = output+previous*(int(x)-1)\n",
    "print(output)"
   ]
  },
  {
   "cell_type": "markdown",
   "metadata": {},
   "source": [
    "#### Q8. Write a program to perform the following activity a4k3b2 to aeknbd"
   ]
  },
  {
   "cell_type": "code",
   "execution_count": 18,
   "metadata": {},
   "outputs": [
    {
     "name": "stdout",
     "output_type": "stream",
     "text": [
      "aeknbd\n"
     ]
    }
   ],
   "source": [
    "s = \"a4k3b2\"\n",
    "output = ''\n",
    "for x in s:\n",
    "    if x.isalpha():\n",
    "        output = output+x\n",
    "        previous = x\n",
    "    else:\n",
    "        output = output+chr(ord(previous)+int(x))\n",
    "        \n",
    "print(output)"
   ]
  },
  {
   "cell_type": "markdown",
   "metadata": {},
   "source": [
    "#### Q9. Write a program to remove duplicate characters from the given input string? ABCDABBCDABBBCCCDDEEEF to ABCDEF"
   ]
  },
  {
   "cell_type": "code",
   "execution_count": 30,
   "metadata": {},
   "outputs": [
    {
     "name": "stdout",
     "output_type": "stream",
     "text": [
      "ABCDEF\n"
     ]
    }
   ],
   "source": [
    "s = 'ABCDABBCDABBBCCCDDEEEF'\n",
    "l = []\n",
    "for x in s:\n",
    "    if x not in l:\n",
    "        l.append(x)\n",
    "output = ''.join(l)\n",
    "print(output)"
   ]
  },
  {
   "cell_type": "markdown",
   "metadata": {},
   "source": [
    "#### Q10. Write a program to find the number of occurrences of each character present in the given String? ABCABCABBCDE to A-3,B-4,C-3,D-1,E-1"
   ]
  },
  {
   "cell_type": "code",
   "execution_count": 31,
   "metadata": {},
   "outputs": [
    {
     "name": "stdout",
     "output_type": "stream",
     "text": [
      "A = 3 times\n",
      "B = 4 times\n",
      "C = 3 times\n",
      "D = 1 times\n",
      "E = 1 times\n"
     ]
    }
   ],
   "source": [
    "s = 'ABCABCABBCDE'\n",
    "d = {}\n",
    "for x in s:\n",
    "    if x in d.keys():\n",
    "        d[x] = d[x]+1\n",
    "    else:\n",
    "        d[x]=1\n",
    "        \n",
    "for k,v in d.items():\n",
    "    print(\"{} = {} times\".format(k,v))"
   ]
  },
  {
   "cell_type": "markdown",
   "metadata": {},
   "source": [
    "####  Formatting Date values"
   ]
  },
  {
   "cell_type": "code",
   "execution_count": 32,
   "metadata": {},
   "outputs": [
    {
     "name": "stdout",
     "output_type": "stream",
     "text": [
      "It's now:13/03/2024 18:31:41\n"
     ]
    }
   ],
   "source": [
    "import datetime \n",
    "\n",
    "date=datetime.datetime.now()\n",
    "print(\"It's now:{:%d/%m/%Y %H:%M:%S}\".format(date))"
   ]
  },
  {
   "cell_type": "markdown",
   "metadata": {},
   "source": [
    "#### Count and display vowels in a string\n"
   ]
  },
  {
   "cell_type": "code",
   "execution_count": 33,
   "metadata": {},
   "outputs": [
    {
     "name": "stdout",
     "output_type": "stream",
     "text": [
      "2\n",
      "['a', 'a']\n"
     ]
    }
   ],
   "source": [
    "s = \"pavan\"\n",
    "vowels = \"AaEeIiOoUu\"\n",
    "final = [x for x in s if x in vowels]\n",
    "print(len(final))\n",
    "print(final)\n"
   ]
  },
  {
   "cell_type": "code",
   "execution_count": 40,
   "metadata": {},
   "outputs": [
    {
     "name": "stdout",
     "output_type": "stream",
     "text": [
      "{'a': 0, 'e': 0, 'i': 0, 'o': 0, 'u': 0}\n",
      "{'a': 2, 'e': 0, 'i': 0, 'o': 0, 'u': 0}\n"
     ]
    }
   ],
   "source": [
    "s = \"Pavan\"\n",
    "vowels = 'aeiou'\n",
    "s = s.casefold()\n",
    "\n",
    "count = {}.fromkeys(vowels,0)\n",
    "print(count)\n",
    "\n",
    "for char in s:\n",
    "    if char in count:\n",
    "        count[char] += 1\n",
    "print(count)"
   ]
  },
  {
   "cell_type": "code",
   "execution_count": 47,
   "metadata": {},
   "outputs": [
    {
     "name": "stdout",
     "output_type": "stream",
     "text": [
      "Counter({'a': 2})\n"
     ]
    }
   ],
   "source": [
    "from collections import Counter\n",
    "\n",
    "s=\"pavan\"\n",
    "vowels = 'aeiouAEIOU'\n",
    "vowels_list = filter(lambda c: c in vowels, s)\n",
    "#print(list(vowels_list))\n",
    "\n",
    "count = Counter(vowels_list)\n",
    "print(count)"
   ]
  },
  {
   "cell_type": "code",
   "execution_count": null,
   "metadata": {},
   "outputs": [],
   "source": []
  },
  {
   "cell_type": "code",
   "execution_count": null,
   "metadata": {},
   "outputs": [],
   "source": []
  },
  {
   "cell_type": "code",
   "execution_count": null,
   "metadata": {},
   "outputs": [],
   "source": []
  }
 ],
 "metadata": {
  "kernelspec": {
   "display_name": "Python 3",
   "language": "python",
   "name": "python3"
  },
  "language_info": {
   "codemirror_mode": {
    "name": "ipython",
    "version": 3
   },
   "file_extension": ".py",
   "mimetype": "text/x-python",
   "name": "python",
   "nbconvert_exporter": "python",
   "pygments_lexer": "ipython3",
   "version": "3.6.5"
  }
 },
 "nbformat": 4,
 "nbformat_minor": 2
}
