{
 "cells": [
  {
   "cell_type": "markdown",
   "metadata": {},
   "source": [
    "## Operator\n",
    "- Operator is a symbol that performs certain operations.\n",
    "- Python provides the following set of operators\n",
    "    - Arthimetic (+,*,-,/,%,//,**)\n",
    "    - Relational or comparison(<,>,<=,>=)\n",
    "    - Equality(==, !=)\n",
    "    - Logical(and, or, not)\n",
    "    - Bitwise\n",
    "    - Assignment\n",
    "    - Special(identity (is, is not), membership(in, not in))\n",
    "    - Ternary operators"
   ]
  },
  {
   "cell_type": "code",
   "execution_count": 11,
   "metadata": {},
   "outputs": [
    {
     "name": "stdout",
     "output_type": "stream",
     "text": [
      "Addition: 12\n",
      "Subtraction: 8\n",
      "Multiplication: 20\n",
      "Divison: 5.0\n",
      "Modulo(remainder): 0\n",
      "Floor divison: 5\n",
      "exponent(power) 100\n"
     ]
    }
   ],
   "source": [
    "a = 10\n",
    "b = 2\n",
    "\n",
    "print(\"Addition:\",a+b)\n",
    "print(\"Subtraction:\",a-b)\n",
    "print(\"Multiplication:\",a*b)\n",
    "print(\"Divison:\",a/b)\n",
    "print(\"Modulo(remainder):\",a%b)\n",
    "print(\"Floor divison:\",a//b)\n",
    "print(\"exponent(power)\",a**b)"
   ]
  },
  {
   "cell_type": "code",
   "execution_count": 4,
   "metadata": {},
   "outputs": [
    {
     "name": "stdout",
     "output_type": "stream",
     "text": [
      "5.0\n",
      "5\n",
      "5.25\n",
      "5.0\n",
      "-3.0\n"
     ]
    }
   ],
   "source": [
    "print(10/2)\n",
    "print(10//2)\n",
    "print(10.5/2)\n",
    "print(10.5//2)\n",
    "print(-10.5//5)            # -3,-2,-1,0,1,2,3"
   ]
  },
  {
   "cell_type": "code",
   "execution_count": 19,
   "metadata": {},
   "outputs": [
    {
     "name": "stdout",
     "output_type": "stream",
     "text": [
      "-7.5\n",
      "-7\n",
      "-8\n"
     ]
    }
   ],
   "source": [
    "import math\n",
    "a = -15.0/2            # -7.5\n",
    "print(a)\n",
    "print(math.ceil(a))      #-7  highest value\n",
    "print(math.floor(a))     #-8  least value"
   ]
  },
  {
   "cell_type": "markdown",
   "metadata": {},
   "source": [
    "#### Note: \n",
    "- / operator always performs floating point arithmetic. Hence it will always returns float value.\n",
    "- But Floor division (//) can perform both floating point and integral arithmetic. If arguments are int type then result is int type. If atleast one argument is float type then result is float type."
   ]
  },
  {
   "cell_type": "code",
   "execution_count": 20,
   "metadata": {},
   "outputs": [
    {
     "name": "stdout",
     "output_type": "stream",
     "text": [
      "pawan10\n",
      "pawanpawan\n"
     ]
    }
   ],
   "source": [
    "# print(\"pawan\"+10)        # TypeError: must be str, not int\n",
    "print(\"pawan\"+\"10\")\n",
    "print(\"pawan\"*2)\n",
    "# print(10/0)              # ZeroDivisionError: division by zero\n",
    "# print(10%0)              # ZeroDivisionError: integer division or modulo by zero"
   ]
  },
  {
   "cell_type": "markdown",
   "metadata": {},
   "source": [
    "#### Note:\n",
    "- We can use +,* operators for str type also.\n",
    "- If we want to use + operator for str type then compulsory both arguments should be str type only otherwise we will get error.\n",
    "- If we use * operator for str type then compulsory one argument should be int and other argument should be str type.\n",
    "- For any number x, x/0 and x%0 always raises \"ZeroDivisionError\""
   ]
  },
  {
   "cell_type": "markdown",
   "metadata": {},
   "source": [
    "#### 2. Relational Operators"
   ]
  },
  {
   "cell_type": "code",
   "execution_count": 28,
   "metadata": {},
   "outputs": [
    {
     "name": "stdout",
     "output_type": "stream",
     "text": [
      "a is greater than b         : False\n",
      "a is greater than or equal b: False\n",
      "a is lesser than b          : True\n",
      "a is lesser than or equal  b: True\n"
     ]
    }
   ],
   "source": [
    "a = 10\n",
    "b = 20\n",
    "print(\"a is greater than b         :\",a>b)\n",
    "print(\"a is greater than or equal b:\",a>=b)\n",
    "print(\"a is lesser than b          :\",a<b)\n",
    "print(\"a is lesser than or equal  b:\",a<=b)"
   ]
  },
  {
   "cell_type": "code",
   "execution_count": 21,
   "metadata": {},
   "outputs": [
    {
     "name": "stdout",
     "output_type": "stream",
     "text": [
      "a is greater than b         : True\n",
      "a is greater than or equal b: True\n",
      "a is lesser than b          : False\n",
      "a is lesser than or equal  b: False\n"
     ]
    }
   ],
   "source": [
    "# We can apply relational operators for str types also\n",
    "a = \"pawan\"\n",
    "b = \"kumar\"\n",
    "print(\"a is greater than b         :\",a>b)\n",
    "print(\"a is greater than or equal b:\",a>=b)\n",
    "print(\"a is lesser than b          :\",a<b)\n",
    "print(\"a is lesser than or equal  b:\",a<=b)"
   ]
  },
  {
   "cell_type": "code",
   "execution_count": 37,
   "metadata": {},
   "outputs": [
    {
     "name": "stdout",
     "output_type": "stream",
     "text": [
      "False\n",
      "True\n",
      "False\n",
      "True\n"
     ]
    }
   ],
   "source": [
    "print(True>True)\n",
    "print(True>=True)\n",
    "print(False > True)\n",
    "print(10>True)\n",
    "#print(10>\"pawan\")         # TypeError: '>' not supported between instances of 'int' and 'str'"
   ]
  },
  {
   "cell_type": "markdown",
   "metadata": {},
   "source": [
    "#### Example1"
   ]
  },
  {
   "cell_type": "code",
   "execution_count": 39,
   "metadata": {},
   "outputs": [
    {
     "name": "stdout",
     "output_type": "stream",
     "text": [
      "a is not greater than b\n"
     ]
    }
   ],
   "source": [
    "a = 10\n",
    "b = 20\n",
    "if a>b:\n",
    "    print(\"a is greater than b\")\n",
    "else:\n",
    "    print(\"a is not greater than b\")"
   ]
  },
  {
   "cell_type": "code",
   "execution_count": 40,
   "metadata": {},
   "outputs": [
    {
     "name": "stdout",
     "output_type": "stream",
     "text": [
      "True\n",
      "True\n",
      "True\n",
      "False\n"
     ]
    }
   ],
   "source": [
    "print(10<20)\n",
    "print(10<20<30)\n",
    "print(10<20<30<40)\n",
    "print(10<20<30<40>50)"
   ]
  },
  {
   "cell_type": "markdown",
   "metadata": {},
   "source": [
    "#### Note: \n",
    "- Chaining of relational operators is possible. In the chaining, if all comparisons returns True then only result is True.\n",
    "- If atleast one comparison returns False then the result is False"
   ]
  },
  {
   "cell_type": "markdown",
   "metadata": {},
   "source": [
    "#### 3. Equality(==, !=)  : We can apply these operators for any type even for incompatible types also"
   ]
  },
  {
   "cell_type": "code",
   "execution_count": 47,
   "metadata": {},
   "outputs": [
    {
     "name": "stdout",
     "output_type": "stream",
     "text": [
      "False\n",
      "True\n",
      "False\n",
      "True\n",
      "True\n",
      "False\n"
     ]
    }
   ],
   "source": [
    "print(10 == 20)\n",
    "print(10 != 20)\n",
    "print(10 == True)\n",
    "print(False==False)\n",
    "print(\"pawan\" == \"pawan\")\n",
    "print(10 == \"pawan\")"
   ]
  },
  {
   "cell_type": "markdown",
   "metadata": {},
   "source": [
    "#### Note: Chaining concept is applicable for equality operators. If atleast one comparison returns False then the result is False. otherwise the result is True."
   ]
  },
  {
   "cell_type": "code",
   "execution_count": 49,
   "metadata": {},
   "outputs": [
    {
     "name": "stdout",
     "output_type": "stream",
     "text": [
      "False\n",
      "True\n"
     ]
    }
   ],
   "source": [
    "print(10==20==30==40)\n",
    "print(10==10==10==10)"
   ]
  },
  {
   "cell_type": "markdown",
   "metadata": {},
   "source": [
    "#### 4. Logical(and, or, not)"
   ]
  },
  {
   "cell_type": "markdown",
   "metadata": {},
   "source": [
    "- For boolean types behaviour:\n",
    "    - and  ==>If both arguments are True then only result is True \n",
    "    - or   ==>If atleast one arugemnt is True then result is True \n",
    "    - not  ==>complement\n",
    "    \n",
    "- For non-boolean types behaviour:\n",
    "    - 0 means False \n",
    "    - non-zero means True \n",
    "    - empty string is always treated as False"
   ]
  },
  {
   "cell_type": "markdown",
   "metadata": {},
   "source": [
    "- x and y ==>if x is evaluates to false return x(false) otherwise return y(true)\n",
    "- x or y ==> If x evaluates to True then result is x(true) otherwise result is y(false)\n",
    "- not x  ==> If x is evalutates to False then result is True otherwise False"
   ]
  },
  {
   "cell_type": "code",
   "execution_count": 56,
   "metadata": {},
   "outputs": [
    {
     "name": "stdout",
     "output_type": "stream",
     "text": [
      "20\n",
      "0\n",
      "10\n",
      "20\n",
      "False\n",
      "True\n"
     ]
    }
   ],
   "source": [
    "print(10 and 20)\n",
    "print(0 and 20)\n",
    "print(10 or 20)\n",
    "print(0 or 20)\n",
    "print(not 10)\n",
    "print(not 0)"
   ]
  },
  {
   "cell_type": "markdown",
   "metadata": {},
   "source": [
    "#### 5. Bitwise Operators(&, |, ^, ~, <<, >>):\n",
    "- We can apply these operators bitwise. \n",
    "- These operators are applicable only for int and boolean types. \n",
    "- By mistake if we are trying to apply for any other type then we will get Error."
   ]
  },
  {
   "cell_type": "markdown",
   "metadata": {},
   "source": [
    "- &(and) ==> If both bits are 1 then only result is 1 otherwise result is 0\n",
    "- |(or)  ==> If atleast one bit is 1 then result is 1 otherwise result is 0\n",
    "- ^(hexa)==>If bits are different then only result is 1 otherwise result is 0\n",
    "- ~      ==> bitwise complement operator 1==>0 & 0==>1\n",
    "- <<     ==>Bitwise Left shift  >>     ==>Bitwise Right Shift"
   ]
  },
  {
   "cell_type": "code",
   "execution_count": 22,
   "metadata": {},
   "outputs": [
    {
     "name": "stdout",
     "output_type": "stream",
     "text": [
      "4\n",
      "5\n",
      "1\n",
      "-6\n"
     ]
    }
   ],
   "source": [
    "print(4 & 5)\n",
    "print(4 | 5)\n",
    "print(4 ^ 5)\n",
    "print(~5)"
   ]
  },
  {
   "cell_type": "code",
   "execution_count": 4,
   "metadata": {},
   "outputs": [
    {
     "data": {
      "image/png": "[encoded data removed]",
      "text/plain": [
       "<IPython.core.display.Image object>"
      ]
     },
     "execution_count": 4,
     "metadata": {},
     "output_type": "execute_result"
    }
   ],
   "source": [
    "from IPython.display import Image\n",
    "Image(\"E:/code/1.pythonofficial/python/operator.png\")"
   ]
  },
  {
   "cell_type": "markdown",
   "metadata": {},
   "source": [
    "#### Note: \n",
    "    - The most significant bit acts as sign bit. 0 value represents +ve number where as 1 represents -ve value.\n",
    "    - positive numbers will be repesented directly in the memory where as -ve numbers will be represented indirectly in 2's    complement form."
   ]
  },
  {
   "cell_type": "markdown",
   "metadata": {},
   "source": [
    "- << Left shift operator After shifting the empty cells we have to fill with zero, >> Right Shift operator After shifting the empty cells we have to fill with sign bit.( 0 for +ve and 1 for -ve)"
   ]
  },
  {
   "cell_type": "markdown",
   "metadata": {},
   "source": [
    "#### 6. Assignment Operator"
   ]
  },
  {
   "cell_type": "markdown",
   "metadata": {},
   "source": [
    "- We can use assignment operator to assign value to the variable.\n",
    "- We can combine asignment operator with some other operator to form compound assignment operator."
   ]
  },
  {
   "cell_type": "code",
   "execution_count": 10,
   "metadata": {},
   "outputs": [
    {
     "name": "stdout",
     "output_type": "stream",
     "text": [
      "30\n"
     ]
    }
   ],
   "source": [
    "x = 20\n",
    "x += 10   # x=x+10\n",
    "print(x)"
   ]
  },
  {
   "cell_type": "markdown",
   "metadata": {},
   "source": [
    "#### 7.Ternary Operator (?:)  - If condition is True then firstValue will be considered else secondValue will be considered."
   ]
  },
  {
   "cell_type": "markdown",
   "metadata": {},
   "source": [
    "<b>x = 1st value if condition else 2nd value</b>"
   ]
  },
  {
   "cell_type": "code",
   "execution_count": 14,
   "metadata": {},
   "outputs": [
    {
     "name": "stdout",
     "output_type": "stream",
     "text": [
      "a is lesser\n"
     ]
    }
   ],
   "source": [
    "a=10\n",
    "b=20\n",
    "x = (\"a is greater\") if a>b else (\"a is lesser\")\n",
    "print(x)"
   ]
  },
  {
   "cell_type": "code",
   "execution_count": 17,
   "metadata": {},
   "outputs": [
    {
     "name": "stdout",
     "output_type": "stream",
     "text": [
      "Enter the 1st number:10\n",
      "Enter the 2nd number:20\n",
      "Minimum value: 10\n"
     ]
    }
   ],
   "source": [
    "a = int(input(\"Enter the 1st number:\"))\n",
    "b = int(input(\"Enter the 2nd number:\"))\n",
    "min = a if a<b else b\n",
    "print(\"Minimum value:\",min)"
   ]
  },
  {
   "cell_type": "code",
   "execution_count": 25,
   "metadata": {},
   "outputs": [
    {
     "name": "stdout",
     "output_type": "stream",
     "text": [
      "Enter the 1st number:10\n",
      "Enter the 2nd number:20\n",
      "Enter the 3rd number:30\n",
      "Minimum value: 30\n"
     ]
    }
   ],
   "source": [
    "a = int(input(\"Enter the 1st number:\"))\n",
    "b = int(input(\"Enter the 2nd number:\"))\n",
    "c = int(input(\"Enter the 3rd number:\"))\n",
    "min = a if a<b and a<c else b if b<c else c\n",
    "print(\"Minimum value:\",min)"
   ]
  },
  {
   "cell_type": "code",
   "execution_count": 1,
   "metadata": {},
   "outputs": [
    {
     "name": "stdout",
     "output_type": "stream",
     "text": [
      "Enter the 1st number:10\n",
      "Enter the 2nd number:20\n",
      "Enter the 3rd number:30\n",
      "Maximum value: 30\n"
     ]
    }
   ],
   "source": [
    "a = int(input(\"Enter the 1st number:\"))\n",
    "b = int(input(\"Enter the 2nd number:\"))\n",
    "c = int(input(\"Enter the 3rd number:\"))\n",
    "max = a if a>b and a>c else b if b>c else c\n",
    "print(\"Maximum value:\",max)"
   ]
  },
  {
   "cell_type": "code",
   "execution_count": 5,
   "metadata": {},
   "outputs": [
    {
     "name": "stdout",
     "output_type": "stream",
     "text": [
      "Enter the 1st number:101\n",
      "Enter the 2nd number:101\n"
     ]
    },
    {
     "data": {
      "text/plain": [
       "'both are equal'"
      ]
     },
     "execution_count": 5,
     "metadata": {},
     "output_type": "execute_result"
    }
   ],
   "source": [
    "a = int(input(\"Enter the 1st number:\"))\n",
    "b = int(input(\"Enter the 2nd number:\"))\n",
    "(\"both are equal\") if a==b else (\"a is greater than b\") if a>b else (\"a is lesser than b\")"
   ]
  },
  {
   "cell_type": "markdown",
   "metadata": {},
   "source": [
    "#### 8. Special Operators\n",
    "            1. Identity Operators  (is, is not): for address comparison\n",
    "            2. Membership operators(in, not in): to check whether the given obj present in the collection\n",
    "            (str, list, set, tuple,dict)"
   ]
  },
  {
   "cell_type": "markdown",
   "metadata": {},
   "source": [
    "#### 8(1). Identity operator"
   ]
  },
  {
   "cell_type": "code",
   "execution_count": 7,
   "metadata": {},
   "outputs": [
    {
     "name": "stdout",
     "output_type": "stream",
     "text": [
      "True\n"
     ]
    }
   ],
   "source": [
    "a = 10\n",
    "b = 10\n",
    "print(a is b)     # both a and b are pointing to same value"
   ]
  },
  {
   "cell_type": "code",
   "execution_count": 9,
   "metadata": {},
   "outputs": [
    {
     "name": "stdout",
     "output_type": "stream",
     "text": [
      "True\n"
     ]
    }
   ],
   "source": [
    "x = True\n",
    "y = True\n",
    "print(x is y)"
   ]
  },
  {
   "cell_type": "code",
   "execution_count": 12,
   "metadata": {},
   "outputs": [
    {
     "name": "stdout",
     "output_type": "stream",
     "text": [
      "1901388378496\n",
      "1901388378496\n",
      "True\n"
     ]
    }
   ],
   "source": [
    "a = \"pawan\"\n",
    "b = \"pawan\"\n",
    "print(id(a))\n",
    "print(id(b))\n",
    "print(a is b)"
   ]
  },
  {
   "cell_type": "code",
   "execution_count": 18,
   "metadata": {},
   "outputs": [
    {
     "name": "stdout",
     "output_type": "stream",
     "text": [
      "1901388400264\n",
      "1901388463752\n",
      "False\n",
      "True\n",
      "True\n"
     ]
    }
   ],
   "source": [
    "l1 = [\"pawan\",\"kumar\",\"puppala\"]\n",
    "l2 = [\"pawan\",\"kumar\",\"puppala\"]\n",
    "print(id(l1))\n",
    "print(id(l2))              # object address\n",
    "\n",
    "print(l1 is l2)\n",
    "print(l1 is not l2)        # address comparison\n",
    "\n",
    "print(l1 == l2)            # content comparison"
   ]
  },
  {
   "cell_type": "markdown",
   "metadata": {},
   "source": [
    "<b>Note: We can use is operator for address comparison where as == operator for content comparison.</b>"
   ]
  },
  {
   "cell_type": "markdown",
   "metadata": {},
   "source": [
    "#### 8(2). Membership operators"
   ]
  },
  {
   "cell_type": "code",
   "execution_count": 23,
   "metadata": {},
   "outputs": [
    {
     "name": "stdout",
     "output_type": "stream",
     "text": [
      "False\n",
      "True\n",
      "True\n",
      "True\n"
     ]
    }
   ],
   "source": [
    "x = \"i am from BHEEMAVARAM\"\n",
    "print(\"b\" in x)\n",
    "print(\"B\" in x)\n",
    "print(\"z\" not in x)\n",
    "print(\"am\" in x)"
   ]
  },
  {
   "cell_type": "code",
   "execution_count": 25,
   "metadata": {},
   "outputs": [
    {
     "name": "stdout",
     "output_type": "stream",
     "text": [
      "True\n",
      "False\n"
     ]
    }
   ],
   "source": [
    "y = [\"pawan\", \"kumar\", \"puppala\"]\n",
    "print(\"pawan\" in y)\n",
    "print(\"pavan\" in y)"
   ]
  },
  {
   "cell_type": "markdown",
   "metadata": {},
   "source": [
    "### Operator Precedence : If multiple operators present then which operator will be evaluated first is decided by operator precedence."
   ]
  },
  {
   "cell_type": "code",
   "execution_count": 29,
   "metadata": {},
   "outputs": [
    {
     "name": "stdout",
     "output_type": "stream",
     "text": [
      "23\n",
      "46\n"
     ]
    }
   ],
   "source": [
    "print(3+10*2)\n",
    "print((3+20)*2)"
   ]
  },
  {
   "cell_type": "markdown",
   "metadata": {},
   "source": [
    "- ()   --> Parenthesis\n",
    "- **   --> exponential operator \n",
    "- ~,-  --> Bitwise complement operator,unary minus operator\n",
    "- *,/,%,// -->  multiplication,division,modulo,floor division \n",
    "- +,-      -->  addition,subtraction \n",
    "- <<,>>    -->  Left and Right Shift\n",
    "- &        -->  bitwise And\n",
    "- ^   -->  Bitwise X-OR \n",
    "- |   -->  Bitwise OR \n",
    "- >,>=,<,<=, ==, != --> Relational or Comparison operators \n",
    "- =,+=,-=,*=...     --> Assignment operators\n",
    "- is , is not       --> Identity Operators \n",
    "- in , not in       --> Membership operators\n",
    "- not      --> Logical not \n",
    "- and      --> Logical and \n",
    "- or       --> Logical or"
   ]
  },
  {
   "cell_type": "markdown",
   "metadata": {},
   "source": [
    "# Mathematical Functions (math Module) "
   ]
  },
  {
   "cell_type": "markdown",
   "metadata": {},
   "source": [
    "- A Module is collection of functions, variables and classes etc.\n",
    "- math is a module that contains several functions to perform mathematical operations\n",
    "- If we want to use any module in Python, first we have to import that module."
   ]
  },
  {
   "cell_type": "code",
   "execution_count": 34,
   "metadata": {},
   "outputs": [
    {
     "name": "stdout",
     "output_type": "stream",
     "text": [
      "4.0\n",
      "3.141592653589793\n"
     ]
    }
   ],
   "source": [
    "import math\n",
    "\n",
    "print(math.sqrt(16))\n",
    "print(math.pi)"
   ]
  },
  {
   "cell_type": "code",
   "execution_count": 35,
   "metadata": {},
   "outputs": [
    {
     "name": "stdout",
     "output_type": "stream",
     "text": [
      "5.0\n",
      "3.141592653589793\n"
     ]
    }
   ],
   "source": [
    "import math as m\n",
    "\n",
    "print(m.sqrt(25))\n",
    "print(m.pi)"
   ]
  },
  {
   "cell_type": "code",
   "execution_count": 36,
   "metadata": {},
   "outputs": [
    {
     "name": "stdout",
     "output_type": "stream",
     "text": [
      "5.0\n",
      "3.141592653589793\n"
     ]
    }
   ],
   "source": [
    "from math import sqrt\n",
    "from math import pi\n",
    "\n",
    "print(sqrt(25))\n",
    "print(pi)"
   ]
  },
  {
   "cell_type": "markdown",
   "metadata": {},
   "source": [
    "#### important functions of math module:\n",
    "- ceil(x) \n",
    "- floor(x) \n",
    "- pow(x,y) \n",
    "- factorial(x) \n",
    "- trunc(x) \n",
    "- gcd(x,y) \n",
    "- sin(x) \n",
    "- cos(x) \n",
    "- tan(x)"
   ]
  },
  {
   "cell_type": "markdown",
   "metadata": {},
   "source": [
    "#### important variables of math module:\n",
    "- pi  --> 3.14 \n",
    "- e   --> 2.71 \n",
    "- inf --> infinity\n",
    "- nan --> not a number"
   ]
  },
  {
   "cell_type": "code",
   "execution_count": 39,
   "metadata": {},
   "outputs": [
    {
     "name": "stdout",
     "output_type": "stream",
     "text": [
      "Area of circle is: 706.8583470577034\n"
     ]
    }
   ],
   "source": [
    "from math import *\n",
    "\n",
    "r = 15\n",
    "print(\"Area of circle is:\", pi*r**2)"
   ]
  },
  {
   "cell_type": "code",
   "execution_count": 31,
   "metadata": {},
   "outputs": [],
   "source": [
    "import math\n",
    "import math as m\n",
    "from math import sqrt"
   ]
  },
  {
   "cell_type": "code",
   "execution_count": null,
   "metadata": {},
   "outputs": [],
   "source": []
  }
 ],
 "metadata": {
  "kernelspec": {
   "display_name": "Python 3",
   "language": "python",
   "name": "python3"
  },
  "language_info": {
   "codemirror_mode": {
    "name": "ipython",
    "version": 3
   },
   "file_extension": ".py",
   "mimetype": "text/x-python",
   "name": "python",
   "nbconvert_exporter": "python",
   "pygments_lexer": "ipython3",
   "version": "3.6.5"
  }
 },
 "nbformat": 4,
 "nbformat_minor": 2
}
