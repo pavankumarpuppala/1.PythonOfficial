{
 "cells": [
  {
   "cell_type": "markdown",
   "metadata": {},
   "source": [
    "## Generators Concept\n",
    "- category1 : store all products and sell to customers(shop size large)\n",
    "- category2 : they'll sell to customers on order(only one table)"
   ]
  },
  {
   "cell_type": "markdown",
   "metadata": {},
   "source": [
    "### Normal Collection vs Generators  wrt memory utilization"
   ]
  },
  {
   "cell_type": "code",
   "execution_count": 1,
   "metadata": {},
   "outputs": [
    {
     "name": "stdout",
     "output_type": "stream",
     "text": [
      "0\n"
     ]
    }
   ],
   "source": [
    "l = [x*x for x in range(100)]     #all these 100 values are stored in memory\n",
    "print(l[0])"
   ]
  },
  {
   "cell_type": "code",
   "execution_count": 2,
   "metadata": {},
   "outputs": [],
   "source": [
    "#l = [x*x for x in range(10000000000)]             \n",
    "#print(l[0])                                     # memory error"
   ]
  },
  {
   "cell_type": "markdown",
   "metadata": {},
   "source": [
    "In above cell in the line one will get memory error beacuse when we execute it will create all objects and store in the memory at a time. to overcome it we introduce the generator concept"
   ]
  },
  {
   "cell_type": "code",
   "execution_count": 3,
   "metadata": {},
   "outputs": [
    {
     "name": "stdout",
     "output_type": "stream",
     "text": [
      "<class 'generator'>\n",
      "0\n"
     ]
    }
   ],
   "source": [
    "#tuple comprehension\n",
    "l2 = (x*x for x in range(10))\n",
    "print(type(l2))\n",
    "print(next(l2))"
   ]
  },
  {
   "cell_type": "code",
   "execution_count": 4,
   "metadata": {},
   "outputs": [
    {
     "name": "stdout",
     "output_type": "stream",
     "text": [
      "0\n",
      "1\n",
      "4\n"
     ]
    }
   ],
   "source": [
    "g = (x*x for x in range(100000000000000000))\n",
    "print(next(g))\n",
    "print(next(g))\n",
    "print(next(g))\n",
    "#for i in g:\n",
    "    #print(i)"
   ]
  },
  {
   "cell_type": "markdown",
   "metadata": {},
   "source": [
    "### diff b/w collections and generators\n",
    "- collections the values are always going to stored in the memory .\n",
    "- if you want to generate big sequence of values then go for generator\n",
    "  in case of generator values never going to store in memory"
   ]
  },
  {
   "cell_type": "markdown",
   "metadata": {},
   "source": [
    "## Generators?\n",
    "- it is a function which is responsible to generate a sequence of values(it is a funtion that returns an object which can iterate over as one value at a time)\n",
    "- we can write generator function just like ordinary functions but it uses yield keyword to return values\n",
    "- if a function contain atleast one yield statement it becomes a generator function"
   ]
  },
  {
   "cell_type": "markdown",
   "metadata": {},
   "source": [
    "### Why generators\n",
    "- to handle large volumes of data\n",
    "- for memory utiliztion"
   ]
  },
  {
   "cell_type": "markdown",
   "metadata": {},
   "source": [
    "### diff b/w return and yield\n",
    "- return statement will terminate the entire function\n",
    "- yield pauses the function and saving all its states and later continues from there on successive calls "
   ]
  },
  {
   "cell_type": "markdown",
   "metadata": {},
   "source": [
    "### NOTE: generator function won't take any argument and by using \"yield\" keyword we can generate the values"
   ]
  },
  {
   "cell_type": "code",
   "execution_count": 5,
   "metadata": {},
   "outputs": [
    {
     "name": "stdout",
     "output_type": "stream",
     "text": [
      "A\n",
      "B\n",
      "C\n"
     ]
    }
   ],
   "source": [
    "def gen():\n",
    "    yield 'A'\n",
    "    yield 'B'\n",
    "    yield 'C'\n",
    "\n",
    "g=gen()\n",
    "print(next(g))\n",
    "print(next(g))\n",
    "print(next(g))\n",
    "#print(next(g))   #StopIteration: "
   ]
  },
  {
   "cell_type": "code",
   "execution_count": 3,
   "metadata": {},
   "outputs": [
    {
     "name": "stdout",
     "output_type": "stream",
     "text": [
      "0\n",
      "2\n"
     ]
    }
   ],
   "source": [
    "def gen():  \n",
    "    for i in range(10):  \n",
    "        if(i%2==0):  \n",
    "             yield i  \n",
    "  \n",
    "### Successive Function call using for loop  \n",
    "# for i in gen():  \n",
    "#     print(i) \n",
    "\n",
    "g = gen()\n",
    "print(next(g))\n",
    "print(next(g))"
   ]
  },
  {
   "cell_type": "markdown",
   "metadata": {},
   "source": [
    "#### 2.generate first n numbers"
   ]
  },
  {
   "cell_type": "code",
   "execution_count": 6,
   "metadata": {},
   "outputs": [
    {
     "name": "stdout",
     "output_type": "stream",
     "text": [
      "<class 'function'>\n",
      "1\n",
      "2\n",
      "3\n",
      "4\n",
      "5\n"
     ]
    }
   ],
   "source": [
    "def firstn(num):\n",
    "    n=1\n",
    "    while n<=num:\n",
    "        yield n\n",
    "        n=n+1\n",
    "                \n",
    "print(type(firstn))\n",
    "f = firstn(5)\n",
    "for i in f:\n",
    "    print(i)"
   ]
  },
  {
   "cell_type": "code",
   "execution_count": 7,
   "metadata": {},
   "outputs": [
    {
     "data": {
      "text/plain": [
       "[1, 2, 3, 4, 5, 6, 7, 8, 9, 10]"
      ]
     },
     "execution_count": 7,
     "metadata": {},
     "output_type": "execute_result"
    }
   ],
   "source": [
    "values = firstn(10)\n",
    "list(values)"
   ]
  },
  {
   "cell_type": "code",
   "execution_count": 8,
   "metadata": {},
   "outputs": [
    {
     "name": "stdout",
     "output_type": "stream",
     "text": [
      "5\n",
      "4\n",
      "3\n",
      "2\n",
      "1\n"
     ]
    }
   ],
   "source": [
    "def countdown(num):\n",
    "    while num>0:\n",
    "        yield num\n",
    "        num=num-1\n",
    "        \n",
    "for c in countdown(5):\n",
    "    print(c)"
   ]
  },
  {
   "cell_type": "markdown",
   "metadata": {},
   "source": [
    "#### yield vs. return\n",
    "The yield statement is responsible for controlling the flow of the generator function. It pauses the function execution by saving all states and yielded to the caller. Later it resumes execution when a successive function is called. We can use the multiple yield statement in the generator function.\n",
    "\n",
    "The return statement returns a value and terminates the whole function and only one return statement can be used in the function."
   ]
  },
  {
   "cell_type": "markdown",
   "metadata": {},
   "source": [
    "#### Difference between Generator function and Normal function\n",
    "- Normal function contains only one Lreturn statement whereas generator function can contain one or more yield statement.\n",
    "- When the generator functions are called, the normal function is paused immediately and control transferred to the caller.\n",
    "- Local variable and their states are remembered between successive calls.\n",
    "- StopIteration exception is raised automatically when the function terminates."
   ]
  },
  {
   "cell_type": "markdown",
   "metadata": {},
   "source": [
    "#### 3.To generate Fibonacci numbers 0,1,1,2,3,5,8,13,21 "
   ]
  },
  {
   "cell_type": "code",
   "execution_count": 9,
   "metadata": {},
   "outputs": [
    {
     "name": "stdout",
     "output_type": "stream",
     "text": [
      "0\n",
      "1\n",
      "1\n",
      "2\n",
      "3\n",
      "5\n",
      "8\n",
      "13\n",
      "21\n",
      "34\n",
      "55\n",
      "89\n"
     ]
    }
   ],
   "source": [
    "def fib():\n",
    "    a,b = 0,1\n",
    "    while True:\n",
    "        yield a                #what we have done last time and what we have to genarate next time\n",
    "        a,b = b,a+b\n",
    "        \n",
    "for f in fib():\n",
    "    if f<100:\n",
    "        print(f)\n",
    "    else:\n",
    "        break"
   ]
  },
  {
   "cell_type": "code",
   "execution_count": 10,
   "metadata": {},
   "outputs": [],
   "source": [
    "def fibon(n):\n",
    "    a = 1\n",
    "    b = 1\n",
    "    output = []\n",
    "    \n",
    "    for i in range(n):\n",
    "        output.append(a)\n",
    "        a,b = b,a+b\n",
    "        \n",
    "    return output"
   ]
  },
  {
   "cell_type": "code",
   "execution_count": 11,
   "metadata": {},
   "outputs": [
    {
     "data": {
      "text/plain": [
       "[1, 1, 2, 3, 5, 8, 13, 21, 34, 55]"
      ]
     },
     "execution_count": 11,
     "metadata": {},
     "output_type": "execute_result"
    }
   ],
   "source": [
    "fibon(10)"
   ]
  },
  {
   "cell_type": "code",
   "execution_count": 12,
   "metadata": {},
   "outputs": [
    {
     "data": {
      "image/png": "[encoded data removed]",
      "text/plain": [
       "<IPython.core.display.Image object>"
      ]
     },
     "execution_count": 12,
     "metadata": {},
     "output_type": "execute_result"
    }
   ],
   "source": [
    "from IPython.display import Image\n",
    "Image(\"E:/code/1.PythonOfficial/img/generator1.png\") #real time example of Generator"
   ]
  },
  {
   "cell_type": "markdown",
   "metadata": {},
   "source": [
    "### Advantages\n",
    "- when compared with class level iterators, generators are very easy to use\n",
    "- improves memory utilization and performance\n",
    "- generators are best suitable for reading data from large number of large files \n",
    "- generators work great for web scraping and crawling"
   ]
  },
  {
   "cell_type": "code",
   "execution_count": 18,
   "metadata": {},
   "outputs": [],
   "source": [
    "# from random import *\n",
    "# #import time\n",
    "\n",
    "# def namegen():\n",
    "#     #alpha = 'ABCDEFGHIJKLMNOPQRSTUVXYZ'\n",
    "#     alpha = 'ABCDEF'\n",
    "#     while True:\n",
    "#         name = ''\n",
    "#         for i in range(6):\n",
    "#             name  = name+choice(alpha)\n",
    "#         yield name\n",
    "    \n",
    "# for n in namegen():\n",
    "#     #time.sleep(2)\n",
    "#     print(n)"
   ]
  },
  {
   "cell_type": "markdown",
   "metadata": {},
   "source": [
    "#### 4.with respect to performance"
   ]
  },
  {
   "cell_type": "code",
   "execution_count": 19,
   "metadata": {},
   "outputs": [
    {
     "data": {
      "text/plain": [
       "[{'id': 0, 'name': 'puppala', 'techology': 'java'},\n",
       " {'id': 1, 'name': 'puppala', 'techology': 'dotnet'},\n",
       " {'id': 2, 'name': 'pawan', 'techology': 'python'}]"
      ]
     },
     "execution_count": 19,
     "metadata": {},
     "output_type": "execute_result"
    }
   ],
   "source": [
    "# normal concept\n",
    "from random import *\n",
    "import time\n",
    "\n",
    "names=['pawan','kumar','puppala']\n",
    "tech = ['java','python','dotnet']\n",
    "\n",
    "def employe_list(num):\n",
    "    results=[]\n",
    "    for i in range(num):\n",
    "        person = {'id':i,\n",
    "                  'name':choice(names),\n",
    "                  'techology':choice(tech)}\n",
    "        results.append(person)\n",
    "    return results\n",
    "\n",
    "employe_list(3)"
   ]
  },
  {
   "cell_type": "code",
   "execution_count": 20,
   "metadata": {},
   "outputs": [
    {
     "name": "stdout",
     "output_type": "stream",
     "text": [
      "{'id': 2, 'name': 'pawan', 'techology': 'dotnet'}\n"
     ]
    }
   ],
   "source": [
    "# Generator concept\n",
    "from random import *\n",
    "import time\n",
    "\n",
    "names=['pawan','kumar','puppala']\n",
    "tech = ['java','python','dotnet']\n",
    "\n",
    "def employe_generator(num):\n",
    "    for i in range(num):\n",
    "        person = {'id':i,'name':choice(names),'techology':choice(tech)}\n",
    "    yield person \n",
    "\n",
    "gen = employe_generator(3)\n",
    "for g in gen:\n",
    "    print(g)"
   ]
  },
  {
   "cell_type": "code",
   "execution_count": 21,
   "metadata": {},
   "outputs": [
    {
     "name": "stdout",
     "output_type": "stream",
     "text": [
      "time taken 0.0074378000000000005\n"
     ]
    }
   ],
   "source": [
    "t1 = time.clock()\n",
    "emp = employe_list(1000)\n",
    "t2= time.clock() \n",
    "print(\"time taken\",t2-t1)"
   ]
  },
  {
   "cell_type": "code",
   "execution_count": 22,
   "metadata": {},
   "outputs": [
    {
     "name": "stdout",
     "output_type": "stream",
     "text": [
      "time taken 0.00026729999999997034\n"
     ]
    }
   ],
   "source": [
    "t1 = time.clock()\n",
    "emp = employe_generator(1000)\n",
    "t2= time.clock() \n",
    "print(\"time taken\",t2-t1)"
   ]
  },
  {
   "cell_type": "code",
   "execution_count": 23,
   "metadata": {},
   "outputs": [],
   "source": [
    "#Ex1: print cude of given numbers\n",
    "def cube(a):\n",
    "    for i in range(a):\n",
    "        print(i**3)"
   ]
  },
  {
   "cell_type": "code",
   "execution_count": 24,
   "metadata": {},
   "outputs": [
    {
     "name": "stdout",
     "output_type": "stream",
     "text": [
      "0\n",
      "1\n",
      "8\n"
     ]
    }
   ],
   "source": [
    "cube(3)"
   ]
  },
  {
   "cell_type": "code",
   "execution_count": 25,
   "metadata": {},
   "outputs": [],
   "source": [
    "#Ex2: generator function for the cube of numbers\n",
    "def gencubes(n):\n",
    "    for num in range(n):\n",
    "        yield num**3"
   ]
  },
  {
   "cell_type": "code",
   "execution_count": 26,
   "metadata": {},
   "outputs": [
    {
     "data": {
      "text/plain": [
       "<generator object gencubes at 0x000001BAB1A2EDB0>"
      ]
     },
     "execution_count": 26,
     "metadata": {},
     "output_type": "execute_result"
    }
   ],
   "source": [
    "gencubes(4)"
   ]
  },
  {
   "cell_type": "code",
   "execution_count": 27,
   "metadata": {},
   "outputs": [
    {
     "name": "stdout",
     "output_type": "stream",
     "text": [
      "0\n",
      "1\n",
      "8\n",
      "27\n"
     ]
    }
   ],
   "source": [
    "a = iter(gencubes(4))\n",
    "print(next(a))\n",
    "print(next(a))\n",
    "print(next(a))\n",
    "print(next(a))\n",
    "#print(next(a))"
   ]
  },
  {
   "cell_type": "markdown",
   "metadata": {},
   "source": [
    "## customize range"
   ]
  },
  {
   "cell_type": "code",
   "execution_count": 28,
   "metadata": {},
   "outputs": [],
   "source": [
    "def cus_range(start, stop, step=1):\n",
    "    numbers = []\n",
    "    while start < stop:\n",
    "        numbers.append(start)\n",
    "        start += step\n",
    "    return numbers"
   ]
  },
  {
   "cell_type": "code",
   "execution_count": 29,
   "metadata": {},
   "outputs": [],
   "source": [
    "def cus_xrange(start, stop, step=1):\n",
    "    numbers = []\n",
    "    while start < stop:\n",
    "        yield start\n",
    "        start += step"
   ]
  },
  {
   "cell_type": "code",
   "execution_count": 30,
   "metadata": {},
   "outputs": [
    {
     "data": {
      "text/plain": [
       "[0, 1, 2, 3, 4]"
      ]
     },
     "execution_count": 30,
     "metadata": {},
     "output_type": "execute_result"
    }
   ],
   "source": [
    "cus_range(0,5)"
   ]
  },
  {
   "cell_type": "code",
   "execution_count": 31,
   "metadata": {},
   "outputs": [
    {
     "data": {
      "text/plain": [
       "<generator object cus_xrange at 0x000001BAB19EE258>"
      ]
     },
     "execution_count": 31,
     "metadata": {},
     "output_type": "execute_result"
    }
   ],
   "source": [
    "cus_xrange(0,5)"
   ]
  },
  {
   "cell_type": "code",
   "execution_count": null,
   "metadata": {},
   "outputs": [],
   "source": []
  }
 ],
 "metadata": {
  "kernelspec": {
   "display_name": "Python 3",
   "language": "python",
   "name": "python3"
  },
  "language_info": {
   "codemirror_mode": {
    "name": "ipython",
    "version": 3
   },
   "file_extension": ".py",
   "mimetype": "text/x-python",
   "name": "python",
   "nbconvert_exporter": "python",
   "pygments_lexer": "ipython3",
   "version": "3.6.5"
  }
 },
 "nbformat": 4,
 "nbformat_minor": 2
}
