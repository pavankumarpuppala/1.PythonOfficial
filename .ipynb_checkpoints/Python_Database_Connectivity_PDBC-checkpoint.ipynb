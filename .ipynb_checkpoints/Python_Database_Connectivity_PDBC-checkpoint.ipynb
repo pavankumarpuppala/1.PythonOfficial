{
 "cells": [
  {
   "cell_type": "markdown",
   "metadata": {},
   "source": [
    "### Storage Areas\n",
    "- As the Part of our Applications, we required to store our Data like Customers Information, Billing\n",
    "Information, Calls Information etc..\n",
    "- To store this Data, we required Storage Areas. There are 2 types of Storage Areas.\n",
    "    - Temporary Storage Areas\n",
    "    - Permanent Storage Areas\n",
    "    \n",
    "#### 1.Temporary Storage Areas: These are the Memory Areas where Data will be stored temporarily.\n",
    "- Eg: Python objects like List, Tuple, Dictionary.\n",
    "- Once Python program completes its execution then these objects will be destroyed automatically and data will be lost.\n",
    "\n",
    "#### 2. Permanent Storage Areas: Also known as Persistent Storage Areas. Here we can store Data permanently.\n",
    "- Eg: File Systems, Databases, Data warehouses, Big Data Technologies etc\n",
    "\n",
    "### File Systems:\n",
    "- File Systems can be provided by Local operating System. File Systems are best suitable to store very less Amount of Information.\n",
    "\n",
    "#### Limitaitons:\n",
    "- We cannot store huge Amount of Information.\n",
    "- There is no Query Language support and hence operations will become very complex.\n",
    "- There is no Security for Data.\n",
    "- There is no Mechanism to prevent duplicate Data. Hence there may be a chance of Data Inconsistency Problems.\n",
    "\n",
    "### Databases:\n",
    "- We can store Huge Amount of Information in the Databases.\n",
    "- Query Language Support is available for every Database and hence we can perform Database Operations very easily.\n",
    "- To access Data present in the Database, compulsory username and pwd must be required.Hence Data is secured.\n",
    "- Inside Database Data will be stored in the form of Tables. While developing Database Table\n",
    "    - Schemas, Database Admin follow various Normalization Techniques and can implement various\n",
    "    - Constraints like Unique Key Constrains, Primary Key Constraints etc which prevent Data Duplication. Hence there is no chance of Data Inconsistency Problems.\n",
    "    \n",
    "#### Limitations of Databases:\n",
    "- Database cannot hold very Huge Amount of Information like Terabytes of Data.\n",
    "- Database can provide support only for Structured Data (Tabular Data OR Relational Data) and cannot provide support for Semi Structured Data (like XML Files) and Unstructured Data (like Video Files, Audio Files, Images etc)\n",
    "- To overcome these Problems we should go for more Advanced Storage Areas like Big Data Technologies, Data warehouses etc."
   ]
  },
  {
   "cell_type": "markdown",
   "metadata": {},
   "source": [
    "### Python Database Programming:\n",
    "- Sometimes as the part of Programming requirement we have to connect to the database and we have to perform several operations like creating tables, inserting data,updating data,deleting data,selecting data etc.\n",
    "- We can use SQL Language to talk to the database and we can use Python to send those SQL commands to the database.\n",
    "- Python provides inbuilt support for several databases like Oracle, MySql, SqlServer, GadFly, sqlite, etc.\n",
    "- Python has seperate module for each database.\n",
    "    - Eg: cx_Oralce module for communicating with Oracle database\n",
    "    - pymssql module for communicating with Microsoft Sql Server"
   ]
  },
  {
   "cell_type": "markdown",
   "metadata": {},
   "source": [
    "### Standard Steps for Python database Programming:\n",
    "- Import database specific module\n",
    "    - import cx_Oracle\n",
    "    \n",
    "- Establish Connection between Python Program and database. We can create this Connection object by using connect() function of the module.\n",
    "    - con = cx_Oracle.connect('scott/tiger@localhost')\n",
    "    \n",
    "- To execute our sql queries and to hold results some special object is required, which is nothing but Cursor object. We can create Cursor object by using cursor() method.\n",
    "    - cursor = con.cursor()\n",
    "    \n",
    "- Execute SQL Queries By using Cursor object. For this we can use the following methods\n",
    "    - cursor.execute(sqlquery)        --> To execute a single sql query\n",
    "    - cursor.executescript(sqlqueries)--> To execute a string of sql queries seperated by semi-colon ';'\n",
    "    - cursor.executemany()            --> To execute a Parameterized query\n",
    "    - Eg: cursor.execute(\"select * from employees\")\n",
    "        \n",
    "- commit or rollback changes based on our requirement in the case of DML Queries(insert|update|delete)\n",
    "    - commit() --> Saves the changes to the database\n",
    "    - rollback() --> rolls all temporary changes back\n",
    "    \n",
    "- Fetch the result from the Cursor object in the case of select queries\n",
    "    - cursor.fetchone() --> To fetch only one row\n",
    "    - cursor.fetchall() --> To fetch all rows and it returns a list of rows\n",
    "    - cursor.fecthmany(n) --> To fetch first n rows\n",
    "        \n",
    "        - Eg 1: data =cursor.fetchone()\n",
    "                print(data)\n",
    "        - Eg 2: data=cursor.fetchall()\n",
    "                for row in data:\n",
    "                    print(row)\n",
    "                    \n",
    "- close the resources\n",
    "    After completing our operations it is highly recommended to close the resources in the reverse\n",
    "    order of their opening by using close() methods.\n",
    "    - cursor.close()\n",
    "    - con.close()"
   ]
  },
  {
   "cell_type": "markdown",
   "metadata": {},
   "source": [
    "<b>Note: The following is the list of all important methods which can be used for python database\n",
    "programming.</b>\n",
    "These methods won't be changed from database to database and same for all databases.\n",
    "- connect()\n",
    "- cursor()\n",
    "- execute()\n",
    "- executescript()\n",
    "- executemany()\n",
    "- commit()\n",
    "- rollback()\n",
    "- fetchone()\n",
    "- fetchall()\n",
    "- fetchmany(n)\n",
    "- fetch\n",
    "- close()"
   ]
  },
  {
   "cell_type": "markdown",
   "metadata": {},
   "source": [
    "### Working with Oracle DB\n",
    "- From Python Program if we want to communicate with any database,some translator must be required to translate Python calls into Database specific calls and Database specific calls into Python calls.This translator is nothing but Driver/Connector.\n",
    "- For Oracle database the name of driver needed is cx_Oracle.\n",
    "- cx_Oracle is a Python extension module that enables access to Oracle Database.It can be used for both Python2 and Python3.\n",
    "- It can work with any version of Oracle database like 9,10,11 and 12."
   ]
  },
  {
   "cell_type": "code",
   "execution_count": 2,
   "metadata": {},
   "outputs": [],
   "source": [
    "#!pip install cx_Oracle"
   ]
  },
  {
   "cell_type": "markdown",
   "metadata": {},
   "source": [
    "#### to install software: https://www.oracle.com/in/database/technologies/oracle-database-software-downloads.html\n",
    "- https://www.youtube.com/watch?v=91GhQSOqGDE&ab_channel=AmitThinks\""
   ]
  },
  {
   "cell_type": "markdown",
   "metadata": {},
   "source": [
    "### Working with MS Sql Server DB"
   ]
  },
  {
   "cell_type": "markdown",
   "metadata": {},
   "source": [
    "#### 1. Program to connect with Oracle database and print its version."
   ]
  },
  {
   "cell_type": "code",
   "execution_count": 55,
   "metadata": {},
   "outputs": [
    {
     "name": "stdout",
     "output_type": "stream",
     "text": [
      "<sqlalchemy.pool.base._ConnectionFairy object at 0x0000015C9B8DDAC8>\n",
      "Connection Established Successfully..\n"
     ]
    }
   ],
   "source": [
    "import pyodbc\n",
    "from sqlalchemy import create_engine\n",
    "\n",
    "server = 'PAVAN'\n",
    "dbname = 'COMPANY'\n",
    "connectionString = \"mssql+pyodbc://\"+server+\"/\"+dbname+\"?driver=SQL+Server\"\n",
    "\n",
    "engine = create_engine(connectionString)\n",
    "con = engine.raw_connection()\n",
    "print(con)\n",
    "if con != None:\n",
    "    print(\"Connection Established Successfully..\")\n",
    "else:\n",
    "    print(\"Connection not Established Successfully..\")\n",
    "con.close()"
   ]
  },
  {
   "cell_type": "markdown",
   "metadata": {},
   "source": [
    "#### 2.Write a Program to create employees table in the oracle database"
   ]
  },
  {
   "cell_type": "code",
   "execution_count": 58,
   "metadata": {},
   "outputs": [
    {
     "name": "stdout",
     "output_type": "stream",
     "text": [
      "There is a problem with sql ('42S01', \"[42S01] [Microsoft][ODBC SQL Server Driver][SQL Server]There is already an object named 'Persons' in the database. (2714) (SQLExecDirectW)\")\n"
     ]
    }
   ],
   "source": [
    "import pyodbc\n",
    "from sqlalchemy import create_engine\n",
    "\n",
    "try:\n",
    "    query = \"\"\"CREATE TABLE Persons (PersonID int,LastName varchar(255),FirstName varchar(255),Address varchar(255),\n",
    "                    City varchar(255))\"\"\"\n",
    "    engine = create_engine(connectionString)\n",
    "    con = engine.raw_connection()\n",
    "    cursor = con.cursor()\n",
    "    cursor.execute(query)\n",
    "    print(\"Table Created Successfully...\")\n",
    "except pyodbc.DatabaseError as msg:\n",
    "    if con!=None:\n",
    "        con.rollback()\n",
    "        print(\"There is a problem with sql\",msg)\n",
    "finally:\n",
    "    if cursor:\n",
    "        cursor.close()\n",
    "    if con:\n",
    "        con.close()"
   ]
  },
  {
   "cell_type": "markdown",
   "metadata": {},
   "source": [
    "#### 3.Write a program to drop employees table from oracle database?"
   ]
  },
  {
   "cell_type": "code",
   "execution_count": 60,
   "metadata": {},
   "outputs": [
    {
     "name": "stdout",
     "output_type": "stream",
     "text": [
      "Table dropped Successfully...\n"
     ]
    }
   ],
   "source": [
    "import pyodbc\n",
    "from sqlalchemy import create_engine\n",
    "\n",
    "try:\n",
    "    query = \"DROP TABLE Persons;\"\n",
    "    engine = create_engine(connectionString)\n",
    "    con = engine.raw_connection()\n",
    "    cursor = con.cursor()\n",
    "    cursor.execute(query)\n",
    "    print(\"Table dropped Successfully...\")\n",
    "except pyodbc.DatabaseError as msg:\n",
    "    if con!=None:\n",
    "        con.rollback()\n",
    "        print(\"There is a problem with sql\",msg)\n",
    "finally:\n",
    "    if cursor:\n",
    "        cursor.close()\n",
    "    if con:\n",
    "        con.close()"
   ]
  },
  {
   "cell_type": "markdown",
   "metadata": {},
   "source": [
    "#### 4.Write a program to insert a single row in the employees table."
   ]
  },
  {
   "cell_type": "code",
   "execution_count": 62,
   "metadata": {},
   "outputs": [
    {
     "name": "stdout",
     "output_type": "stream",
     "text": [
      "Data Inserted Successfully...\n"
     ]
    }
   ],
   "source": [
    "import pyodbc\n",
    "from sqlalchemy import create_engine\n",
    "\n",
    "try:\n",
    "    query = \"\"\"INSERT INTO Persons (PersonID, LastName, FirstName, Address, City) \n",
    "               VALUES (1,'Pavan Kumar', 'Puppala', 'WG Dist', 'Bhimavaram');\"\"\"\n",
    "    engine = create_engine(connectionString)\n",
    "    con = engine.raw_connection()\n",
    "    cursor = con.cursor()\n",
    "    cursor.execute(query)\n",
    "    con.commit()\n",
    "    print(\"Data Inserted Successfully...\")\n",
    "except pyodbc.DatabaseError as msg:\n",
    "    if con!=None:\n",
    "        con.rollback()\n",
    "        print(\"There is a problem with sql\",msg)\n",
    "finally:\n",
    "    if cursor:\n",
    "        cursor.close()\n",
    "    if con:\n",
    "        con.close()"
   ]
  },
  {
   "cell_type": "markdown",
   "metadata": {},
   "source": [
    "#### Note: While performing DML Operations (insert|update|delte), compulsory we have to use commit() method,then only the results will be reflected in the database.`"
   ]
  },
  {
   "cell_type": "markdown",
   "metadata": {},
   "source": [
    "#### 5.Write a program to insert multiple rows in the employees table by using executemany() method."
   ]
  },
  {
   "cell_type": "code",
   "execution_count": 76,
   "metadata": {},
   "outputs": [
    {
     "name": "stdout",
     "output_type": "stream",
     "text": [
      "Records Inserted Successfully...\n"
     ]
    }
   ],
   "source": [
    "import pyodbc\n",
    "from sqlalchemy import create_engine\n",
    "\n",
    "try:\n",
    "    engine = create_engine(connectionString)\n",
    "    con = engine.raw_connection()\n",
    "    cursor = con.cursor()\n",
    "    query = \"\"\"INSERT INTO Persons VALUES(%s, %s, %s, %s, %s)\"\"\"\n",
    "    records = [(2,'Ram', 'Krishna', 'madhapur', 'Hyderabad'),(3,'Ravi', 'Kumar', 'Kondapur', 'Hyderabad'),\n",
    "               (4,'Raghu', 'Ram', 'KPHB', 'Hyderabad')]\n",
    "    \n",
    "    cursor.executemany(\"INSERT INTO Persons VALUES(?, ?, ?, ?, ?)\", records)\n",
    "    con.commit()\n",
    "    print(\"Records Inserted Successfully...\")\n",
    "except pyodbc.DatabaseError as msg:\n",
    "    if con!=None:\n",
    "        con.rollback()\n",
    "        print(\"There is a problem with sql\",msg)\n",
    "finally:\n",
    "    if cursor:\n",
    "        cursor.close()\n",
    "    if con:\n",
    "        con.close()"
   ]
  },
  {
   "cell_type": "markdown",
   "metadata": {},
   "source": [
    "#### 6.Write a program to insert multiple rows in the employees table with dynamic input from the keyboard?"
   ]
  },
  {
   "cell_type": "code",
   "execution_count": 77,
   "metadata": {},
   "outputs": [
    {
     "name": "stdout",
     "output_type": "stream",
     "text": [
      "Enter Person id : 5\n",
      "Enter Person Last Name : asdf\n",
      "Enter Person First Name : adffd\n",
      "Enter Person Address : fkjnlfdk\n",
      "Enter Person City : dskjf\n"
     ]
    },
    {
     "ename": "TypeError",
     "evalue": "not all arguments converted during string formatting",
     "output_type": "error",
     "traceback": [
      "\u001b[1;31m---------------------------------------------------------------------------\u001b[0m",
      "\u001b[1;31mTypeError\u001b[0m                                 Traceback (most recent call last)",
      "\u001b[1;32m<ipython-input-77-0c84655c8e11>\u001b[0m in \u001b[0;36m<module>\u001b[1;34m()\u001b[0m\n\u001b[0;32m     13\u001b[0m         \u001b[0mcity\u001b[0m \u001b[1;33m=\u001b[0m \u001b[0minput\u001b[0m\u001b[1;33m(\u001b[0m\u001b[1;34m\"Enter Person City : \"\u001b[0m\u001b[1;33m)\u001b[0m\u001b[1;33m\u001b[0m\u001b[0m\n\u001b[0;32m     14\u001b[0m         \u001b[0mquery\u001b[0m \u001b[1;33m=\u001b[0m \u001b[1;34m\"\"\"INSERT INTO Persons VALUES(?, ?, ?, ?, ?)\"\"\"\u001b[0m\u001b[1;33m\u001b[0m\u001b[0m\n\u001b[1;32m---> 15\u001b[1;33m         \u001b[0mcursor\u001b[0m\u001b[1;33m.\u001b[0m\u001b[0mexecute\u001b[0m\u001b[1;33m(\u001b[0m\u001b[0mquery\u001b[0m \u001b[1;33m%\u001b[0m\u001b[1;33m(\u001b[0m\u001b[0mpid\u001b[0m\u001b[1;33m,\u001b[0m\u001b[0mlname\u001b[0m\u001b[1;33m,\u001b[0m\u001b[0mfname\u001b[0m\u001b[1;33m,\u001b[0m\u001b[0maddress\u001b[0m\u001b[1;33m,\u001b[0m\u001b[0mcity\u001b[0m\u001b[1;33m)\u001b[0m\u001b[1;33m)\u001b[0m\u001b[1;33m\u001b[0m\u001b[0m\n\u001b[0m\u001b[0;32m     16\u001b[0m         \u001b[0mprint\u001b[0m\u001b[1;33m(\u001b[0m\u001b[1;34m\"Record Inserted Successfully\"\u001b[0m\u001b[1;33m)\u001b[0m\u001b[1;33m\u001b[0m\u001b[0m\n\u001b[0;32m     17\u001b[0m         \u001b[0moption\u001b[0m\u001b[1;33m=\u001b[0m\u001b[0minput\u001b[0m\u001b[1;33m(\u001b[0m\u001b[1;34m\"Do you want to insert one more record[Yes|No] :\"\u001b[0m\u001b[1;33m)\u001b[0m\u001b[1;33m\u001b[0m\u001b[0m\n",
      "\u001b[1;31mTypeError\u001b[0m: not all arguments converted during string formatting"
     ]
    }
   ],
   "source": [
    "import pyodbc\n",
    "from sqlalchemy import create_engine\n",
    "\n",
    "try:\n",
    "    engine = create_engine(connectionString)\n",
    "    con = engine.raw_connection()\n",
    "    cursor = con.cursor()\n",
    "    while True:\n",
    "        pid = int(input(\"Enter Person id : \"))\n",
    "        lname = input(\"Enter Person Last Name : \")\n",
    "        fname = input(\"Enter Person First Name : \")\n",
    "        address = input(\"Enter Person Address : \")\n",
    "        city = input(\"Enter Person City : \")\n",
    "        query = \"\"\"INSERT INTO Persons VALUES(?, ?, ?, ?, ?)\"\"\"\n",
    "        cursor.execute(query %(pid,lname,fname,address,city))\n",
    "        print(\"Record Inserted Successfully\")\n",
    "        option=input(\"Do you want to insert one more record[Yes|No] :\")\n",
    "        if option==\"No\":\n",
    "            con.commit()\n",
    "            break\n",
    "except pyodbc.DatabaseError as msg:\n",
    "    if con!=None:\n",
    "        con.rollback()\n",
    "        print(\"There is a problem with sql\",msg)\n",
    "finally:\n",
    "    if cursor:\n",
    "        cursor.close()\n",
    "    if con:\n",
    "        con.close()  "
   ]
  },
  {
   "cell_type": "markdown",
   "metadata": {},
   "source": [
    "#### 7.Write a program to update employee salaries with increment for the certain range with dynamic input.\n",
    "- Increment all employee salaries by 500 whose salary < 5000"
   ]
  },
  {
   "cell_type": "code",
   "execution_count": 81,
   "metadata": {},
   "outputs": [
    {
     "name": "stdout",
     "output_type": "stream",
     "text": [
      "Enter Increment Salary:2\n",
      "Enter Salary Range:10\n",
      "update product set UnitPrice=UnitPrice+%f where UnitPrice<%f\n",
      "Records Updated Successfully\n"
     ]
    }
   ],
   "source": [
    "import pyodbc\n",
    "from sqlalchemy import create_engine\n",
    "\n",
    "try:\n",
    "    engine = create_engine(connectionString)\n",
    "    con = engine.raw_connection()\n",
    "    cursor = con.cursor()\n",
    "    increment = float(input(\"Enter Increment Salary:\"))\n",
    "    salrange = float(input(\"Enter Salary Range:\"))\n",
    "    query = \"update product set UnitPrice=UnitPrice+%f where UnitPrice<%f\"\n",
    "    print(query)\n",
    "    cursor.execute(query %(increment,salrange))\n",
    "    print(\"Records Updated Successfully\")\n",
    "    con.commit()\n",
    "except pyodbc.DatabaseError as msg:\n",
    "    if con!=None:\n",
    "        con.rollback()\n",
    "        print(\"There is a problem with sql\",msg)\n",
    "finally:\n",
    "    if cursor:\n",
    "        cursor.close()\n",
    "    if con:\n",
    "        con.close() "
   ]
  },
  {
   "cell_type": "markdown",
   "metadata": {},
   "source": [
    "#### 8. Write a program to delete employees whose salary greater provided salary as dynamic input?\n",
    "- delete all employees whose salary > 5000"
   ]
  },
  {
   "cell_type": "code",
   "execution_count": null,
   "metadata": {},
   "outputs": [],
   "source": []
  },
  {
   "cell_type": "code",
   "execution_count": null,
   "metadata": {},
   "outputs": [],
   "source": []
  },
  {
   "cell_type": "code",
   "execution_count": null,
   "metadata": {},
   "outputs": [],
   "source": []
  },
  {
   "cell_type": "code",
   "execution_count": null,
   "metadata": {},
   "outputs": [],
   "source": []
  },
  {
   "cell_type": "code",
   "execution_count": null,
   "metadata": {},
   "outputs": [],
   "source": []
  },
  {
   "cell_type": "code",
   "execution_count": null,
   "metadata": {},
   "outputs": [],
   "source": []
  },
  {
   "cell_type": "code",
   "execution_count": 44,
   "metadata": {},
   "outputs": [
    {
     "data": {
      "text/plain": [
       "[(101, 'Praveen S', 'VIZAG', 'BR1', 'SB', datetime.datetime(2011, 1, 1, 0, 0), Decimal('164700.0000'), Decimal('188400.0000'), 'I')]"
      ]
     },
     "execution_count": 44,
     "metadata": {},
     "output_type": "execute_result"
    }
   ],
   "source": [
    "import pyodbc\n",
    "from sqlalchemy import create_engine\n",
    "\n",
    "server = 'PAVAN'\n",
    "dbname = 'ibank'\n",
    "connectionString = \"mssql+pyodbc://\"+server+\"/\"+dbname+\"?driver=SQL+Server\"\n",
    "\n",
    "engine = create_engine(connectionString)\n",
    "con = engine.raw_connection()\n",
    "cursor = con.cursor()\n",
    "\n",
    "cursor.fetchmany()"
   ]
  },
  {
   "cell_type": "code",
   "execution_count": null,
   "metadata": {},
   "outputs": [],
   "source": []
  }
 ],
 "metadata": {
  "kernelspec": {
   "display_name": "Python 3",
   "language": "python",
   "name": "python3"
  },
  "language_info": {
   "codemirror_mode": {
    "name": "ipython",
    "version": 3
   },
   "file_extension": ".py",
   "mimetype": "text/x-python",
   "name": "python",
   "nbconvert_exporter": "python",
   "pygments_lexer": "ipython3",
   "version": "3.6.5"
  }
 },
 "nbformat": 4,
 "nbformat_minor": 2
}
