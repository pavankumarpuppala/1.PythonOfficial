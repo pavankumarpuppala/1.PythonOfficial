{
 "cells": [
  {
   "cell_type": "markdown",
   "metadata": {},
   "source": [
    "- class\n",
    "- object\n",
    "- self variable\n",
    "- constructor\n",
    "- types of variables\n",
    "- types of methods\n",
    "- gc\n",
    "- inner classes\n",
    "- inner methods\n",
    "- destructors"
   ]
  },
  {
   "cell_type": "code",
   "execution_count": 1,
   "metadata": {},
   "outputs": [
    {
     "data": {
      "image/png": "[encoded data removed]",
      "text/plain": [
       "<IPython.core.display.Image object>"
      ]
     },
     "execution_count": 1,
     "metadata": {},
     "output_type": "execute_result"
    }
   ],
   "source": [
    "from IPython.display import Image\n",
    "Image(\"E:/code/1.pythonofficial/img/oop0.png\")"
   ]
  },
  {
   "cell_type": "markdown",
   "metadata": {},
   "source": [
    "## Oops: for code reusability and security purpose we use Oops concepts\n",
    "- Class\n",
    "- Object - 4 major principles of object - orientation\n",
    "- Encapsulation\n",
    "- Data Abstraction\n",
    "- Polymorphism\n",
    "- Inheritance"
   ]
  },
  {
   "cell_type": "markdown",
   "metadata": {},
   "source": [
    "## why oops?\n",
    "- Functional programming language is not upto mark\n",
    "- while using the security, code reusability wise\n",
    "- if you want build pre-complex application"
   ]
  },
  {
   "cell_type": "markdown",
   "metadata": {},
   "source": [
    "## What is Class:(which does not exist physically)\n",
    "- In Python every thing is an object. To create objects we required some Model or Plan or Blue print, which is nothing but class.\n",
    "- We can write a class to represent properties (attributes) and actions (behaviour) of object.\n",
    "- Properties can be represented by variables\n",
    "- Actions can be represented by Methods.\n",
    "- Hence class contains both variables and methods."
   ]
  },
  {
   "cell_type": "code",
   "execution_count": 4,
   "metadata": {},
   "outputs": [
    {
     "name": "stdout",
     "output_type": "stream",
     "text": [
      "<class 'int'>\n",
      "<class 'float'>\n",
      "<class 'function'>\n"
     ]
    }
   ],
   "source": [
    "x = 46\n",
    "print(type(x))\n",
    "\n",
    "y = 1.234\n",
    "print(type(y))\n",
    "\n",
    "def func(p):\n",
    "    return p+1\n",
    "print(type(func))"
   ]
  },
  {
   "cell_type": "code",
   "execution_count": 6,
   "metadata": {},
   "outputs": [
    {
     "name": "stdout",
     "output_type": "stream",
     "text": [
      "<class 'module'>\n"
     ]
    }
   ],
   "source": [
    "import math\n",
    "math.sqrt(25)\n",
    "print(type(math))"
   ]
  },
  {
   "cell_type": "markdown",
   "metadata": {},
   "source": [
    "## How to Define a class?\n",
    "- We can define a class by using class keyword.\n",
    "- syntax\n",
    "- class className:\n",
    "        \"doc String\"\n",
    "        variables: instance , static, local variables\n",
    "        methods: instance, class, static method"
   ]
  },
  {
   "cell_type": "code",
   "execution_count": 7,
   "metadata": {},
   "outputs": [],
   "source": [
    "#class\n",
    "class Student:\n",
    "    pass"
   ]
  },
  {
   "cell_type": "markdown",
   "metadata": {},
   "source": [
    "#### Documentation string represents description of the class. Within the class doc string is always optional. \n",
    "- We can get doc string by using the following 3 ways.\n",
    "    - print(classname.__doc__)\n",
    "    - help(classname)\n",
    "    - print(obj ref.__doc__)"
   ]
  },
  {
   "cell_type": "code",
   "execution_count": 2,
   "metadata": {},
   "outputs": [],
   "source": [
    "class usParLoansSynopsis:\n",
    "    \"\"\"contains trade details of a trader\"\"\""
   ]
  },
  {
   "cell_type": "code",
   "execution_count": 3,
   "metadata": {},
   "outputs": [
    {
     "name": "stdout",
     "output_type": "stream",
     "text": [
      "contains trade details of a trader\n"
     ]
    }
   ],
   "source": [
    "print(usParLoansSynopsis.__doc__)"
   ]
  },
  {
   "cell_type": "code",
   "execution_count": 4,
   "metadata": {},
   "outputs": [
    {
     "name": "stdout",
     "output_type": "stream",
     "text": [
      "Help on class usParLoansSynopsis in module __main__:\n",
      "\n",
      "class usParLoansSynopsis(builtins.object)\n",
      " |  contains trade details of a trader\n",
      " |  \n",
      " |  Data descriptors defined here:\n",
      " |  \n",
      " |  __dict__\n",
      " |      dictionary for instance variables (if defined)\n",
      " |  \n",
      " |  __weakref__\n",
      " |      list of weak references to the object (if defined)\n",
      "\n"
     ]
    }
   ],
   "source": [
    "help(usParLoansSynopsis)"
   ]
  },
  {
   "cell_type": "markdown",
   "metadata": {},
   "source": [
    "#### NOTE: method means inside of a class and function means outside of class "
   ]
  },
  {
   "cell_type": "markdown",
   "metadata": {},
   "source": [
    "### Within the Python class we can represent data by using variables.(ISL)\n",
    "- There are 3 types of variables are allowed.\n",
    "    1. Instance Variables (Object Level Variables)\n",
    "    2. Static Variables (Class Level Variables)\n",
    "    3. Local variables (Method Level Variables)"
   ]
  },
  {
   "cell_type": "markdown",
   "metadata": {},
   "source": [
    "### Within the Python class, we can represent operations by using methods.(ICS) \n",
    "- The following are various types of allowed methods\n",
    "   1. Instance Methods\n",
    "   2. Class Methods\n",
    "   3. Static Methods"
   ]
  },
  {
   "cell_type": "markdown",
   "metadata": {},
   "source": [
    "### Example of class"
   ]
  },
  {
   "cell_type": "code",
   "execution_count": 9,
   "metadata": {},
   "outputs": [
    {
     "name": "stdout",
     "output_type": "stream",
     "text": [
      "hi  pawan\n",
      "my age is: 25\n",
      "I'VE DONE MY btech\n"
     ]
    }
   ],
   "source": [
    "class latamFlow:\n",
    "    \"\"\"latamflow trader contains trade details of a trader\"\"\"\n",
    "    def __init__(self):\n",
    "        self.name=\"pawan\"\n",
    "        self.age=25\n",
    "        self.qual=\"btech\"\n",
    "        \n",
    "    def details(self):\n",
    "        print(\"hi \",self.name)\n",
    "        print(\"my age is:\",self.age)\n",
    "        print(\"I'VE DONE MY\",self.qual)\n",
    "        \n",
    "l = latamFlow()    # creating an object\n",
    "l.details()"
   ]
  },
  {
   "cell_type": "code",
   "execution_count": 14,
   "metadata": {},
   "outputs": [
    {
     "name": "stdout",
     "output_type": "stream",
     "text": [
      "pawan 26 mech\n",
      "kalyan 25 Cse\n"
     ]
    }
   ],
   "source": [
    "class Student:\n",
    "    def __init__(self,x,y,z):\n",
    "        self.name=x\n",
    "        self.age=y\n",
    "        self.qual=z\n",
    "        \n",
    "s1=Student(\"pawan\",26,\"mech\")\n",
    "print(s1.name,s1.age,s1.qual)\n",
    "\n",
    "s2=Student(\"kalyan\",25,\"Cse\")\n",
    "print(s2.name,s2.age,s2.qual)"
   ]
  },
  {
   "cell_type": "markdown",
   "metadata": {},
   "source": [
    "## What is Object:\n",
    "- Pysical existence of a class is nothing but object. We can create any number of objects for a class.\n",
    "- syntax:-        refvariable = className()"
   ]
  },
  {
   "cell_type": "code",
   "execution_count": 15,
   "metadata": {},
   "outputs": [],
   "source": [
    "#ref variable and object creation\n",
    "s = latamFlow()"
   ]
  },
  {
   "cell_type": "code",
   "execution_count": 16,
   "metadata": {},
   "outputs": [
    {
     "name": "stdout",
     "output_type": "stream",
     "text": [
      "Practicing python..\n"
     ]
    }
   ],
   "source": [
    "class Student:\n",
    "    def read(self):\n",
    "        print(\"Practicing python..\")\n",
    "s=Student()\n",
    "s.read()"
   ]
  },
  {
   "cell_type": "markdown",
   "metadata": {},
   "source": [
    "## What is Reference Variable:\n",
    "- The variable which can be used to refer object is called reference variable.\n",
    "- By using reference variable, we can access properties and methods of that object."
   ]
  },
  {
   "cell_type": "code",
   "execution_count": 22,
   "metadata": {},
   "outputs": [
    {
     "name": "stdout",
     "output_type": "stream",
     "text": [
      "hi  pawan\n",
      "my age is: 25\n",
      "I'VE DONE MY btech\n"
     ]
    }
   ],
   "source": [
    "class LatamFlow:\n",
    "    \"\"\"lataflow trader contains trade details of a trader\"\"\"\n",
    "    def __init__(self):\n",
    "        self.name=\"pawan\"         # heart coded\n",
    "        self.age=25\n",
    "        self.qual=\"btech\"\n",
    "        \n",
    "    def details(self):\n",
    "        print(\"hi \",self.name)\n",
    "        print(\"my age is:\",self.age)\n",
    "        print(\"I'VE DONE MY\",self.qual)\n",
    "    \n",
    "s = LatamFlow()\n",
    "s.details()"
   ]
  },
  {
   "cell_type": "code",
   "execution_count": 23,
   "metadata": {},
   "outputs": [
    {
     "name": "stdout",
     "output_type": "stream",
     "text": [
      "hi  pawan\n",
      "my age is: 24\n",
      "I'VE DONE MY btech\n"
     ]
    }
   ],
   "source": [
    "class LatamFlow:\n",
    "    \"\"\"lataflow trader contains trade details of a trader\"\"\"\n",
    "    def __init__(self,n,a,q):\n",
    "        self.name=n\n",
    "        self.age=a\n",
    "        self.qual=q\n",
    "        \n",
    "    def details(self):\n",
    "        print(\"hi \",self.name)\n",
    "        print(\"my age is:\",self.age)\n",
    "        print(\"I'VE DONE MY\",self.qual)\n",
    "    \n",
    "s = LatamFlow(\"pawan\",24,\"btech\")\n",
    "s.details()"
   ]
  },
  {
   "cell_type": "code",
   "execution_count": 2,
   "metadata": {},
   "outputs": [
    {
     "data": {
      "image/png": "[encoded data removed]",
      "text/plain": [
       "<IPython.core.display.Image object>"
      ]
     },
     "execution_count": 2,
     "metadata": {},
     "output_type": "execute_result"
    }
   ],
   "source": [
    "from IPython.display import Image\n",
    "Image(\"E:/code/1.pythonofficial/img/oop2.png\")"
   ]
  },
  {
   "cell_type": "markdown",
   "metadata": {},
   "source": [
    "## Self variable:\n",
    "- self is the default variable which is always pointing to current object (like this keyword in Java)\n",
    "- By using self we can access instance variables and instance methods of object\n",
    "- inplace of self we can use any name ex: gulf"
   ]
  },
  {
   "cell_type": "markdown",
   "metadata": {},
   "source": [
    "####  Note:\n",
    "    1. self should be first parameter inside constructor def __init__(self):\n",
    "    2. self should be first parameter inside instance methods def details(self):\n",
    "    3. without self we cannot execute the program "
   ]
  },
  {
   "cell_type": "markdown",
   "metadata": {},
   "source": [
    "## Constructor Concept:(optional)\n",
    "- Constructor is a special method in python.\n",
    "- The name of the constructor should be __init__(self)\n",
    "- Constructor will be executed automatically at the time of object creation. \n",
    "- The main purpose of constructor is to declare and initialize instance variables.\n",
    "- Per object constructor will be exeucted only once.\n",
    "- Constructor can take atleast one argument(atleast self)\n",
    "- Constructor is optional and if we are not providing any constructor then python will provide default constructor."
   ]
  },
  {
   "cell_type": "code",
   "execution_count": 26,
   "metadata": {},
   "outputs": [],
   "source": [
    "class Student:\n",
    "    def __init__(self,n,a,q):\n",
    "        self.name=n\n",
    "        self.age=a\n",
    "        self.qual=q"
   ]
  },
  {
   "cell_type": "markdown",
   "metadata": {},
   "source": [
    "#### Constructor with multiple args"
   ]
  },
  {
   "cell_type": "code",
   "execution_count": 27,
   "metadata": {},
   "outputs": [
    {
     "name": "stdout",
     "output_type": "stream",
     "text": [
      "HI  \n",
      "marks 0\n",
      "HI  pawan\n",
      "marks 80\n"
     ]
    }
   ],
   "source": [
    "class Student:\n",
    "    def __init__(self,m='',n=0):\n",
    "        self.name=m\n",
    "        self.marks=n\n",
    "        \n",
    "    def display(self):\n",
    "        print(\"HI \",self.name)\n",
    "        print(\"marks\",self.marks)\n",
    "        \n",
    "s1=Student()\n",
    "s1.display()\n",
    "\n",
    "s2=Student(\"pawan\",80)\n",
    "s2.display()"
   ]
  },
  {
   "cell_type": "markdown",
   "metadata": {},
   "source": [
    "#### constructor with mandatory args"
   ]
  },
  {
   "cell_type": "code",
   "execution_count": 34,
   "metadata": {},
   "outputs": [
    {
     "name": "stdout",
     "output_type": "stream",
     "text": [
      "my name is pawan\n",
      "my age is 25\n",
      "my qual is Mech\n",
      "my name is kumar\n",
      "my age is 25\n",
      "my qual is CSE\n"
     ]
    }
   ],
   "source": [
    "class Student:\n",
    "    def __init__(self,x,y,z):\n",
    "        self.name=x\n",
    "        self.age=y\n",
    "        self.qual=z\n",
    "        \n",
    "    def talk(self):\n",
    "        print(\"my name is\",self.name)\n",
    "        print(\"my age is\",self.age)\n",
    "        print(\"my qual is\",self.qual)\n",
    "        \n",
    "s1=Student(\"pawan\",25,\"Mech\")\n",
    "s1.talk()\n",
    "\n",
    "s2=Student(\"kumar\",25,\"CSE\")\n",
    "s2.talk()"
   ]
  },
  {
   "cell_type": "code",
   "execution_count": 32,
   "metadata": {},
   "outputs": [
    {
     "name": "stdout",
     "output_type": "stream",
     "text": [
      "calling constructor\n",
      "calling constructor\n",
      "calling constructor\n",
      "calling method\n"
     ]
    }
   ],
   "source": [
    "class Test:\n",
    "    def __init__(self):\n",
    "        print(\"calling constructor\")\n",
    "        \n",
    "    def details(self):\n",
    "        print(\"calling method\")\n",
    "        \n",
    "t1=Test()\n",
    "t2=Test()\n",
    "t3=Test()\n",
    "t1.details()"
   ]
  },
  {
   "cell_type": "code",
   "execution_count": 40,
   "metadata": {},
   "outputs": [
    {
     "name": "stdout",
     "output_type": "stream",
     "text": [
      "construtor execution..\n",
      "2052165098352\n",
      "2052165098352\n",
      "construtor execution..\n",
      "2052165098352\n",
      "construtor execution..\n",
      "2052165098352\n"
     ]
    }
   ],
   "source": [
    "class Constructor:\n",
    "    def __init__(self):\n",
    "        print(\"construtor execution..\")\n",
    "        print(id(self))    # proof of self poining to current class object \n",
    "        \n",
    "c = Constructor()\n",
    "print(id(c))\n",
    "c.__init__()             # calling constructor explicitly\n",
    "c.__init__()"
   ]
  },
  {
   "cell_type": "code",
   "execution_count": 45,
   "metadata": {},
   "outputs": [
    {
     "name": "stdout",
     "output_type": "stream",
     "text": [
      "construtor execution.. 10\n",
      "construtor execution.. 100\n"
     ]
    }
   ],
   "source": [
    "class Constructor:\n",
    "    def __init__(self,x):\n",
    "        print(\"construtor execution..\",x)\n",
    "        \n",
    "c = Constructor(10)\n",
    "c.__init__(100)             # calling constructor explicitly\n"
   ]
  },
  {
   "cell_type": "markdown",
   "metadata": {},
   "source": [
    "#### NOTE: constructor overloading is not possible"
   ]
  },
  {
   "cell_type": "code",
   "execution_count": 53,
   "metadata": {},
   "outputs": [
    {
     "name": "stdout",
     "output_type": "stream",
     "text": [
      "two-arg constructor execution.. 10 20\n"
     ]
    }
   ],
   "source": [
    "class Constructor:\n",
    "    def __init__(self):\n",
    "        print(\"no arg construtor execution..\")\n",
    "        \n",
    "    def __init__(self,x):\n",
    "        print(\"one-arg constructor execution..\",x)\n",
    "        \n",
    "    def __init__(self,x,y):\n",
    "        print(\"two-arg constructor execution..\",x,y)\n",
    "        \n",
    "#c = Constructor()\n",
    "#c = Constructor(10)\n",
    "c = Constructor(10,20)"
   ]
  },
  {
   "cell_type": "code",
   "execution_count": 54,
   "metadata": {},
   "outputs": [
    {
     "name": "stdout",
     "output_type": "stream",
     "text": [
      "HI i am pawan my emp id is 25 my sal is 2600\n",
      "HI i am swamy my emp id is 100125 my sal is 32000\n"
     ]
    }
   ],
   "source": [
    "class Employee:\n",
    "    def __init__(self,x,y,z):\n",
    "        self.eid = x\n",
    "        self.ename=y\n",
    "        self.esal =z\n",
    "    \n",
    "    def emp_Details(self):\n",
    "        #print(\"HI i am\",self.ename,\"my emp id is\",self.eid,\"my sal is\",self.esal)\n",
    "        #print(\"HI i am {} my emp id is {} my sal is {}\".format(self.eid,self.ename,self.esal))\n",
    "        print(\"HI i am {1} my emp id is {0} my sal is {2}\".format(self.eid,self.ename,self.esal))   #foramttig of ouputs\n",
    "        \n",
    "e1 = Employee(25,\"pawan\",2600)\n",
    "e1.emp_Details()\n",
    "\n",
    "e2 = Employee(100125,\"swamy\",32000)\n",
    "e2.emp_Details()"
   ]
  },
  {
   "cell_type": "markdown",
   "metadata": {},
   "source": [
    "## Differences between Methods and Constructors:"
   ]
  },
  {
   "cell_type": "code",
   "execution_count": 3,
   "metadata": {},
   "outputs": [
    {
     "data": {
      "image/png": "[encoded data removed]",
      "text/plain": [
       "<IPython.core.display.Image object>"
      ]
     },
     "execution_count": 3,
     "metadata": {},
     "output_type": "execute_result"
    }
   ],
   "source": [
    "from IPython.display import Image\n",
    "Image(\"E:/code/1.pythonofficial/img/oop1.png\")"
   ]
  },
  {
   "cell_type": "code",
   "execution_count": null,
   "metadata": {},
   "outputs": [],
   "source": []
  }
 ],
 "metadata": {
  "kernelspec": {
   "display_name": "Python 3",
   "language": "python",
   "name": "python3"
  },
  "language_info": {
   "codemirror_mode": {
    "name": "ipython",
    "version": 3
   },
   "file_extension": ".py",
   "mimetype": "text/x-python",
   "name": "python",
   "nbconvert_exporter": "python",
   "pygments_lexer": "ipython3",
   "version": "3.6.5"
  }
 },
 "nbformat": 4,
 "nbformat_minor": 2
}
