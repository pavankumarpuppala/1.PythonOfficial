{
 "cells": [
  {
   "cell_type": "markdown",
   "metadata": {},
   "source": [
    "### WAP to generate Fake Employee Data for Database Operations \n",
    "- Emp Name: Pawan(Exactly 3 to 10 characters)\n",
    "- Emp number: e-1234\n",
    "- Emp salary: 10000 to 50000\n",
    "- Employee City: Madras\n",
    "- Contact : 6 to 9\n",
    "- Designation: SE, SSE, TA, TL, PM, SPM"
   ]
  },
  {
   "cell_type": "code",
   "execution_count": 7,
   "metadata": {},
   "outputs": [],
   "source": [
    "from random import *\n",
    "\n",
    "alphabets = 'abcdefghijklmnopqrstuvwxyz'\n",
    "digits = '0123456789'"
   ]
  },
  {
   "cell_type": "code",
   "execution_count": 25,
   "metadata": {},
   "outputs": [],
   "source": [
    "# randint(a,b): Return random integer in range [a, b], including both end points.\n",
    "# choice(seq): Choose a random element from a non-empty sequence."
   ]
  },
  {
   "cell_type": "code",
   "execution_count": 26,
   "metadata": {},
   "outputs": [],
   "source": [
    "def random_name():\n",
    "    name = choice(alphabets).upper()    # name = 'P'\n",
    "    n = randint(2,9)                    # n = 4\n",
    "    for i in range(n):\n",
    "        name = name+choice(alphabets)\n",
    "    return name"
   ]
  },
  {
   "cell_type": "code",
   "execution_count": 27,
   "metadata": {},
   "outputs": [],
   "source": [
    "def random_eno():\n",
    "    eno = 'e-'\n",
    "    for i in range(4):\n",
    "        eno = eno+choice(digits)\n",
    "    return eno"
   ]
  },
  {
   "cell_type": "code",
   "execution_count": 28,
   "metadata": {},
   "outputs": [],
   "source": [
    "def random_cont():\n",
    "    cont = choice('6789')\n",
    "    for i in range(9):\n",
    "        cont = cont+choice(digits)\n",
    "    return cont"
   ]
  },
  {
   "cell_type": "code",
   "execution_count": 29,
   "metadata": {},
   "outputs": [],
   "source": [
    "desg=['SE', 'SSE', 'TA', 'TL', 'PM', 'SPM']"
   ]
  },
  {
   "cell_type": "code",
   "execution_count": 30,
   "metadata": {},
   "outputs": [
    {
     "name": "stdout",
     "output_type": "stream",
     "text": [
      "Emp Name Wger\n",
      "Emp number e-8210\n",
      "Emp salary:41140.33\n",
      "Emp Location Mwej\n",
      "Emp Designation SSE\n",
      "*************************\n",
      "Emp Name Ncclisphb\n",
      "Emp number e-9021\n",
      "Emp salary:25057.94\n",
      "Emp Location Cjdekmb\n",
      "Emp Designation TL\n",
      "*************************\n",
      "Emp Name Xhdvlawoy\n",
      "Emp number e-7012\n",
      "Emp salary:18978.10\n",
      "Emp Location Mhofk\n",
      "Emp Designation SPM\n",
      "*************************\n",
      "Emp Name Yknaylm\n",
      "Emp number e-7881\n",
      "Emp salary:32463.85\n",
      "Emp Location Dxxpreijkb\n",
      "Emp Designation TL\n",
      "*************************\n",
      "Emp Name Ayladtu\n",
      "Emp number e-5330\n",
      "Emp salary:24156.15\n",
      "Emp Location Rnczo\n",
      "Emp Designation SSE\n",
      "*************************\n"
     ]
    }
   ],
   "source": [
    "def gen_empdata():\n",
    "    print(\"Emp Name\",random_name())\n",
    "    print(\"Emp number\",random_eno())\n",
    "    print(\"Emp salary:{:.2f}\".format(uniform(10000,50000)))\n",
    "    print(\"Emp Location\",random_name())\n",
    "    print(\"Emp Designation\",choice(desg))\n",
    "    \n",
    "for i in range(5):\n",
    "    gen_empdata()\n",
    "    print(\"*\"*25)"
   ]
  },
  {
   "cell_type": "code",
   "execution_count": null,
   "metadata": {},
   "outputs": [],
   "source": []
  },
  {
   "cell_type": "code",
   "execution_count": null,
   "metadata": {},
   "outputs": [],
   "source": []
  }
 ],
 "metadata": {
  "kernelspec": {
   "display_name": "Python 3",
   "language": "python",
   "name": "python3"
  },
  "language_info": {
   "codemirror_mode": {
    "name": "ipython",
    "version": 3
   },
   "file_extension": ".py",
   "mimetype": "text/x-python",
   "name": "python",
   "nbconvert_exporter": "python",
   "pygments_lexer": "ipython3",
   "version": "3.6.5"
  }
 },
 "nbformat": 4,
 "nbformat_minor": 2
}
