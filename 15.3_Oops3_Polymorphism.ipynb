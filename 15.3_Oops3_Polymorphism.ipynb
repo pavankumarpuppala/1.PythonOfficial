{
 "cells": [
  {
   "cell_type": "markdown",
   "metadata": {},
   "source": [
    "# Polymorphism: Many Forms\n",
    "\n",
    "- 1.Duck typing philosophy of python\n",
    "- 2.Overloading\n",
    "    - Operator Overloading\n",
    "    - Method Overloading(not supported)\n",
    "    - Constructor Overloading(not supported)\n",
    "- 3.Overriding\n",
    "    - Method Overriding\n",
    "    - Constructor Overriding"
   ]
  },
  {
   "cell_type": "markdown",
   "metadata": {},
   "source": [
    "### Ex1: car view : front, top, back"
   ]
  },
  {
   "cell_type": "markdown",
   "metadata": {},
   "source": [
    "### Ex2: + operator acts as concatenation and arithmetic addition"
   ]
  },
  {
   "cell_type": "code",
   "execution_count": 1,
   "metadata": {},
   "outputs": [
    {
     "data": {
      "text/plain": [
       "'pavanpuppala'"
      ]
     },
     "execution_count": 1,
     "metadata": {},
     "output_type": "execute_result"
    }
   ],
   "source": [
    "\"pavan\"+\"puppala\""
   ]
  },
  {
   "cell_type": "code",
   "execution_count": 2,
   "metadata": {},
   "outputs": [
    {
     "data": {
      "text/plain": [
       "5"
      ]
     },
     "execution_count": 2,
     "metadata": {},
     "output_type": "execute_result"
    }
   ],
   "source": [
    "3+2"
   ]
  },
  {
   "cell_type": "markdown",
   "metadata": {},
   "source": [
    "### Ex3: * operator acts as multiplication and repetition operator"
   ]
  },
  {
   "cell_type": "code",
   "execution_count": 3,
   "metadata": {},
   "outputs": [
    {
     "data": {
      "text/plain": [
       "'pavan pavan pavan '"
      ]
     },
     "execution_count": 3,
     "metadata": {},
     "output_type": "execute_result"
    }
   ],
   "source": [
    "\"pavan \"*3"
   ]
  },
  {
   "cell_type": "code",
   "execution_count": 4,
   "metadata": {},
   "outputs": [
    {
     "data": {
      "text/plain": [
       "6"
      ]
     },
     "execution_count": 4,
     "metadata": {},
     "output_type": "execute_result"
    }
   ],
   "source": [
    "3*2"
   ]
  },
  {
   "cell_type": "markdown",
   "metadata": {},
   "source": [
    "### Ex4: The Same method with different implementations in Parent class and child classes.(overriding)"
   ]
  },
  {
   "cell_type": "markdown",
   "metadata": {},
   "source": [
    "# 1. Duck Typing Philosophy of Python:\n",
    "- In Python we cannot specify the type explicitly. Based on provided value at runtime the type will be considered automatically. Hence Python is considered as Dynamically Typed Programming Language.\n",
    "- def f1(obj):\n",
    "     obj.talk()"
   ]
  },
  {
   "cell_type": "markdown",
   "metadata": {},
   "source": [
    "#### What is the type of obj? We cannot decide at the beginning. At runtime we can pass any type.Then how we can decide the type?\n",
    "- At runtime if 'it walks like a duck and talks like a duck,it must be duck'. Python follows this principle. This is called Duck Typing Philosophy of Python.\n",
    "- Duck Typing is a type system used in dynamic languages"
   ]
  },
  {
   "cell_type": "code",
   "execution_count": 5,
   "metadata": {},
   "outputs": [
    {
     "name": "stdout",
     "output_type": "stream",
     "text": [
      "21\n"
     ]
    }
   ],
   "source": [
    "class Specialstring:\n",
    "    def __len__(self):\n",
    "        return 21\n",
    "    \n",
    "if __name__ == \"__main__\":\n",
    "    str = Specialstring()\n",
    "    print(len(str))"
   ]
  },
  {
   "cell_type": "code",
   "execution_count": 6,
   "metadata": {},
   "outputs": [
    {
     "name": "stdout",
     "output_type": "stream",
     "text": [
      "Quack Quack\n",
      "Bow Bow\n",
      "Meow Meow\n",
      "may may\n"
     ]
    }
   ],
   "source": [
    "class Duck:\n",
    "    def talk(self):\n",
    "        print(\"Quack Quack\")\n",
    "        \n",
    "class Dog:\n",
    "    def talk(self):\n",
    "        print(\"Bow Bow\")\n",
    "        \n",
    "class Cat:\n",
    "    def talk(self):\n",
    "        print(\"Meow Meow\")\n",
    "        \n",
    "class Goat:\n",
    "    def talk(self):\n",
    "        print(\"may may\")\n",
    "        \n",
    "def f1(obj):\n",
    "    obj.talk()\n",
    "    \n",
    "d=[Duck(), Dog(), Cat(), Goat()]\n",
    "for i in d:\n",
    "   f1(i)"
   ]
  },
  {
   "cell_type": "markdown",
   "metadata": {},
   "source": [
    "<b>if the object does not contains talk() method then we will get Attribute error</b>"
   ]
  },
  {
   "cell_type": "code",
   "execution_count": 8,
   "metadata": {},
   "outputs": [],
   "source": [
    "class Duck:\n",
    "    def talk(self):\n",
    "        print(\"Quack Quack\")\n",
    "        \n",
    "class Dog:\n",
    "    def bark(self):\n",
    "        print(\"Bow Bow\")\n",
    "        \n",
    "def f1(obj):\n",
    "    obj.talk()\n",
    "\n",
    "d=[Duck(), Dog()]\n",
    "#for i in d:\n",
    "    #f1(i)\n",
    "    \n",
    "#AttributeError: 'Dog' object has no attribute 'talk'"
   ]
  },
  {
   "cell_type": "markdown",
   "metadata": {},
   "source": [
    "### Solution: hasattr(obj, \"attributename\") function"
   ]
  },
  {
   "cell_type": "code",
   "execution_count": 7,
   "metadata": {},
   "outputs": [
    {
     "name": "stdout",
     "output_type": "stream",
     "text": [
      "Quack Quack\n",
      "Bow Bow\n",
      "Hi Hello\n"
     ]
    }
   ],
   "source": [
    "class Duck:\n",
    "    def talk(self):\n",
    "        print(\"Quack Quack\")\n",
    "        \n",
    "class Dog:\n",
    "    def bark(self):\n",
    "        print(\"Bow Bow\")\n",
    "        \n",
    "class Human:\n",
    "    def talk(self):\n",
    "        print(\"Hi Hello\")\n",
    "\n",
    "def f1(obj):\n",
    "    if hasattr(obj,\"talk\"):\n",
    "        obj.talk()\n",
    "        \n",
    "    elif hasattr(obj,\"bark\"):\n",
    "        obj.bark()\n",
    "        \n",
    "d=Duck()\n",
    "f1(d)\n",
    "\n",
    "g=Dog()\n",
    "f1(g)\n",
    "\n",
    "h=Human()\n",
    "f1(h)"
   ]
  },
  {
   "cell_type": "code",
   "execution_count": 10,
   "metadata": {},
   "outputs": [],
   "source": [
    "class Bird: \n",
    "    def fly(self): \n",
    "        print(\"fly with wings\") \n",
    "\n",
    "class Airplane: \n",
    "    def fly(self): \n",
    "        print(\"fly with fuel\") \n",
    "\n",
    "class Fish: \n",
    "    def swim(self): \n",
    "        print(\"fish swim in sea\") \n",
    "        \n",
    "#for obj in Bird(), Airplane(), Fish(): \n",
    "    #obj.fly()"
   ]
  },
  {
   "cell_type": "markdown",
   "metadata": {},
   "source": [
    "## Overloading:-  writing two or more methods in a same class with different args\n",
    "- Operator Overloading\n",
    "- Method Overloading\n",
    "- Constructor overloading"
   ]
  },
  {
   "cell_type": "code",
   "execution_count": 9,
   "metadata": {},
   "outputs": [
    {
     "data": {
      "text/plain": [
       "15.46"
      ]
     },
     "execution_count": 9,
     "metadata": {},
     "output_type": "execute_result"
    }
   ],
   "source": [
    "__add__  +\n",
    "__sub__  "
   ]
  },
  {
   "cell_type": "markdown",
   "metadata": {},
   "source": [
    "# 1.Operator overloading\n",
    "- '+' operator acts as addition and concatenation \n",
    "- what happens when we add two objects it gives TypeError: unsupported operand type(s) for +: 'Book' and 'Book"
   ]
  },
  {
   "cell_type": "code",
   "execution_count": 11,
   "metadata": {
    "scrolled": true
   },
   "outputs": [],
   "source": [
    "class Book:\n",
    "    def __init__(self,pages):\n",
    "        self.pages=pages\n",
    "        \n",
    "b1=Book(100)\n",
    "b2=Book(200)\n",
    "#print(b1+b2)\n",
    "#TypeError: unsupported operand type(s) for +: 'Book' and 'Book'"
   ]
  },
  {
   "cell_type": "markdown",
   "metadata": {},
   "source": [
    "### Demo program to overload '+' operator for our Book class objects:\n",
    "- We can overload + operator to work with Book objects also. i.e Python supports Operator Overloading\n",
    "- for every operator magic methods are available. to overload any operator we have to override that method in our class.\n",
    "- Internally + operator is implemented by using __add__() method.This method is called magic method for + operator. We have to override this method in our class."
   ]
  },
  {
   "cell_type": "code",
   "execution_count": 12,
   "metadata": {},
   "outputs": [
    {
     "name": "stdout",
     "output_type": "stream",
     "text": [
      "300\n"
     ]
    }
   ],
   "source": [
    "class Book:\n",
    "    def __init__(self,pages):\n",
    "        self.pages=pages\n",
    "    \n",
    "    def __add__(self,other):\n",
    "        return self.pages+other.pages       # return type is 'int'\n",
    "b1=Book(100)\n",
    "b2=Book(200)\n",
    "print(b1+b2)"
   ]
  },
  {
   "cell_type": "code",
   "execution_count": 8,
   "metadata": {},
   "outputs": [
    {
     "name": "stdout",
     "output_type": "stream",
     "text": [
      "<class 'int'>\n",
      "<class 'int'>\n",
      "<__main__.Book object at 0x000002B1F00089E8>\n",
      "<class 'int'>\n",
      "300\n",
      "<class 'int'>\n",
      "600\n"
     ]
    }
   ],
   "source": [
    "class Book:\n",
    "    def __init__(self,pages):\n",
    "        self.pages = pages\n",
    "        \n",
    "    def __add__(self,other):\n",
    "        a =  self.pages+other.pages\n",
    "        print(type(a))\n",
    "        return Book(a)\n",
    "    \n",
    "b1 = Book(100)\n",
    "b2 = Book(200)\n",
    "b3 = Book(300)\n",
    "print(b1+b2+b3)          # here we are using + for two times so __ add __ calling two times\n",
    "b = b1+b2\n",
    "print(b.pages)\n",
    "bb = b+b3\n",
    "print(bb.pages)"
   ]
  },
  {
   "cell_type": "markdown",
   "metadata": {},
   "source": [
    "<b>Whenever we are printing obj ref. internally _str__() will be called</b>"
   ]
  },
  {
   "cell_type": "code",
   "execution_count": 30,
   "metadata": {},
   "outputs": [
    {
     "name": "stdout",
     "output_type": "stream",
     "text": [
      "name:pawan and company:accenture\n",
      "name:kumar and company:braodridge\n"
     ]
    }
   ],
   "source": [
    "#understanding about str()\n",
    "class Employee:\n",
    "    def __init__(self,name,company):\n",
    "        self.name = name\n",
    "        self.company = company\n",
    "        \n",
    "    def __str__(self):\n",
    "        return \"name:{} and company:{}\".format(self.name,self.company)\n",
    "        \n",
    "e1 = Employee(\"pawan\",\"accenture\")\n",
    "e2 = Employee(\"kumar\",\"braodridge\")\n",
    "print(e1)        # To print the values of an object we have to override the _str_() method\n",
    "print(e2)\n"
   ]
  },
  {
   "cell_type": "code",
   "execution_count": 31,
   "metadata": {},
   "outputs": [
    {
     "name": "stdout",
     "output_type": "stream",
     "text": [
      "Book1 object: str method\n",
      "100\n",
      "<class 'int'>\n",
      "Book1+Book2 object: str method\n",
      "300\n",
      "<class 'int'>\n",
      "<class 'int'>\n",
      "Book1+Book2+Book3 object: str method\n",
      "600\n",
      "<class 'int'>\n",
      "<class 'int'>\n",
      "<class 'int'>\n",
      "str method\n",
      "650\n"
     ]
    }
   ],
   "source": [
    "class Book:\n",
    "    def __init__(self,pages):\n",
    "        self.pages = pages\n",
    "        \n",
    "    def __add__(self,other):\n",
    "        a =  self.pages+other.pages\n",
    "        print(type(a))\n",
    "        return Book(a)\n",
    "    \n",
    "    def __str__(self):\n",
    "        print(\"str method\")\n",
    "        return str(self.pages)\n",
    "    \n",
    "b1 = Book(100)\n",
    "b2 = Book(200)\n",
    "b3 = Book(300)\n",
    "b4 = Book(50)\n",
    "print(\"Book1 object:\",b1)             # whenever we are printing obj ref. it calls _str__() and returns pages in string type \n",
    "print(\"Book1+Book2 object:\",b1+b2)    # _add_() --> _str_() --> returns pages in string type \n",
    "print(\"Book1+Book2+Book3 object:\",b1+b2+b3) # 2 times __add_() --> _str_() --> returns pages in string type\n",
    "print(b1+b2+b3+b4)                         # 3 times __add_() --> _str_() --> returns pages in string type"
   ]
  },
  {
   "cell_type": "markdown",
   "metadata": {},
   "source": [
    "### Overloading > and <= operators for Student class objects:"
   ]
  },
  {
   "cell_type": "code",
   "execution_count": 13,
   "metadata": {},
   "outputs": [
    {
     "name": "stdout",
     "output_type": "stream",
     "text": [
      "10>20: False\n",
      "s1>s2 True\n",
      "s1<s2 False\n"
     ]
    }
   ],
   "source": [
    "class Student:\n",
    "    def __init__(self,name,marks):\n",
    "        self.name=name\n",
    "        self.marks=marks\n",
    "        \n",
    "    def __gt__(self,other):\n",
    "        return self.marks>=other.marks\n",
    "    def __le__(self,other):\n",
    "        return self.marks<=other.marks\n",
    "\n",
    "print(\"10>20:\",10>20)\n",
    "s1=Student(\"pawan\",95)\n",
    "s2=Student(\"prem\",80)\n",
    "print(\"s1>s2\",s1>s2)\n",
    "print(\"s1<s2\",s1<s2)"
   ]
  },
  {
   "cell_type": "markdown",
   "metadata": {},
   "source": [
    "## Program to overload multiplication operator to work on Employee objects:"
   ]
  },
  {
   "cell_type": "code",
   "execution_count": 14,
   "metadata": {},
   "outputs": [
    {
     "name": "stdout",
     "output_type": "stream",
     "text": [
      "total salary for a month: 3000\n"
     ]
    }
   ],
   "source": [
    "class Employee:\n",
    "    def __init__(self,name,salary):\n",
    "        self.name=name\n",
    "        self.salary=salary\n",
    "        \n",
    "    def __mul__(self,other):\n",
    "        return self.salary*other.days\n",
    "    \n",
    "    \n",
    "class Timesheet:\n",
    "    def __init__(self,name,days):\n",
    "        self.name=name\n",
    "        self.days=days\n",
    "        \n",
    "e=Employee(\"pawan\",100)\n",
    "t=Timesheet(\"Pawan\",30)\n",
    "print(\"total salary for a month:\",e*t)"
   ]
  },
  {
   "cell_type": "markdown",
   "metadata": {},
   "source": [
    "## 2.method overloading\n",
    "- writing two or more methods with same name but different type of arguments in same class\n",
    "- m1(10)\n",
    "- m1(10,20,30)"
   ]
  },
  {
   "cell_type": "markdown",
   "metadata": {},
   "source": [
    "<b>But in Python Method overloading is not possible.</b><br>\n",
    "<b>If we are trying to declare multiple methods with same name and different number of arguments then Python will always consider only last method</b>"
   ]
  },
  {
   "cell_type": "code",
   "execution_count": 1,
   "metadata": {},
   "outputs": [
    {
     "name": "stdout",
     "output_type": "stream",
     "text": [
      "two arg method\n"
     ]
    }
   ],
   "source": [
    "class Test:\n",
    "    def m1(self):\n",
    "        print(\"no-arg method\")\n",
    "        \n",
    "    def m1(self,a):\n",
    "        print(\"one-arg method\")\n",
    "        \n",
    "    def m1(self,a,b):\n",
    "        print(\"two arg method\")\n",
    "        \n",
    "t=Test()\n",
    "#t.m1()      #TypeError: m1() missing 2 required positional arguments: 'a' and 'b'\n",
    "#t.m1(10)   #TypeError: m1() missing 1 required positional argument: 'b'\n",
    "t.m1(10,20)"
   ]
  },
  {
   "cell_type": "markdown",
   "metadata": {},
   "source": [
    "<b>To overcome this we use default arguments or variable no. of arguments</b>"
   ]
  },
  {
   "cell_type": "markdown",
   "metadata": {},
   "source": [
    "### Demo Program with Default Arguments:"
   ]
  },
  {
   "cell_type": "code",
   "execution_count": 5,
   "metadata": {},
   "outputs": [
    {
     "name": "stdout",
     "output_type": "stream",
     "text": [
      "please provide 2 or 3 args\n",
      "the number is: 10\n",
      "sum of 2 numbers is: 30\n",
      "sum of 3 numbers is: 40\n"
     ]
    }
   ],
   "source": [
    "class Test:\n",
    "    def sum(self,a=None,b=None,c=None):\n",
    "        if a!=None and b!=None and c!=None:\n",
    "            print(\"sum of 3 numbers is:\",a+b+c)\n",
    "        elif a!=None and b!=None:\n",
    "            print(\"sum of 2 numbers is:\",a+b)\n",
    "        elif a!=None:\n",
    "            print(\"the number is:\",a)\n",
    "        else:\n",
    "            print(\"please provide 2 or 3 args\")\n",
    "            \n",
    "t=Test()\n",
    "t.sum()\n",
    "t.sum(10)\n",
    "t.sum(10,20)\n",
    "t.sum(10,20,10)"
   ]
  },
  {
   "cell_type": "markdown",
   "metadata": {},
   "source": [
    "### Demo Program with Variable Number of Arguments:"
   ]
  },
  {
   "cell_type": "code",
   "execution_count": 9,
   "metadata": {},
   "outputs": [
    {
     "name": "stdout",
     "output_type": "stream",
     "text": [
      "total sum is: 0\n",
      "total sum is: 10\n",
      "total sum is: 30\n",
      "total sum is: 60\n"
     ]
    }
   ],
   "source": [
    "class Test:\n",
    "    def sum(self,*a):             # variable arguments store the values internally in the form of tuple\n",
    "        total=0\n",
    "        for x in a:\n",
    "            total=total+x\n",
    "        print(\"total sum is:\",total)\n",
    "        \n",
    "t=Test()\n",
    "t.sum()\n",
    "t.sum(10)\n",
    "t.sum(10,20)\n",
    "t.sum(10,20,30)"
   ]
  },
  {
   "cell_type": "markdown",
   "metadata": {},
   "source": [
    "# 3.  Constructor overloading"
   ]
  },
  {
   "cell_type": "markdown",
   "metadata": {},
   "source": [
    "<b>Constructor overloading is not possible in Python.</b><br>\n",
    "<b>If we define multiple constructors then the last constructor will be considered..</b>"
   ]
  },
  {
   "cell_type": "code",
   "execution_count": 16,
   "metadata": {},
   "outputs": [
    {
     "name": "stdout",
     "output_type": "stream",
     "text": [
      "two arg method\n"
     ]
    }
   ],
   "source": [
    "class Test:\n",
    "    def __init__(self):\n",
    "        print(\"no-arg method\")\n",
    "        \n",
    "    def __init__(self,a):\n",
    "        print(\"one-arg method\")\n",
    "        \n",
    "    def __init__(self,a,b):\n",
    "        print(\"two arg method\")\n",
    "        \n",
    "#t=Test()  #TypeError: __init__() missing 2 required positional arguments: 'a' and 'b'\n",
    "#t=Test(10)  #TypeError: __init__() missing 1 required positional argument: 'b'\n",
    "t=Test(10,20)"
   ]
  },
  {
   "cell_type": "markdown",
   "metadata": {},
   "source": [
    "<b>To overcome this we use default arguments or variable no. of arguments</b>"
   ]
  },
  {
   "cell_type": "markdown",
   "metadata": {},
   "source": [
    "### Constructor with Default Arguments:"
   ]
  },
  {
   "cell_type": "code",
   "execution_count": 17,
   "metadata": {},
   "outputs": [
    {
     "name": "stdout",
     "output_type": "stream",
     "text": [
      "constructor with 1 or 2 or 3 args\n",
      "constructor with 1 or 2 or 3 args\n",
      "constructor with 1 or 2 or 3 args\n",
      "constructor with 1 or 2 or 3 args\n"
     ]
    }
   ],
   "source": [
    "class Test:\n",
    "    def __init__(self,a=None,b=None,c=None):\n",
    "        print(\"constructor with 1 or 2 or 3 args\")\n",
    "        \n",
    "t=Test()\n",
    "t1=Test(10)\n",
    "t2=Test(10,20)\n",
    "t3=Test(10,20,30)"
   ]
  },
  {
   "cell_type": "markdown",
   "metadata": {},
   "source": [
    "### Constructor with Variable Number of Arguments:"
   ]
  },
  {
   "cell_type": "code",
   "execution_count": 18,
   "metadata": {},
   "outputs": [
    {
     "name": "stdout",
     "output_type": "stream",
     "text": [
      "constructor with 1 or 2 or 3 args\n",
      "constructor with 1 or 2 or 3 args\n",
      "constructor with 1 or 2 or 3 args\n",
      "constructor with 1 or 2 or 3 args\n",
      "constructor with 1 or 2 or 3 args\n"
     ]
    }
   ],
   "source": [
    "class Test:\n",
    "    def __init__(self,*a):\n",
    "        print(\"constructor with 1 or 2 or 3 args\")\n",
    "\n",
    "t=Test()\n",
    "t1=Test(10)\n",
    "t2=Test(10,20)\n",
    "t3=Test(10,20,30)\n",
    "t4=Test(10,3,4,5,6,7)"
   ]
  },
  {
   "cell_type": "markdown",
   "metadata": {},
   "source": [
    "# Method overriding:\n",
    "- What ever members available in the parent class are by default available to the child class through inheritance.\n",
    "- If the child class not satisfied with parent class implementation then child class is allowed to redefine that method in the child class based on its requirement. This concept is called overriding.\n",
    "- writing two or more methods in two different classes with same name and args\n",
    "- Overriding concept applicable for both methods and constructors."
   ]
  },
  {
   "cell_type": "code",
   "execution_count": 15,
   "metadata": {},
   "outputs": [
    {
     "name": "stdout",
     "output_type": "stream",
     "text": [
      "Asserts from parents\n",
      "Exporting fishes and prawns\n"
     ]
    }
   ],
   "source": [
    "class P:\n",
    "    def property(self):\n",
    "        print(\"Asserts from parents\")\n",
    "    def business(self):\n",
    "        print('Real estate and Construction..')\n",
    "        \n",
    "class C(P):\n",
    "    def business(self):\n",
    "        print('Exporting fishes and prawns')\n",
    "        \n",
    "c=C()\n",
    "c.property()\n",
    "c.business()"
   ]
  },
  {
   "cell_type": "markdown",
   "metadata": {},
   "source": [
    "#### From Overriding method of child class,we can call parent class method also by using super() method."
   ]
  },
  {
   "cell_type": "code",
   "execution_count": 17,
   "metadata": {},
   "outputs": [
    {
     "name": "stdout",
     "output_type": "stream",
     "text": [
      "Asserts from parents\n",
      "Real estate and Construction..\n",
      "Exporting fishes and prawns\n"
     ]
    }
   ],
   "source": [
    "class P:\n",
    "    def property(self):\n",
    "        print(\"Asserts from parents\")\n",
    "    def business(self):\n",
    "        print('Real estate and Construction..')\n",
    "        \n",
    "class C(P):\n",
    "    def business(self):\n",
    "        super().business()\n",
    "        print('Exporting fishes and prawns')\n",
    "        \n",
    "c=C()\n",
    "c.property()\n",
    "c.business()"
   ]
  },
  {
   "cell_type": "markdown",
   "metadata": {},
   "source": [
    "# 2.Demo Program for Constructor overriding:"
   ]
  },
  {
   "cell_type": "code",
   "execution_count": 21,
   "metadata": {},
   "outputs": [
    {
     "name": "stdout",
     "output_type": "stream",
     "text": [
      "child constructor..\n"
     ]
    }
   ],
   "source": [
    "class P:\n",
    "    def __init__(self):\n",
    "        print(\"parent constructor..\")\n",
    "        \n",
    "class C(P):\n",
    "    def __init__(self):\n",
    "        print(\"child constructor..\")\n",
    "        \n",
    "c=C()"
   ]
  },
  {
   "cell_type": "markdown",
   "metadata": {},
   "source": [
    "#### - In the above example,if child class does not contain constructor then parent class constructor will be executed\n",
    "#### - From child class constuctor we can call parent class constructor by using super() method."
   ]
  },
  {
   "cell_type": "code",
   "execution_count": 18,
   "metadata": {},
   "outputs": [
    {
     "name": "stdout",
     "output_type": "stream",
     "text": [
      "parent constructor..\n",
      "child constructor..\n"
     ]
    }
   ],
   "source": [
    "class P:\n",
    "    def __init__(self):\n",
    "        print(\"parent constructor..\")\n",
    "        \n",
    "class C(P):\n",
    "    def __init__(self):\n",
    "        super().__init__()\n",
    "        print(\"child constructor..\")\n",
    "        \n",
    "c=C()"
   ]
  },
  {
   "cell_type": "code",
   "execution_count": 19,
   "metadata": {},
   "outputs": [
    {
     "name": "stdout",
     "output_type": "stream",
     "text": [
      "parent constructor..\n"
     ]
    }
   ],
   "source": [
    "class P:\n",
    "    def __init__(self):\n",
    "        print(\"parent constructor..\")\n",
    "        \n",
    "class C(P):\n",
    "    pass\n",
    "        \n",
    "c=C()"
   ]
  },
  {
   "cell_type": "markdown",
   "metadata": {},
   "source": [
    "# Demo Program to call Parent class constructor by using super():"
   ]
  },
  {
   "cell_type": "code",
   "execution_count": 20,
   "metadata": {},
   "outputs": [
    {
     "name": "stdout",
     "output_type": "stream",
     "text": [
      "my name is: pawan age is: 26 my salary is: 10000 technology is: python\n"
     ]
    }
   ],
   "source": [
    "class Person:\n",
    "    def __init__(self,name,age):\n",
    "        self.name=name\n",
    "        self.age=age\n",
    "        \n",
    "class Employee(Person):\n",
    "    def __init__(self,name,age,salary,tech):\n",
    "        super().__init__(name,age)\n",
    "        self.salary=salary\n",
    "        self.tech=tech\n",
    "        \n",
    "    def display(self):\n",
    "        print(\"my name is:\",self.name,\"age is:\",self.age,\"my salary is:\",self.salary,\"technology is:\",self.tech)\n",
    "        \n",
    "e=Employee(\"pawan\",26,10000,\"python\")\n",
    "e.display()"
   ]
  },
  {
   "cell_type": "code",
   "execution_count": null,
   "metadata": {},
   "outputs": [],
   "source": []
  },
  {
   "cell_type": "code",
   "execution_count": null,
   "metadata": {},
   "outputs": [],
   "source": []
  },
  {
   "cell_type": "code",
   "execution_count": null,
   "metadata": {},
   "outputs": [],
   "source": []
  }
 ],
 "metadata": {
  "kernelspec": {
   "display_name": "Python 3",
   "language": "python",
   "name": "python3"
  },
  "language_info": {
   "codemirror_mode": {
    "name": "ipython",
    "version": 3
   },
   "file_extension": ".py",
   "mimetype": "text/x-python",
   "name": "python",
   "nbconvert_exporter": "python",
   "pygments_lexer": "ipython3",
   "version": "3.6.5"
  }
 },
 "nbformat": 4,
 "nbformat_minor": 2
}
