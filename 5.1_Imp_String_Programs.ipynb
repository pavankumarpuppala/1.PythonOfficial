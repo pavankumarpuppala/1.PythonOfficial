{
 "cells": [
  {
   "cell_type": "markdown",
   "metadata": {},
   "source": [
    "#### Q1. Write a program to reverse the given String"
   ]
  },
  {
   "cell_type": "code",
   "execution_count": 2,
   "metadata": {},
   "outputs": [
    {
     "name": "stdout",
     "output_type": "stream",
     "text": [
      "Enter the String:pawan\n"
     ]
    },
    {
     "data": {
      "text/plain": [
       "'nawap'"
      ]
     },
     "execution_count": 2,
     "metadata": {},
     "output_type": "execute_result"
    }
   ],
   "source": [
    "s=input(\"Enter the String:\")\n",
    "s[::-1]"
   ]
  },
  {
   "cell_type": "code",
   "execution_count": 6,
   "metadata": {},
   "outputs": [
    {
     "name": "stdout",
     "output_type": "stream",
     "text": [
      "Enter the String:pawan\n"
     ]
    },
    {
     "data": {
      "text/plain": [
       "'nawap'"
      ]
     },
     "execution_count": 6,
     "metadata": {},
     "output_type": "execute_result"
    }
   ],
   "source": [
    "s = input(\"Enter the String:\")\n",
    "''.join(reversed(s))"
   ]
  },
  {
   "cell_type": "code",
   "execution_count": 7,
   "metadata": {},
   "outputs": [
    {
     "name": "stdout",
     "output_type": "stream",
     "text": [
      "Enter the String:pawan\n",
      "nawap"
     ]
    }
   ],
   "source": [
    "s = input(\"Enter the String:\")\n",
    "for x in reversed(s):\n",
    "    print(x,end='')"
   ]
  },
  {
   "cell_type": "code",
   "execution_count": 9,
   "metadata": {},
   "outputs": [
    {
     "name": "stdout",
     "output_type": "stream",
     "text": [
      "Enter the String:pawan\n",
      "nawap\n"
     ]
    }
   ],
   "source": [
    "s = input(\"Enter the String:\")\n",
    "i = len(s)-1\n",
    "output = ''\n",
    "while i>=0:\n",
    "    output = output+s[i]\n",
    "    i = i-1\n",
    "print(output)"
   ]
  },
  {
   "cell_type": "markdown",
   "metadata": {},
   "source": [
    "#### Q2. Program to reverse order of words."
   ]
  },
  {
   "cell_type": "code",
   "execution_count": 35,
   "metadata": {},
   "outputs": [
    {
     "name": "stdout",
     "output_type": "stream",
     "text": [
      "puppala kumar pawan\n"
     ]
    }
   ],
   "source": [
    "s = \"pawan kumar puppala\"\n",
    "l = s.split()            #  [\"pawan\",\"kumar\",\"puppala\"]\n",
    "l1 = []\n",
    "i = len(l)-1             #  i = 3-1\n",
    "\n",
    "while i>=0:              # while 2>=0:\n",
    "    l1.append(l[i])\n",
    "    i = i-1\n",
    "#print(l1)\n",
    "output = ' '.join(l1)\n",
    "print(output)"
   ]
  },
  {
   "cell_type": "markdown",
   "metadata": {},
   "source": [
    "#### Q3. Program to reverse internal content of each word."
   ]
  },
  {
   "cell_type": "code",
   "execution_count": 36,
   "metadata": {},
   "outputs": [
    {
     "name": "stdout",
     "output_type": "stream",
     "text": [
      "nawap ramuk alappup\n"
     ]
    }
   ],
   "source": [
    "s = \"pawan kumar puppala\"\n",
    "l = s.split()               #  [\"pawan\",\"kumar\",\"puppala\"]\n",
    "l1 = []\n",
    "i = 0\n",
    "\n",
    "while i<len(l):            # while 0<3\n",
    "    l1.append(l[i][::-1])\n",
    "    i = i+1\n",
    "#print(l1)\n",
    "output = ' '.join(l1)\n",
    "print(output)"
   ]
  },
  {
   "cell_type": "code",
   "execution_count": 38,
   "metadata": {},
   "outputs": [
    {
     "name": "stdout",
     "output_type": "stream",
     "text": [
      "nawap ramuk alappup\n"
     ]
    }
   ],
   "source": [
    "s = \"pawan kumar puppala\"\n",
    "l = s.split()\n",
    "l1 = []\n",
    "\n",
    "for x in l:\n",
    "    l1.append(x[::-1])\n",
    "output = ' '.join(l1)\n",
    "print(output)"
   ]
  },
  {
   "cell_type": "markdown",
   "metadata": {},
   "source": [
    "#### Q4. Write a program to print characters at odd position and even position for the given String?"
   ]
  },
  {
   "cell_type": "code",
   "execution_count": 40,
   "metadata": {},
   "outputs": [
    {
     "name": "stdout",
     "output_type": "stream",
     "text": [
      "characters at even position: pwnkmrppaa\n",
      "characters at odd position: aa ua upl\n"
     ]
    }
   ],
   "source": [
    "s = \"pawan kumar puppala\"\n",
    "print(\"characters at even position:\",s[0::2])\n",
    "print(\"characters at odd position:\",s[1::2])"
   ]
  },
  {
   "cell_type": "code",
   "execution_count": 44,
   "metadata": {},
   "outputs": [
    {
     "name": "stdout",
     "output_type": "stream",
     "text": [
      "characters at even position:\n",
      "p,w,n,k,m,r,p,p,a,a,\n",
      "characters at odd position:\n",
      "a,a, ,u,a, ,u,p,l,"
     ]
    }
   ],
   "source": [
    "s = \"pawan kumar puppala\"\n",
    "\n",
    "print(\"characters at even position:\")\n",
    "i = 0\n",
    "while i<len(s):\n",
    "    print(s[i],end=',')\n",
    "    i = i+2\n",
    "print()\n",
    "\n",
    "print(\"characters at odd position:\")\n",
    "i = 1\n",
    "while i<len(s):\n",
    "    print(s[i],end=',')\n",
    "    i = i+2"
   ]
  },
  {
   "cell_type": "markdown",
   "metadata": {},
   "source": [
    "#### Q5. Program to merge characters of 2 strings into a single string by taking characters alternatively."
   ]
  },
  {
   "cell_type": "code",
   "execution_count": 46,
   "metadata": {},
   "outputs": [
    {
     "name": "stdout",
     "output_type": "stream",
     "text": [
      "enter the first string:pvn\n",
      "enter the second string:aa\n",
      "pavan\n"
     ]
    }
   ],
   "source": [
    "s1 = input(\"enter the first string:\")\n",
    "s2 = input(\"enter the second string:\")\n",
    "op = ''\n",
    "i,j = 0,0\n",
    "\n",
    "while i<len(s1) or j<len(s2):\n",
    "    if i<len(s1):\n",
    "        op = op+s1[i]\n",
    "        i = i+1\n",
    "    \n",
    "    if j<len(s2):\n",
    "        op = op+s2[j]\n",
    "        j = j+1\n",
    "print(op)"
   ]
  },
  {
   "cell_type": "code",
   "execution_count": null,
   "metadata": {},
   "outputs": [],
   "source": []
  }
 ],
 "metadata": {
  "kernelspec": {
   "display_name": "Python 3",
   "language": "python",
   "name": "python3"
  },
  "language_info": {
   "codemirror_mode": {
    "name": "ipython",
    "version": 3
   },
   "file_extension": ".py",
   "mimetype": "text/x-python",
   "name": "python",
   "nbconvert_exporter": "python",
   "pygments_lexer": "ipython3",
   "version": "3.6.5"
  }
 },
 "nbformat": 4,
 "nbformat_minor": 2
}
